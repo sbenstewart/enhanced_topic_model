{
 "cells": [
  {
   "cell_type": "code",
   "execution_count": 1,
   "metadata": {
    "collapsed": false
   },
   "outputs": [
    {
     "name": "stderr",
     "output_type": "stream",
     "text": [
      "Using TensorFlow backend.\n"
     ]
    }
   ],
   "source": [
    "%matplotlib inline\n",
    "import numpy as np\n",
    "import time\n",
    "import h5py\n",
    "import keras\n",
    "import pandas as pd\n",
    "import math\n",
    "import joblib\n",
    "\n",
    "from sklearn.model_selection import train_test_split\n",
    "from IPython.display import display\n",
    "\n",
    "from keras.layers import Input, Dense, Lambda, Flatten, Reshape, BatchNormalization, Activation, Dropout\n",
    "from keras.optimizers import RMSprop, Adam, SGD\n",
    "from keras.models import Model\n",
    "from keras import backend as K\n",
    "from keras_tqdm import TQDMNotebookCallback"
   ]
  },
  {
   "cell_type": "markdown",
   "metadata": {},
   "source": [
    "# Load SVHN dataset"
   ]
  },
  {
   "cell_type": "code",
   "execution_count": 2,
   "metadata": {
    "collapsed": false
   },
   "outputs": [
    {
     "name": "stdout",
     "output_type": "stream",
     "text": [
      "Full Dataset - DType X=uint8, y=uint8\n",
      "Full Dataset - Shape X=(630000, 32, 32, 3), y=(630000, 1)\n",
      "Train - Shape X=(567000, 32, 32, 3), y=(63000, 1)\n",
      "Test - Shape X=(63000, 32, 32, 3), y=(63000, 1)\n"
     ]
    }
   ],
   "source": [
    "f = h5py.File(\"../../data/svhn/svhn_format_2.hdf5\", \"r\")\n",
    "X_dataset, y_dataset = list(f.items())\n",
    "\n",
    "# Use a nice round number divisible by our batch size\n",
    "N=630000\n",
    "\n",
    "X_dataset, y_dataset = np.moveaxis(X_dataset[1][:N], 1, 3), y_dataset[1][:N]\n",
    "print (\"Full Dataset - DType X=%s, y=%s\" % (X_dataset.dtype, y_dataset.dtype))\n",
    "print (\"Full Dataset - Shape X=%s, y=%s\" % (X_dataset.shape, y_dataset.shape))\n",
    "\n",
    "# Extract out our train/validation set\n",
    "X_train, X_test, y_train, y_test = train_test_split(X_dataset, y_dataset, test_size=0.1)\n",
    "print (\"Train - Shape X=%s, y=%s\" % (X_train.shape, y_test.shape))\n",
    "print (\"Test - Shape X=%s, y=%s\" % (X_test.shape, y_test.shape))\n",
    "\n",
    "# Save some RAM\n",
    "del X_dataset\n",
    "del y_dataset"
   ]
  },
  {
   "cell_type": "markdown",
   "metadata": {},
   "source": [
    "# Load PCA model"
   ]
  },
  {
   "cell_type": "markdown",
   "metadata": {},
   "source": [
    "(see corresponding `process_svhn.ipynb` notebook)"
   ]
  },
  {
   "cell_type": "code",
   "execution_count": 3,
   "metadata": {
    "collapsed": false
   },
   "outputs": [
    {
     "data": {
      "text/plain": [
       "PCA(copy=True, iterated_power='auto', n_components=500, random_state=None,\n",
       "  svd_solver='auto', tol=0.0, whiten=False)"
      ]
     },
     "execution_count": 3,
     "metadata": {},
     "output_type": "execute_result"
    }
   ],
   "source": [
    "pca_model_file = 'saved_models/pca_500.pkl'\n",
    "pca = joblib.load(pca_model_file)\n",
    "n_components = pca.n_components_\n",
    "pca"
   ]
  },
  {
   "cell_type": "markdown",
   "metadata": {},
   "source": [
    "# Data Generator"
   ]
  },
  {
   "cell_type": "markdown",
   "metadata": {},
   "source": [
    "Create a data generator so we don't have to store the entire transformed dataset in RAM.  We'll transform to PCA space on the fly to simplify things (and save RAM)."
   ]
  },
  {
   "cell_type": "code",
   "execution_count": 4,
   "metadata": {
    "collapsed": false
   },
   "outputs": [
    {
     "name": "stdout",
     "output_type": "stream",
     "text": [
      "Shape X_test=(63000, 32, 32, 3)\n",
      "Shape X_test_pca=(63000, 500)\n"
     ]
    }
   ],
   "source": [
    "def data_generator(X_data, pca, batch_size):\n",
    "    while True:\n",
    "        index = np.arange(len(X_data))\n",
    "        np.random.shuffle(index)\n",
    "        for i in range(len(X_data) // batch_size):\n",
    "            x_batch = pca.transform(X_data[index[i * batch_size: (i + 1) * batch_size]].reshape(batch_size, -1) / 255.)\n",
    "            yield x_batch, x_batch\n",
    "\n",
    "# Test the data generator out\n",
    "X_test_pca = pca.transform(X_test.reshape(len(X_test), -1) / 255.)\n",
    "print(\"Shape X_test=%s\" % str(X_test.shape))\n",
    "print(\"Shape X_test_pca=%s\" % str(X_test_pca.shape))"
   ]
  },
  {
   "cell_type": "markdown",
   "metadata": {},
   "source": [
    "# Variational Autoencoder Parameters"
   ]
  },
  {
   "cell_type": "code",
   "execution_count": 5,
   "metadata": {
    "collapsed": false
   },
   "outputs": [],
   "source": [
    "img_rows, img_cols, img_chns = 32, 32, 3\n",
    "\n",
    "if K.image_data_format() == 'channels_first':\n",
    "    original_img_size = (img_chns, img_rows, img_cols)\n",
    "else:\n",
    "    original_img_size = (img_rows, img_cols, img_chns)\n",
    "\n",
    "batch_size = 1000\n",
    "latent_dim = 512\n",
    "intermediate_dim = 2048\n",
    "epsilon_std = 1.0\n",
    "epochs = 2000\n",
    "activation = 'relu'\n",
    "dropout = 0.2\n",
    "var_epsilon = 0.010\n",
    "learning_rate = 0.0001"
   ]
  },
  {
   "cell_type": "markdown",
   "metadata": {},
   "source": [
    "# Encoder Network\n",
    "\n",
    "* Input layer - 1000 dimensions(PCA transformed space)\n",
    "* 3 fully connected dense layers (batch norm, 'relu' activiation, dropout) - 2048 neurons each\n",
    "* z_mean and z_log_var each have 2 separate fully connected dense layers (batch norm, 'relu' activation, dropout) - 2048 neurons each\n",
    "* z_mean and z_log_var each have 1 final fully connected dense layer (no activation, no norm, no dropout) to translate to parameters of the \"z\" Gaussian latent variables (512 dimensional)\n",
    "\n",
    "Note: I'm using the Keras' functional API here, but I suspect it would be much cleaner if I used the sequential API.  That or just write some functions to wrap things in a bit of a nicer way.  I was too lazy to clean up the repetition but maybe I'll try that next time."
   ]
  },
  {
   "cell_type": "code",
   "execution_count": 6,
   "metadata": {
    "collapsed": false
   },
   "outputs": [],
   "source": [
    "x = Input(batch_shape=(batch_size,) + (n_components,))\n",
    "\n",
    "batch_1 = BatchNormalization()(x)\n",
    "hidden1_dense = Dense(intermediate_dim)(batch_1)\n",
    "hidden1_batch = BatchNormalization()(hidden1_dense)\n",
    "hidden1 = Activation(activation)(hidden1_batch)\n",
    "dropout_1 = Dropout(dropout)(hidden1)\n",
    "\n",
    "hidden2_dense = Dense(intermediate_dim)(dropout_1)\n",
    "hidden2_batch = BatchNormalization()(hidden2_dense)\n",
    "hidden2 = Activation(activation)(hidden2_batch)\n",
    "dropout_2 = Dropout(dropout)(hidden2)\n",
    "\n",
    "hidden3_dense = Dense(intermediate_dim)(dropout_2)\n",
    "hidden3_batch = BatchNormalization()(hidden3_dense)\n",
    "hidden3 = Activation(activation)(hidden3_batch)\n",
    "dropout_3 = Dropout(dropout)(hidden3)\n",
    "\n",
    "z_mean_1_dense = Dense(intermediate_dim)(dropout_3)\n",
    "z_mean_1_batch = BatchNormalization()(z_mean_1_dense)\n",
    "z_mean_1 = Activation(activation)(z_mean_1_batch)\n",
    "z_mean_dropout_1 = Dropout(dropout)(z_mean_1)\n",
    "\n",
    "z_mean_2_dense = Dense(intermediate_dim)(z_mean_dropout_1)\n",
    "z_mean_2_batch = BatchNormalization()(z_mean_2_dense)\n",
    "z_mean_2 = Activation(activation)(z_mean_2_batch)\n",
    "z_mean_dropout_2 = Dropout(dropout)(z_mean_2)\n",
    "z_mean = Dense(latent_dim)(z_mean_dropout_2)\n",
    "\n",
    "z_log_var_1_dense = Dense(intermediate_dim)(dropout_3)\n",
    "z_log_var_1_batch = BatchNormalization()(z_log_var_1_dense)\n",
    "z_log_var_1 = Activation(activation)(z_log_var_1_batch)\n",
    "z_log_var_dropout_1 = Dropout(dropout)(z_log_var_1)\n",
    "\n",
    "z_log_var_2_dense = Dense(intermediate_dim)(z_log_var_dropout_1)\n",
    "z_log_var_2_batch = BatchNormalization()(z_log_var_2_dense)\n",
    "z_log_var_2 = Activation(activation)(z_log_var_2_batch)\n",
    "z_log_var_dropout_2 = Dropout(dropout)(z_log_var_2)\n",
    "z_log_var = Dense(latent_dim)(z_log_var_dropout_2)"
   ]
  },
  {
   "cell_type": "markdown",
   "metadata": {},
   "source": [
    "# Reparameterization Trick"
   ]
  },
  {
   "cell_type": "markdown",
   "metadata": {},
   "source": [
    "This layer randomly samples our isotropic Gaussian and shifts/scales it by the output of our encoder network (reparameterization trick).\n",
    "\n",
    "Note: It's important to capture the global params (batch size, latent dim, epsilon_std) in the function parameters or else we have trouble saving/loading the model aftewards."
   ]
  },
  {
   "cell_type": "code",
   "execution_count": 7,
   "metadata": {
    "collapsed": false
   },
   "outputs": [],
   "source": [
    "def sampling(args, batch_size=batch_size, latent_dim=latent_dim, epsilon_std=epsilon_std):\n",
    "    z_mean, z_log_var = args\n",
    "    \n",
    "    epsilon = K.random_normal(shape=(batch_size, latent_dim),\n",
    "                              mean=0., stddev=epsilon_std)\n",
    "    \n",
    "    return z_mean + K.exp(z_log_var) * epsilon\n",
    "\n",
    "z = Lambda(sampling, output_shape=(latent_dim,))([z_mean, z_log_var])"
   ]
  },
  {
   "cell_type": "markdown",
   "metadata": {},
   "source": [
    "# Decoder Network"
   ]
  },
  {
   "cell_type": "markdown",
   "metadata": {},
   "source": [
    "We instantiate these layers separately so as to reuse them later: one for the VAE network (training) and one for the separate generator network (prediction).\n",
    "\n",
    "* 5 fully connected dense layers (batch normalization, ReLU activation, dropout) - 2048 neurons each\n",
    "* x_mean output a simple dense layer (no norm, activation, dropout)\n",
    "* x_var additional fully connected dense layers (batch normalization, ReLU activation, dropout) - 2048 neurons each\n",
    "* x_var output a simple dense layer (no norm, activation, dropout)\n",
    "\n",
    "Notice that the `x_decoded_mean` has no activiation since in PCA transformed space it can take on any value.  Similarly, for `x_decoded_var` we want to restrict it to only positive numbers, so we use ReLU activation to squash it to our range.\n",
    "\n",
    "(Again a bit messy, next time I'll probably spend some effort to remove duplication)"
   ]
  },
  {
   "cell_type": "code",
   "execution_count": 8,
   "metadata": {
    "collapsed": false
   },
   "outputs": [],
   "source": [
    "decoder_1_dense = Dense(intermediate_dim)\n",
    "decoder_1_batch = BatchNormalization()\n",
    "decoder_1 = Activation(activation)\n",
    "decoder_dropout_1 = Dropout(dropout)\n",
    "\n",
    "decoder_2_dense = Dense(intermediate_dim)\n",
    "decoder_2_batch = BatchNormalization()\n",
    "decoder_2 = Activation(activation)\n",
    "decoder_dropout_2 = Dropout(dropout)\n",
    "\n",
    "decoder_3_dense = Dense(intermediate_dim)\n",
    "decoder_3_batch = BatchNormalization()\n",
    "decoder_3 = Activation(activation)\n",
    "decoder_dropout_3 = Dropout(dropout)\n",
    "\n",
    "decoder_4_dense = Dense(intermediate_dim)\n",
    "decoder_4_batch = BatchNormalization()\n",
    "decoder_4 = Activation(activation)\n",
    "decoder_dropout_4 = Dropout(dropout)\n",
    "\n",
    "decoder_5_dense = Dense(intermediate_dim)\n",
    "decoder_5_batch = BatchNormalization()\n",
    "decoder_5 = Activation(activation)\n",
    "decoder_dropout_5 = Dropout(dropout)\n",
    "\n",
    "x_decoded_mean = Dense(n_components)\n",
    "\n",
    "decoder_6_dense = Dense(n_components)\n",
    "decoder_6_batch = BatchNormalization()\n",
    "decoder_6 = Activation(activation)\n",
    "decoder_dropout_6 = Dropout(dropout)\n",
    "x_decoded_var = Dense(n_components, activation='relu')"
   ]
  },
  {
   "cell_type": "markdown",
   "metadata": {},
   "source": [
    "Actually instantiate the layers now for the VAE network."
   ]
  },
  {
   "cell_type": "code",
   "execution_count": 9,
   "metadata": {
    "collapsed": true
   },
   "outputs": [],
   "source": [
    "_decoder_1 = decoder_dropout_1(decoder_1(decoder_1_batch(decoder_1_dense(z))))\n",
    "_decoder_2 = decoder_dropout_2(decoder_2(decoder_2_batch(decoder_2_dense(_decoder_1))))\n",
    "_decoder_3 = decoder_dropout_3(decoder_3(decoder_3_batch(decoder_3_dense(_decoder_2))))\n",
    "_decoder_4 = decoder_dropout_4(decoder_4(decoder_4_batch(decoder_4_dense(_decoder_3))))\n",
    "_decoder_5 = decoder_dropout_5(decoder_5(decoder_5_batch(decoder_5_dense(_decoder_4))))\n",
    "\n",
    "_x_decoded_mean = x_decoded_mean(_decoder_5)\n",
    "\n",
    "_decoder_6 = decoder_dropout_6(decoder_6(decoder_6_batch(decoder_6_dense(_decoder_5))))\n",
    "_x_decoded_var = x_decoded_var(_decoder_6)\n",
    "_output = _x_decoded_mean"
   ]
  },
  {
   "cell_type": "markdown",
   "metadata": {},
   "source": [
    "# Loss Function"
   ]
  },
  {
   "cell_type": "markdown",
   "metadata": {},
   "source": [
    "Define our loss functions.  Broke it up into several parts while debugging so I could see the effect of each.  We use the `+ epsilon` trick here to ensure the division by the variance doesn't blow up.\n",
    "\n",
    "Note: Be sure to be careful with the backend `K.` operations.  The first dimension of the input tensor includes the batch size."
   ]
  },
  {
   "cell_type": "code",
   "execution_count": 10,
   "metadata": {
    "collapsed": false,
    "scrolled": true
   },
   "outputs": [],
   "source": [
    "def kl_loss(x, x_decoded_mean):\n",
    "    kl_loss = - 0.5 * K.sum(1. + z_log_var - K.square(z_mean) - K.exp(z_log_var), axis=-1)\n",
    "   \n",
    "    return K.mean(kl_loss)\n",
    "\n",
    "def logx_loss(x, x_decoded_mean):\n",
    "    loss = (  0.5 * math.log(2 * math.pi)\n",
    "            + 0.5 * K.log(_x_decoded_var + var_epsilon)\n",
    "            + 0.5 * K.square(x - x_decoded_mean) / (_x_decoded_var + var_epsilon))\n",
    "    loss = K.sum(loss, axis=-1)\n",
    "    return K.mean(loss)\n",
    "\n",
    "def vae_loss(x, x_decoded_mean):\n",
    "    return logx_loss(x, x_decoded_mean) + kl_loss(x, x_decoded_mean)"
   ]
  },
  {
   "cell_type": "markdown",
   "metadata": {},
   "source": [
    "# Compile Model"
   ]
  },
  {
   "cell_type": "code",
   "execution_count": 11,
   "metadata": {
    "collapsed": false,
    "scrolled": false
   },
   "outputs": [
    {
     "name": "stdout",
     "output_type": "stream",
     "text": [
      "____________________________________________________________________________________________________\n",
      "Layer (type)                     Output Shape          Param #     Connected to                     \n",
      "====================================================================================================\n",
      "input_1 (InputLayer)             (1000, 500)           0                                            \n",
      "____________________________________________________________________________________________________\n",
      "batch_normalization_1 (BatchNorm (1000, 500)           2000        input_1[0][0]                    \n",
      "____________________________________________________________________________________________________\n",
      "dense_1 (Dense)                  (1000, 2048)          1026048     batch_normalization_1[0][0]      \n",
      "____________________________________________________________________________________________________\n",
      "batch_normalization_2 (BatchNorm (1000, 2048)          8192        dense_1[0][0]                    \n",
      "____________________________________________________________________________________________________\n",
      "activation_1 (Activation)        (1000, 2048)          0           batch_normalization_2[0][0]      \n",
      "____________________________________________________________________________________________________\n",
      "dropout_1 (Dropout)              (1000, 2048)          0           activation_1[0][0]               \n",
      "____________________________________________________________________________________________________\n",
      "dense_2 (Dense)                  (1000, 2048)          4196352     dropout_1[0][0]                  \n",
      "____________________________________________________________________________________________________\n",
      "batch_normalization_3 (BatchNorm (1000, 2048)          8192        dense_2[0][0]                    \n",
      "____________________________________________________________________________________________________\n",
      "activation_2 (Activation)        (1000, 2048)          0           batch_normalization_3[0][0]      \n",
      "____________________________________________________________________________________________________\n",
      "dropout_2 (Dropout)              (1000, 2048)          0           activation_2[0][0]               \n",
      "____________________________________________________________________________________________________\n",
      "dense_3 (Dense)                  (1000, 2048)          4196352     dropout_2[0][0]                  \n",
      "____________________________________________________________________________________________________\n",
      "batch_normalization_4 (BatchNorm (1000, 2048)          8192        dense_3[0][0]                    \n",
      "____________________________________________________________________________________________________\n",
      "activation_3 (Activation)        (1000, 2048)          0           batch_normalization_4[0][0]      \n",
      "____________________________________________________________________________________________________\n",
      "dropout_3 (Dropout)              (1000, 2048)          0           activation_3[0][0]               \n",
      "____________________________________________________________________________________________________\n",
      "dense_4 (Dense)                  (1000, 2048)          4196352     dropout_3[0][0]                  \n",
      "____________________________________________________________________________________________________\n",
      "dense_7 (Dense)                  (1000, 2048)          4196352     dropout_3[0][0]                  \n",
      "____________________________________________________________________________________________________\n",
      "batch_normalization_5 (BatchNorm (1000, 2048)          8192        dense_4[0][0]                    \n",
      "____________________________________________________________________________________________________\n",
      "batch_normalization_7 (BatchNorm (1000, 2048)          8192        dense_7[0][0]                    \n",
      "____________________________________________________________________________________________________\n",
      "activation_4 (Activation)        (1000, 2048)          0           batch_normalization_5[0][0]      \n",
      "____________________________________________________________________________________________________\n",
      "activation_6 (Activation)        (1000, 2048)          0           batch_normalization_7[0][0]      \n",
      "____________________________________________________________________________________________________\n",
      "dropout_4 (Dropout)              (1000, 2048)          0           activation_4[0][0]               \n",
      "____________________________________________________________________________________________________\n",
      "dropout_6 (Dropout)              (1000, 2048)          0           activation_6[0][0]               \n",
      "____________________________________________________________________________________________________\n",
      "dense_5 (Dense)                  (1000, 2048)          4196352     dropout_4[0][0]                  \n",
      "____________________________________________________________________________________________________\n",
      "dense_8 (Dense)                  (1000, 2048)          4196352     dropout_6[0][0]                  \n",
      "____________________________________________________________________________________________________\n",
      "batch_normalization_6 (BatchNorm (1000, 2048)          8192        dense_5[0][0]                    \n",
      "____________________________________________________________________________________________________\n",
      "batch_normalization_8 (BatchNorm (1000, 2048)          8192        dense_8[0][0]                    \n",
      "____________________________________________________________________________________________________\n",
      "activation_5 (Activation)        (1000, 2048)          0           batch_normalization_6[0][0]      \n",
      "____________________________________________________________________________________________________\n",
      "activation_7 (Activation)        (1000, 2048)          0           batch_normalization_8[0][0]      \n",
      "____________________________________________________________________________________________________\n",
      "dropout_5 (Dropout)              (1000, 2048)          0           activation_5[0][0]               \n",
      "____________________________________________________________________________________________________\n",
      "dropout_7 (Dropout)              (1000, 2048)          0           activation_7[0][0]               \n",
      "____________________________________________________________________________________________________\n",
      "dense_6 (Dense)                  (1000, 512)           1049088     dropout_5[0][0]                  \n",
      "____________________________________________________________________________________________________\n",
      "dense_9 (Dense)                  (1000, 512)           1049088     dropout_7[0][0]                  \n",
      "____________________________________________________________________________________________________\n",
      "lambda_1 (Lambda)                (1000, 512)           0           dense_6[0][0]                    \n",
      "                                                                   dense_9[0][0]                    \n",
      "____________________________________________________________________________________________________\n",
      "dense_10 (Dense)                 (1000, 2048)          1050624     lambda_1[0][0]                   \n",
      "____________________________________________________________________________________________________\n",
      "batch_normalization_9 (BatchNorm (1000, 2048)          8192        dense_10[0][0]                   \n",
      "____________________________________________________________________________________________________\n",
      "activation_8 (Activation)        (1000, 2048)          0           batch_normalization_9[0][0]      \n",
      "____________________________________________________________________________________________________\n",
      "dropout_8 (Dropout)              (1000, 2048)          0           activation_8[0][0]               \n",
      "____________________________________________________________________________________________________\n",
      "dense_11 (Dense)                 (1000, 2048)          4196352     dropout_8[0][0]                  \n",
      "____________________________________________________________________________________________________\n",
      "batch_normalization_10 (BatchNor (1000, 2048)          8192        dense_11[0][0]                   \n",
      "____________________________________________________________________________________________________\n",
      "activation_9 (Activation)        (1000, 2048)          0           batch_normalization_10[0][0]     \n",
      "____________________________________________________________________________________________________\n",
      "dropout_9 (Dropout)              (1000, 2048)          0           activation_9[0][0]               \n",
      "____________________________________________________________________________________________________\n",
      "dense_12 (Dense)                 (1000, 2048)          4196352     dropout_9[0][0]                  \n",
      "____________________________________________________________________________________________________\n",
      "batch_normalization_11 (BatchNor (1000, 2048)          8192        dense_12[0][0]                   \n",
      "____________________________________________________________________________________________________\n",
      "activation_10 (Activation)       (1000, 2048)          0           batch_normalization_11[0][0]     \n",
      "____________________________________________________________________________________________________\n",
      "dropout_10 (Dropout)             (1000, 2048)          0           activation_10[0][0]              \n",
      "____________________________________________________________________________________________________\n",
      "dense_13 (Dense)                 (1000, 2048)          4196352     dropout_10[0][0]                 \n",
      "____________________________________________________________________________________________________\n",
      "batch_normalization_12 (BatchNor (1000, 2048)          8192        dense_13[0][0]                   \n",
      "____________________________________________________________________________________________________\n",
      "activation_11 (Activation)       (1000, 2048)          0           batch_normalization_12[0][0]     \n",
      "____________________________________________________________________________________________________\n",
      "dropout_11 (Dropout)             (1000, 2048)          0           activation_11[0][0]              \n",
      "____________________________________________________________________________________________________\n",
      "dense_14 (Dense)                 (1000, 2048)          4196352     dropout_11[0][0]                 \n",
      "____________________________________________________________________________________________________\n",
      "batch_normalization_13 (BatchNor (1000, 2048)          8192        dense_14[0][0]                   \n",
      "____________________________________________________________________________________________________\n",
      "activation_12 (Activation)       (1000, 2048)          0           batch_normalization_13[0][0]     \n",
      "____________________________________________________________________________________________________\n",
      "dropout_12 (Dropout)             (1000, 2048)          0           activation_12[0][0]              \n",
      "____________________________________________________________________________________________________\n",
      "dense_15 (Dense)                 (1000, 500)           1024500     dropout_12[0][0]                 \n",
      "====================================================================================================\n",
      "Total params: 47,263,172\n",
      "Trainable params: 47,213,020\n",
      "Non-trainable params: 50,152\n",
      "____________________________________________________________________________________________________\n"
     ]
    }
   ],
   "source": [
    "vae = Model(x, _output)\n",
    "optimizer = Adam(lr=learning_rate)\n",
    "vae.compile(optimizer=optimizer, loss=vae_loss)\n",
    "vae.summary()"
   ]
  },
  {
   "cell_type": "markdown",
   "metadata": {},
   "source": [
    "# Fit Model"
   ]
  },
  {
   "cell_type": "markdown",
   "metadata": {},
   "source": [
    "Added a few things to make the process nicer:\n",
    "\n",
    "* Callback for early stopping on the *training loss*.  I think this is what we want because we want the VAE to fit the distribution of the input data as closely as possible (so we can generate nice looking images).\n",
    "* Recording loss history (returned by default).\n",
    "* TQDM callback to nicely display progress of each epoch."
   ]
  },
  {
   "cell_type": "code",
   "execution_count": 12,
   "metadata": {
    "collapsed": false,
    "scrolled": false
   },
   "outputs": [
    {
     "name": "stdout",
     "output_type": "stream",
     "text": [
      "\n",
      "Elapsed:  157352.29315400124\n"
     ]
    }
   ],
   "source": [
    "start = time.time()\n",
    "\n",
    "early_stopping = keras.callbacks.EarlyStopping('loss', min_delta=0.1, patience=100)\n",
    "\n",
    "history = vae.fit_generator(\n",
    "    data_generator(X_train, pca, batch_size),\n",
    "    steps_per_epoch=len(X_train) // batch_size,\n",
    "    epochs=epochs,\n",
    "    validation_data=(X_test_pca, X_test_pca),\n",
    "    callbacks=[TQDMNotebookCallback(), early_stopping],\n",
    "    verbose=0\n",
    ")\n",
    "\n",
    "done = time.time()\n",
    "elapsed = done - start\n",
    "print(\"Elapsed: \", elapsed)"
   ]
  },
  {
   "cell_type": "code",
   "execution_count": 13,
   "metadata": {
    "collapsed": false
   },
   "outputs": [
    {
     "data": {
      "text/html": [
       "<div>\n",
       "<table border=\"1\" class=\"dataframe\">\n",
       "  <thead>\n",
       "    <tr style=\"text-align: right;\">\n",
       "      <th></th>\n",
       "      <th>loss</th>\n",
       "      <th>val_loss</th>\n",
       "    </tr>\n",
       "  </thead>\n",
       "  <tbody>\n",
       "    <tr>\n",
       "      <th>count</th>\n",
       "      <td>2000.000000</td>\n",
       "      <td>2000.000000</td>\n",
       "    </tr>\n",
       "    <tr>\n",
       "      <th>mean</th>\n",
       "      <td>-75.138210</td>\n",
       "      <td>33.060433</td>\n",
       "    </tr>\n",
       "    <tr>\n",
       "      <th>std</th>\n",
       "      <td>3919.118728</td>\n",
       "      <td>284.935008</td>\n",
       "    </tr>\n",
       "    <tr>\n",
       "      <th>min</th>\n",
       "      <td>-266.056037</td>\n",
       "      <td>-97.166843</td>\n",
       "    </tr>\n",
       "    <tr>\n",
       "      <th>0%</th>\n",
       "      <td>-266.056037</td>\n",
       "      <td>-97.166843</td>\n",
       "    </tr>\n",
       "    <tr>\n",
       "      <th>25%</th>\n",
       "      <td>-259.736213</td>\n",
       "      <td>-80.465835</td>\n",
       "    </tr>\n",
       "    <tr>\n",
       "      <th>50%</th>\n",
       "      <td>-250.860743</td>\n",
       "      <td>-64.333101</td>\n",
       "    </tr>\n",
       "    <tr>\n",
       "      <th>75%</th>\n",
       "      <td>-231.772741</td>\n",
       "      <td>8.923915</td>\n",
       "    </tr>\n",
       "    <tr>\n",
       "      <th>95%</th>\n",
       "      <td>-129.558089</td>\n",
       "      <td>486.140093</td>\n",
       "    </tr>\n",
       "    <tr>\n",
       "      <th>99%</th>\n",
       "      <td>648.491882</td>\n",
       "      <td>1516.675347</td>\n",
       "    </tr>\n",
       "    <tr>\n",
       "      <th>max</th>\n",
       "      <td>144299.075327</td>\n",
       "      <td>4194.358712</td>\n",
       "    </tr>\n",
       "  </tbody>\n",
       "</table>\n",
       "</div>"
      ],
      "text/plain": [
       "                loss     val_loss\n",
       "count    2000.000000  2000.000000\n",
       "mean      -75.138210    33.060433\n",
       "std      3919.118728   284.935008\n",
       "min      -266.056037   -97.166843\n",
       "0%       -266.056037   -97.166843\n",
       "25%      -259.736213   -80.465835\n",
       "50%      -250.860743   -64.333101\n",
       "75%      -231.772741     8.923915\n",
       "95%      -129.558089   486.140093\n",
       "99%       648.491882  1516.675347\n",
       "max    144299.075327  4194.358712"
      ]
     },
     "metadata": {},
     "output_type": "display_data"
    },
    {
     "data": {
      "text/plain": [
       "<matplotlib.axes._subplots.AxesSubplot at 0x7f5634088978>"
      ]
     },
     "execution_count": 13,
     "metadata": {},
     "output_type": "execute_result"
    },
    {
     "data": {
      "image/png": "[encoded data removed]",
      "text/plain": [
       "<matplotlib.figure.Figure at 0x7f568a86a400>"
      ]
     },
     "metadata": {},
     "output_type": "display_data"
    }
   ],
   "source": [
    "df = pd.DataFrame(history.history)\n",
    "display(df.describe(percentiles=[0.25 * i for i in range(4)] + [0.95, 0.99]))\n",
    "df.plot(figsize=(8, 6))"
   ]
  },
  {
   "cell_type": "markdown",
   "metadata": {},
   "source": [
    "# Breakdown the Loss Function Components"
   ]
  },
  {
   "cell_type": "code",
   "execution_count": 14,
   "metadata": {
    "collapsed": false
   },
   "outputs": [
    {
     "name": "stdout",
     "output_type": "stream",
     "text": [
      "63000/63000 [==============================] - 2s      \b\b\b\b\b\b\b\b\b\b\b\b\b\b\b\b\b\b\b\b\b\b\b\b\b\b\b\b\b\b\b\b\b\b\b\b\b\b\b\b\b\b\b\b\b\b\b\b\b\b\b\b\b\b\b\b\b\b\b\b\b\b\b\b\b\b\b\b\b\b\b\b\b\b\b\b\b\b\b\b\b\b\b\b\b\b\b\b\b\b\b\b\b\b\b\b\b\b\b\b\b\b\b\b\b\b\b\b\b\b\b\b\b\b\b\b\b\b\b\b\b\b\b\b\b\b\b\b\b\b\b\b\b\b\b\b\b\b\b\b\b\b\b\b\b\b\b\b\b\b\b\b\b\b\b\b\b\b\b\b\b\b\b\b\b\b\b\b\b\b\b\b\b\b\b\b\b\b\b\b\b\b\b\b\b\b\b\b\b\b\b\b\b\b\b\b\b\b\b\b\b\b\b\b\b\b\b\b\b\b\b\b\b\b\b\b\b\b\b\b\b\b\b\b\b\b\b\b\b\b\b\b\b\b\b\b\b\b\b\b\b\b\b\b\b\b\b\b\b\b\b\b\b\b\b\b\b\b\b\b\b\b\b\b\b\b\b\b\b\b\b\b\b\b\b\b\b\b\b\b\b\b\b\b\b\b\b\b\b\b\b\b\b\b\b\b\b\b\b\b\b\b\b\b\b\b\b\b\b\b\b\b\b\b\b\b\b\b\b\b\b\b\b\b\b\b\b\b\b\b\b\b\b\b\b\b\b\b\b\b\b\b\b\b\b\b\b\b\b\b\b\b\b\b\b\b\b\b\b\b\b\b\b\b\b\b\b\b\b\b\b\b\b\b\b\b\b\b\b\b\b\b\b\b\b\b\b\b\b\b\b\b\b\b\b\b\b\b\b\b\b\b\b\b\b\b\b\b\b\b\b\b\b\b\b\b\b\b\b\b\b\b\b\b\b\b\b\b\b\b\b\b\b\b\b\b\b\b\b\b\b\b\b\b\b\b\b\b\b\b\b\b\b\b\b\b\b\b\b\b\b\b\b\b\b\b\b\b\b\b\b\b\b\b\b\b\b\b\b\b\b\b\b\b\b\b\b\b\b\b\b\b\b\b\b\b\b\b\b\b\b\b\b\b\b\b\b\b\b\b\b\b\b\b\b\b\b\b\b\b\b\b\b\b\b\b\b\b\b\b\b\b\b\b\b\b\b\b\b\b\b\b\b\b\b\b\b\b\b\b\b\b\b\b\b\b\b\b\b\b\b\b\b\b\b\b\b\b\b\b\b\b\b\b\b\b\b\b\b\b\b\b\b\b\b\b\b\b\b\b\b\b\b\b\b\b\b\b\b\b\b\b\b\b\b\b\b\b\b\b\b\b\b\b\b\b\b\b\b\b\b\b\b\b\b\b\b\b\b\b\b\b\b\b\b\b\b\b\b\b\b\b\b\b\b\b\b\b\b\b\b\b\b\b\b\b\b\b\b\b\b\b\b\b\b\b\b\b\b\b\b\b\b\b\b\b\b\b\b\b\b\b\b\b\b\b\b\b\b\b\b\b\b\b\b\b\b\b\b\b\b\b\b\b\b\b\b\b\b\b\b\b\b\b\b\b\b\b\b\b\b\b\b\b\b\b\b\b\b\b\b\b\b\b\b\b\b\b\b\b\b\b\b\b\b\b\b\b\b\b\b\b\b\b\b\b\b\b\b\b\b\b\b\b\b\b\b\b\b\b\b\b\b\b\b\b\b\b\b\b\b\b\b\b\b\b\b\b\b\b\b\b\b\b\b\b\b\b\b\b\b\b\b\b\b\b\b\b\b\b\b\b\b\b\b\b\b\b\b\b\b\b\b\b\b\b\b\b\b\b\b\b\b\b\b\b\b\b\b\b\b\b\b\b\b\b\b\b\b\b\b\b\b\b\b\b\b\b\b\b\b\b\b\b\b\b\b\b\b\b\b\b\b\b\b\b\b\b\b\b\b\b\b\b\b\b\b\b\b\b\b\b\b\b\b\b\b\b\b\b\b\b\b\b\b\b\b\b\b\b\b\b\b\b\b\b\b\b\b\b\b\b\b\b\b\b\b\b\b\b\b\b\b\b\b\b\b\b\b\b\b\b\b\b\b\b\b\b\b\b\b\b\b\b\b\b\b\b\b\b\b\b\b\b\b\b\b\b\b\b\b\b\b\b\b\b\b\b\b\b\b\b\b\b\b\b\b\b\b\b\b\b\b\b\b\b\b\b\b\b\b\b\b\b\b\b\b\b\b\b\b\b\b\b\b\b\b\b\b\b\b\b\b\b\b\b\b\b\b\b\b\b\b\b\b\b\b\b\b\b\b\b\b\b\b\b\b\b\b\b\b\b\b\b\b\b\b\b\b\b\b\b\b\b\b\b\b\b\b\b\b\b\b\b\b\b\b\b\b\b\b\b\b\b\b\b\b\b\b\b\b\b\b\b\b\b\b\b\b\b\b\b\b\b\b\b\b\b\b\b\b\b\b\b\b\b\b\b\b\b\b\b\b\b\b\b\b\b\b\b\b\b\b\b\b\b\b\b\b\b\b\b\b\b\b\b\b\b\b\b\b\b\b\b\b\b\b\b\b\b\b\b\b\b\b\b\b\b\b\b\b\b\b\b\b\b\b\b\b\b\b\b\b\b\b\b\b\b\b\b\b\b\b\b\b\b\b\b\b\b\b\b\b\b\b\b\b\b\b\b\b\b\b\b\b\b\b\b\b\b\b\b\b\b\b\b\b\b\b\b\b\b\b\b\b\b\b\b\b\b\b\b\b\b\b\b\b\b\b\b\b\b\b\b\b\b\b\b\b\b\b\b\b\b\b\b\b\b\b\b\b\b\b\b\b\b\b\b\b\b\b\b\b\b\b\b\b\b\b\b\b\b\b\b\b\b\b\b\b\b\b\b\b\b\b\b\b\b\b\b\b\b\b\b\b\b\b\b\b\b\b\b\b\b\b\b\b\b\b\b\b\b\b\b\b\b\b\b\b\b\b\b\b\b\b\b\b\b\b\b\b\b\b\b\b\b\b\b\b\b\b\b\b\b\b\b\b\b\b\b\b\b\b\b\b\b\b\b\b\b\b\b\b\b\b\b\b\b\b\b\b\b\b\b\b\b\b\b\b\b\b\b\b\b\b\b\b\b\b\b\b\b\b\b\b\b\b\b\b\b\b\b\b\b\b\b\b\b\b\b\b\b\b\b\b\b\b\b\b\b\b\b\b\b\b\b\b\b\b\b\b\b\b\b\b\b\b\b\b\b\b\b\b\b\b\b\b\b\b\b\b\b\b\b\b\b\b\b\b\b\b\b\b\b\b\b\b\b\b\b\b\b\b\b\b\b\b\b\b\b\b\b\b\b\b\b\b\b\b\b\b\b\b\b\b\b\b\b\b\b\b\b\b\b\b\b\b\b\b\b\b\b\b\b\b\b\b\b\b\b\b\b\b\b\b\b\b\b\b\b\b\b\b\b\b\b\b\b\b\b\b\b\b\b\b\b\b\b\b\b\b\b\b\b\b\b\b\b\b\b\b\b\b\b\b\b\b\b\b\b\b\b\b\b\b\b\b\b\b\b\b\b\b\b\b\b\b\b\b\b\b\b\b\b\b\b\b\b\b\b\b\b\b\b\b\b\b\b\b\b\b\b\b\b\b\b\b\b\b\b\b\b\b\b\b\b\b\b\b\b\b\b\b\b\b\b\b\b\b\b\b\b\b\b\b\b\b\b\b\b\b\b\b\b\b\b\b\b\b\b\b\b\b\b\b\b\b\b\b\b\b\b\b\b\b\b\b\b\b\b\b\b\b\b\b\b\b\b\b\b\b\b\b\b\b\b\b\b\b\b\b\b\b\b\b\b\b\b\b\b\b\b\b\b\b\b\b\b\b\b\b\b\b\b\b\b\b\b\b\b\b\b\b\b\b\b\b\b\b\b\b\b\b\b\b\b\b\b\b\b\b\b\b\b\b\b\b\b\b\b\b\b\b\b\b\b\b\b\b\b\b\b\b\b\b\b\b\b\b\b\b\b\b\b\b\b\b\b\b\b\b\b\b\b\b\b\b\b\b\b\b\b\b\b\b\b\b\b\b\b\b\b\b\b\b\b\b\b\b\b\b\b\b\b\b\b\b\b\b\b\b\b\b\b\b\b\b\b\b\b\b\b\b\b\b\b\b\b\b\b\b\b\b\b\b\b\b\b\b\b\b\b\b\b\b\b\b\b\b\b\b\b\b\b\b\b\b\b\b\b\b\b\b\b\b\b\b\b\b\b\b\b\b\b\b\b\b\b\b\b\b\b\b\b\b\b\b\b\b\b\b\b\b\b\b\b\b\b\b\b\b\b\b\b\b\b\b\b\b\b\b\b\b\b\b\b\b\b\b\b\b\b\b\b\b\b\b\b\b\b\b\b\b\b\b\b\b\b\b\b\b\b\b\b\b\b\b\b\b\b\b\b\b\b\b\b\b\b\b\b\b\b\b\b\b\b\b\b\b\b\b\b\b\b\b\b\b\b\b\b\b\b\b\b\b\b\b\b\b\b\b\b\b\b\b\b\b\b\b\b\b\b\b\b\b\b\b\b\b\b\b\b\b\b\b\b\b\b\b\b\b\b\b\b\b\b\b\b\b\b\b\b\b\b\b\b\b\b\b\b\b\b\b\b\b\b\b\b\b\b\b\b\b\b\b\b\b\b\b\b\b\b\b\b\b\b\b\b\b\b\b\b\b\b\b\b\b\b\b\b\b\b\b\b\b\b\b\b\b\b\b\b\b\b\b\b\b\b\b\b\b\b\b\b\b\b\b\b\b\b\b\b\b\b\b\b\b\b\b\b\b\b\b\b\b\b\b\b\b\b\b\b\b\b\b\b\b\b\b\b\b\b\b\b\b\b\b\b\b\b\b\b\b\b\b\b\b\b\b\b\b\b\b\b\b\b\b\b\b\b\b\b\b\b\b\b\b\b\b\b\b\b\b\b\b\b\b\b\b\b\b\b\b\b\b\b\b\b\b\b\b\b\b\b\b\b\b\b\b\b\b\b\b\b\b\b\b\b\b\b\b\b\b\b\b\b\b\b\b\b\b\b\b\b\b\b\b\b\b\b\b\b\b\b\b\b\b\b\b\b\b\b\b\b\b\b\b\b\b\b\b\b\b\b\b\b\b\b\b\b\b\b\b\b\b\b\b\b\b\b\b\b\b\b\b\b\b\b\b\b\b\b\b\b\b\b\b\b\b\b\b\b\b\b\b\b\b\b\b\b\b\b\b\b\b\b\b\b\b\b\b\b\b\b\b\b\b\b\b\b\b\b\b\b\b\b\b\b\b\b\b\b\b\b\b\b\b\b\b\b\b\b\b\b\b\b\b\b\b\b\b\b\b\b\b\b\b\b\b\b\b\b\b\b\b\b\b\b\b\b\b\b\b\b\b\b\b\b\b\b\b\b\b\b\b\b\b\b\b\b\b\b\b\b\b\b\b\b\b\b\b\b\b\b\b\b\b\b\b\b\b\b\b\b\b\b\b\b\b\b\b\b\b\b\b\b\b\b\b\b\b\b\b\b\b\b\b\b\b\b\b\b\b\b\b\b\b\b\b\b\b\b\b\b\b\b\b\b\b\b\b\b\b\b\b\b\b\b\b\b\b\b\b\b\b\b\b\b\b\b\b\b\b\b\b\b\b\b\b\b\b\b\b\b\b\b\b\b\b\b\b\b\b\b\b\b\b\b\b\b\b\b\b\b\b\b\b\b\b\b\b\b\b\b\b\b\b\b\b\b\b\b\b\b\b\b\b\b\b\b\b\b\b\b\b\b\b\b\b\b\b\b\b\b\b\b\b\b\b\b\b\b\b\b\b\b\b\b\b\b\b\b\b\b\b\b\b\b\b\b\b\b\b\b\b\b\b\b\b\b\b\b\b\b\b\b\b\b\b\b\b\b\b\b\b\b\b\b\b\b\b\b\b\b\b\b\b\b\b\b\b\b\b\b\b\b\b\b\b\b\b\b\b\b\b\b\b\b\b\b\b\b\b\b\b\b\b\b\b\b\b\b\b\b\b\b\b\b\b\b\b\b\b\b\b\b\b\b\b\b\b\b\b\b\b\b\b\b\b\b\b\b\b\b\b\b\b\b\b\b\b\b\b\b\b\b\b\b\b\b\b\b\b\b\b\b\n",
      "\n",
      "KL loss: 13.584491230192638\n",
      "xent loss: -106.93450413052997\n"
     ]
    }
   ],
   "source": [
    "vae_kl = Model(x, _output)\n",
    "vae_kl.compile(optimizer='rmsprop', loss=kl_loss)\n",
    "kl = vae_kl.evaluate(X_test_pca, X_test_pca, batch_size=batch_size)\n",
    "\n",
    "vae_logx = Model(x, _output)\n",
    "vae_logx.compile(optimizer='rmsprop', loss=logx_loss)\n",
    "logx = vae_logx.evaluate(X_test_pca, X_test_pca, batch_size=batch_size)\n",
    "\n",
    "print()\n",
    "print(\"KL loss: {}\".format(kl))\n",
    "print(\"xent loss: {}\".format(logx))"
   ]
  },
  {
   "cell_type": "markdown",
   "metadata": {},
   "source": [
    "# Generator Network"
   ]
  },
  {
   "cell_type": "code",
   "execution_count": 15,
   "metadata": {
    "collapsed": false,
    "scrolled": true
   },
   "outputs": [],
   "source": [
    "decoder_input = Input(shape=(latent_dim,))\n",
    "\n",
    "_decoder_1 = decoder_dropout_1(decoder_1(decoder_1_batch(decoder_1_dense(decoder_input))))\n",
    "_decoder_2 = decoder_dropout_2(decoder_2(decoder_2_batch(decoder_2_dense(_decoder_1))))\n",
    "_decoder_3 = decoder_dropout_3(decoder_3(decoder_3_batch(decoder_3_dense(_decoder_2))))\n",
    "_decoder_4 = decoder_dropout_4(decoder_4(decoder_4_batch(decoder_4_dense(_decoder_3))))\n",
    "_decoder_5 = decoder_dropout_5(decoder_5(decoder_5_batch(decoder_5_dense(_decoder_4))))\n",
    "_decoder_output = x_decoded_mean(_decoder_5)\n",
    "\n",
    "generator = Model(decoder_input, _decoder_output)"
   ]
  },
  {
   "cell_type": "markdown",
   "metadata": {},
   "source": [
    "# Save Generator Model"
   ]
  },
  {
   "cell_type": "code",
   "execution_count": 16,
   "metadata": {
    "collapsed": true
   },
   "outputs": [],
   "source": [
    "vae_path = \"saved_models/vae.hdf5\"\n",
    "vae.save(vae_path)\n",
    "\n",
    "generator_path = \"saved_models/generator.hdf5\"\n",
    "generator.save(generator_path)"
   ]
  },
  {
   "cell_type": "code",
   "execution_count": null,
   "metadata": {
    "collapsed": true
   },
   "outputs": [],
   "source": []
  }
 ],
 "metadata": {
  "kernelspec": {
   "display_name": "Python 3",
   "language": "python",
   "name": "python3"
  },
  "language_info": {
   "codemirror_mode": {
    "name": "ipython",
    "version": 3
   },
   "file_extension": ".py",
   "mimetype": "text/x-python",
   "name": "python",
   "nbconvert_exporter": "python",
   "pygments_lexer": "ipython3",
   "version": "3.6.0"
  },
  "widgets": {
   "state": {
    "0063c518ea38425d9bb8ee08a4260358": {
     "views": [
      {
       "cell_index": 28
      }
     ]
    },
    "00ad43667cae426fb2546add22cff468": {
     "views": [
      {
       "cell_index": 28
      }
     ]
    },
    "00c3d32132234f9bbafbf535ef24472b": {
     "views": [
      {
       "cell_index": 28
      }
     ]
    },
    "00ebbadcbe724661aec28c2e4272d076": {
     "views": [
      {
       "cell_index": 28
      }
     ]
    },
    "00fa612dadeb43fdabfd53a38dc4bc5a": {
     "views": [
      {
       "cell_index": 28
      }
     ]
    },
    "0107f645ac4f408e8af3a817fc1372ca": {
     "views": [
      {
       "cell_index": 28
      }
     ]
    },
    "010af528de3047ecb7732e2256d34375": {
     "views": [
      {
       "cell_index": 28
      }
     ]
    },
    "010c3eea1b614d09998f5ad167890b93": {
     "views": [
      {
       "cell_index": 28
      }
     ]
    },
    "015b5392b31442a4914ac648ed99a0da": {
     "views": [
      {
       "cell_index": 28
      }
     ]
    },
    "01869b47a35040249e165b34c5f32fd5": {
     "views": [
      {
       "cell_index": 28
      }
     ]
    },
    "0191ff4a29e04fc99c7f7eedc4f65bda": {
     "views": [
      {
       "cell_index": 28
      }
     ]
    },
    "01bf35d6399a49479fe37f336e0461a1": {
     "views": [
      {
       "cell_index": 28
      }
     ]
    },
    "01ed30ae7cb249a888c426c1672a05c0": {
     "views": [
      {
       "cell_index": 28
      }
     ]
    },
    "0212ca431ece4e83872461edb7b21c13": {
     "views": [
      {
       "cell_index": 28
      }
     ]
    },
    "027028eda6f94b40af6884359d316600": {
     "views": [
      {
       "cell_index": 28
      }
     ]
    },
    "0283f346062242d98ae190bcd6791ea0": {
     "views": [
      {
       "cell_index": 28
      }
     ]
    },
    "029b3cc26bdb440a85097ea701503ec4": {
     "views": [
      {
       "cell_index": 28
      }
     ]
    },
    "02bc30cf3d6d4e06923e28c67556285d": {
     "views": [
      {
       "cell_index": 28
      }
     ]
    },
    "02e69f9141724e90bb13a46151b8a877": {
     "views": [
      {
       "cell_index": 28
      }
     ]
    },
    "030644503d4c456d8fac89f8aa73ec14": {
     "views": [
      {
       "cell_index": 28
      }
     ]
    },
    "0326662582b24627a60bd00a62439b07": {
     "views": [
      {
       "cell_index": 28
      }
     ]
    },
    "0347358f38264fe8a9f7dfd3de4a7bb1": {
     "views": [
      {
       "cell_index": 28
      }
     ]
    },
    "034e96eddfda44d3ab04aa1db391a2f8": {
     "views": [
      {
       "cell_index": 28
      }
     ]
    },
    "03ab1746cfbd47f5b55bb948ccc5f29f": {
     "views": [
      {
       "cell_index": 28
      }
     ]
    },
    "03c1e04a6d284409a0e0a285dac50e33": {
     "views": [
      {
       "cell_index": 28
      }
     ]
    },
    "03e271b979a84eb8a2e187417ad14fb9": {
     "views": [
      {
       "cell_index": 28
      }
     ]
    },
    "03e89845f9294758ac5db7cf43e6b01d": {
     "views": [
      {
       "cell_index": 28
      }
     ]
    },
    "03f86a191b9946eaa376df0b68bdef17": {
     "views": [
      {
       "cell_index": 28
      }
     ]
    },
    "04067c456a3f43e9bdf2b35fdf581171": {
     "views": [
      {
       "cell_index": 28
      }
     ]
    },
    "040d7443d90a42e7836bd08e7768c9c5": {
     "views": [
      {
       "cell_index": 28
      }
     ]
    },
    "044dcb3500b74daaa85a8f149d4603e4": {
     "views": [
      {
       "cell_index": 28
      }
     ]
    },
    "044f34907f2d4cbca30acaa857f3d3a4": {
     "views": [
      {
       "cell_index": 28
      }
     ]
    },
    "04559ed15be048dcb7633fee24817038": {
     "views": [
      {
       "cell_index": 28
      }
     ]
    },
    "047a630b4b464c1e87b71435ab2dd6c8": {
     "views": [
      {
       "cell_index": 28
      }
     ]
    },
    "04d39aa3bfe44ec2a21d992bab9357e0": {
     "views": [
      {
       "cell_index": 28
      }
     ]
    },
    "05059226347e4b69b57853730983e56d": {
     "views": [
      {
       "cell_index": 28
      }
     ]
    },
    "051cde7e1a604f2d806b130aeda46d81": {
     "views": [
      {
       "cell_index": 28
      }
     ]
    },
    "05240b793dfe42d7b605d4abb9d53853": {
     "views": [
      {
       "cell_index": 28
      }
     ]
    },
    "053120fbf38744eaafb2799a877c96a8": {
     "views": [
      {
       "cell_index": 28
      }
     ]
    },
    "0533360c15c649c888061617669bfc54": {
     "views": [
      {
       "cell_index": 28
      }
     ]
    },
    "058694d9713b40b2a2012f667fec4cce": {
     "views": [
      {
       "cell_index": 28
      }
     ]
    },
    "064f054b1e6f498abd32a757577292aa": {
     "views": [
      {
       "cell_index": 28
      }
     ]
    },
    "067553bc34cc49209d7224c4cb76b515": {
     "views": [
      {
       "cell_index": 28
      }
     ]
    },
    "068caccf10d94112977643bf5f7a1ffe": {
     "views": [
      {
       "cell_index": 28
      }
     ]
    },
    "06a953688c584c86855c1f41f462883c": {
     "views": [
      {
       "cell_index": 28
      }
     ]
    },
    "06e3773eaa034055b0020c83ccf4a1b5": {
     "views": [
      {
       "cell_index": 28
      }
     ]
    },
    "06fb9407d44e44c59ecdc3472648d1ea": {
     "views": [
      {
       "cell_index": 28
      }
     ]
    },
    "07189bdf386041298de51c529a42df36": {
     "views": [
      {
       "cell_index": 28
      }
     ]
    },
    "073dc93195c2498dab15fd390668da5a": {
     "views": [
      {
       "cell_index": 28
      }
     ]
    },
    "0764c95cd7234b7f940401909fca309c": {
     "views": [
      {
       "cell_index": 28
      }
     ]
    },
    "0776c1375a3e48079e539ec66a1f38f5": {
     "views": [
      {
       "cell_index": 28
      }
     ]
    },
    "07d3fa5697cc45b5ab4121770220d441": {
     "views": [
      {
       "cell_index": 28
      }
     ]
    },
    "07ee9b5b4bf14393bfb93fef9eb67821": {
     "views": [
      {
       "cell_index": 28
      }
     ]
    },
    "0800110183b54a34981f9f0469d7d4e9": {
     "views": [
      {
       "cell_index": 28
      }
     ]
    },
    "0800b6b361684871a790ee5b49ebc92c": {
     "views": [
      {
       "cell_index": 28
      }
     ]
    },
    "0805dff441174033b4a15e64a0243857": {
     "views": [
      {
       "cell_index": 28
      }
     ]
    },
    "0818ab81839d4cbaa4ed1397b9292307": {
     "views": [
      {
       "cell_index": 28
      }
     ]
    },
    "08815f210c164d0e8d01689e2802be2c": {
     "views": [
      {
       "cell_index": 28
      }
     ]
    },
    "08b8c322ce154fa6a050952afb7815ed": {
     "views": [
      {
       "cell_index": 28
      }
     ]
    },
    "08c4c2c5a4ac4bba9c353ab8302a80c3": {
     "views": [
      {
       "cell_index": 28
      }
     ]
    },
    "09068f16545c4d9da8880708159752d6": {
     "views": [
      {
       "cell_index": 28
      }
     ]
    },
    "09a94eb185e44f50862692684af6c5e3": {
     "views": [
      {
       "cell_index": 28
      }
     ]
    },
    "09ca8b2b7303420b99285b8a8eb5fcb6": {
     "views": [
      {
       "cell_index": 28
      }
     ]
    },
    "09df4d7e7a5d461c95d9c0549bbb5111": {
     "views": [
      {
       "cell_index": 28
      }
     ]
    },
    "09df656d679d4d0488d6b92a060e8461": {
     "views": [
      {
       "cell_index": 28
      }
     ]
    },
    "0a1af59b9cb446c1944187b4fe74609d": {
     "views": [
      {
       "cell_index": 28
      }
     ]
    },
    "0a1c03ef5810476b9078f041bec0306e": {
     "views": [
      {
       "cell_index": 28
      }
     ]
    },
    "0a39586171c54b47942d371c19b6d40e": {
     "views": [
      {
       "cell_index": 28
      }
     ]
    },
    "0a4791e9e37a47ba833024810c608a69": {
     "views": [
      {
       "cell_index": 28
      }
     ]
    },
    "0a4878674f804e118e607c664c49fccf": {
     "views": [
      {
       "cell_index": 28
      }
     ]
    },
    "0a5358b8f58d46eeb3e0f354a9077fd0": {
     "views": [
      {
       "cell_index": 28
      }
     ]
    },
    "0a57c87d55864b3fbc41da513e30afd7": {
     "views": [
      {
       "cell_index": 28
      }
     ]
    },
    "0a6f001f4be04da0becff8f918880f68": {
     "views": [
      {
       "cell_index": 28
      }
     ]
    },
    "0abaa9fb6ade43c2bc51da8beb880e76": {
     "views": [
      {
       "cell_index": 28
      }
     ]
    },
    "0abbd5219b4b440cb0a175345872e50f": {
     "views": [
      {
       "cell_index": 28
      }
     ]
    },
    "0ac1c7a47eeb44c5bfe6b3c009b7da9e": {
     "views": [
      {
       "cell_index": 28
      }
     ]
    },
    "0b24250b01cc40019c5fe5a7ef5c6583": {
     "views": [
      {
       "cell_index": 28
      }
     ]
    },
    "0b5710e0642e4e93bc86080f5341af1e": {
     "views": [
      {
       "cell_index": 28
      }
     ]
    },
    "0bc92f09bf964ac2962b6c2745d173d9": {
     "views": [
      {
       "cell_index": 28
      }
     ]
    },
    "0bdcd11aca0543478388fb0c60f08b9f": {
     "views": [
      {
       "cell_index": 28
      }
     ]
    },
    "0c396e46374843b9b5ef429c8ea2ecfa": {
     "views": [
      {
       "cell_index": 28
      }
     ]
    },
    "0d016f857eb94a6bbcff618fcf04f6b9": {
     "views": [
      {
       "cell_index": 28
      }
     ]
    },
    "0d2709aa8e3647a796dfa539576aa051": {
     "views": [
      {
       "cell_index": 28
      }
     ]
    },
    "0d8fcc5f348b4e6087d44353019df000": {
     "views": [
      {
       "cell_index": 28
      }
     ]
    },
    "0de17d61965a4908a03df2fd15513544": {
     "views": [
      {
       "cell_index": 28
      }
     ]
    },
    "0e641a04bec5485a837ea15b149c4f92": {
     "views": [
      {
       "cell_index": 28
      }
     ]
    },
    "0ea3a47ebf62456d8df9f015765c3c4d": {
     "views": [
      {
       "cell_index": 28
      }
     ]
    },
    "0ed1169c318c47d3a9ddc6c2af89284a": {
     "views": [
      {
       "cell_index": 28
      }
     ]
    },
    "0eea29d5d2eb412a8d2532a19e3bbc78": {
     "views": [
      {
       "cell_index": 28
      }
     ]
    },
    "0eec69a362784a0a871b44eace11a41e": {
     "views": [
      {
       "cell_index": 28
      }
     ]
    },
    "0efa0b13a7044f46987114d10beabbba": {
     "views": [
      {
       "cell_index": 28
      }
     ]
    },
    "0f0076e99521438781bdec26cfc2b062": {
     "views": [
      {
       "cell_index": 28
      }
     ]
    },
    "0f01d5d266b54584919924bf1b5540eb": {
     "views": [
      {
       "cell_index": 28
      }
     ]
    },
    "0f26baa819f542ab8ce77fbe16e73238": {
     "views": [
      {
       "cell_index": 28
      }
     ]
    },
    "0f6b2478be4446eb9f62b6902d214578": {
     "views": [
      {
       "cell_index": 28
      }
     ]
    },
    "0f6f2fa55c204081a64ed8561e2a981f": {
     "views": [
      {
       "cell_index": 28
      }
     ]
    },
    "0f8b7139fa3e4e41aaf3703c44cc4dc0": {
     "views": [
      {
       "cell_index": 28
      }
     ]
    },
    "0f956aa9113748a79c054cae7dce947c": {
     "views": [
      {
       "cell_index": 28
      }
     ]
    },
    "0f963543da6f4618b8d317fff2e3c334": {
     "views": [
      {
       "cell_index": 28
      }
     ]
    },
    "0fed00d4fdde4d048072e5496a13a9dd": {
     "views": [
      {
       "cell_index": 28
      }
     ]
    },
    "103b0bae8cd644fba6a2ca4f23a4db8a": {
     "views": [
      {
       "cell_index": 28
      }
     ]
    },
    "1056ee3c1f7e4c03947860b115136d9a": {
     "views": [
      {
       "cell_index": 28
      }
     ]
    },
    "105c39ff54504d4ab2dc395b6fa56fd6": {
     "views": [
      {
       "cell_index": 28
      }
     ]
    },
    "105e2dd025164d59be6e2ff19449ee65": {
     "views": [
      {
       "cell_index": 28
      }
     ]
    },
    "1074dd0d08a14883b1186b1e2e389bd1": {
     "views": [
      {
       "cell_index": 28
      }
     ]
    },
    "1096d367d57a454faa93e7e9662555b0": {
     "views": [
      {
       "cell_index": 28
      }
     ]
    },
    "10baff463e56404aa6652f11753e89d6": {
     "views": [
      {
       "cell_index": 28
      }
     ]
    },
    "10c5612f68c64f51b5f11017fcc93776": {
     "views": [
      {
       "cell_index": 28
      }
     ]
    },
    "111ab3852ad94f179ed2446f6dbdb0d2": {
     "views": [
      {
       "cell_index": 28
      }
     ]
    },
    "1139840d5a784a77ae4db7167c8e77fd": {
     "views": [
      {
       "cell_index": 28
      }
     ]
    },
    "118f14ad7dcb42cb825676ff099bcc40": {
     "views": [
      {
       "cell_index": 28
      }
     ]
    },
    "1190e0881f00485ca9c0ddb07d8569f0": {
     "views": [
      {
       "cell_index": 28
      }
     ]
    },
    "1195a6d8cf7a4edc89573f1722101c5f": {
     "views": [
      {
       "cell_index": 28
      }
     ]
    },
    "11af2c99b0af4ff19a5bda1f1bb594fc": {
     "views": [
      {
       "cell_index": 28
      }
     ]
    },
    "11b82e0bc3f84e2ca0bd420e655bf4a7": {
     "views": [
      {
       "cell_index": 28
      }
     ]
    },
    "11c34ab46212477ba70b0eb928fd8718": {
     "views": [
      {
       "cell_index": 28
      }
     ]
    },
    "11c95d9afda7440ea87ee7122902f171": {
     "views": [
      {
       "cell_index": 28
      }
     ]
    },
    "11fab9ad648d4546a6c5f067811e3198": {
     "views": [
      {
       "cell_index": 28
      }
     ]
    },
    "121c35b0f47e458399a1ca5ff9fe3746": {
     "views": [
      {
       "cell_index": 28
      }
     ]
    },
    "1237a581bfcf41da82fb218b0a6e83b1": {
     "views": [
      {
       "cell_index": 28
      }
     ]
    },
    "126d473fb3d44efd9223431eb997fbe9": {
     "views": [
      {
       "cell_index": 28
      }
     ]
    },
    "12b69f8eea45470087c48628580d524b": {
     "views": [
      {
       "cell_index": 28
      }
     ]
    },
    "12fef59618a5461fb1f7d6043f0a60de": {
     "views": [
      {
       "cell_index": 28
      }
     ]
    },
    "133b74c351ea436184108ebbce94834b": {
     "views": [
      {
       "cell_index": 28
      }
     ]
    },
    "1355887445004c8a990556c3797adcc8": {
     "views": [
      {
       "cell_index": 28
      }
     ]
    },
    "13705038dc7543399cb24abc8fb5bcc8": {
     "views": [
      {
       "cell_index": 28
      }
     ]
    },
    "137268808f654d5cb619a94ccf049263": {
     "views": [
      {
       "cell_index": 28
      }
     ]
    },
    "13744ead3a3647ff85988a976fc0d700": {
     "views": [
      {
       "cell_index": 28
      }
     ]
    },
    "139b8100b0e14d5eb77f2914f277c8b9": {
     "views": [
      {
       "cell_index": 28
      }
     ]
    },
    "13a1c339d5dd4700a79f3a5b35b46506": {
     "views": [
      {
       "cell_index": 28
      }
     ]
    },
    "13caa990d99e457fb974be31a8a8d61f": {
     "views": [
      {
       "cell_index": 28
      }
     ]
    },
    "13e6329671744915a66c9acdf4ceb670": {
     "views": [
      {
       "cell_index": 28
      }
     ]
    },
    "13f616c0cb3049769b9a9ffb2bfb732e": {
     "views": [
      {
       "cell_index": 28
      }
     ]
    },
    "142cbd09794a4280b4e775d7e4f46819": {
     "views": [
      {
       "cell_index": 28
      }
     ]
    },
    "145be1a96d7b46aeb2efdd1a010a48e3": {
     "views": [
      {
       "cell_index": 28
      }
     ]
    },
    "14a0262c289a4209892488a2c08c1811": {
     "views": [
      {
       "cell_index": 28
      }
     ]
    },
    "14a709eaf8754d0680784f84fe8e136a": {
     "views": [
      {
       "cell_index": 28
      }
     ]
    },
    "14a95ed38c714cd0b12353b9fd241141": {
     "views": [
      {
       "cell_index": 28
      }
     ]
    },
    "14d3a934069646298f880bd305a13a2c": {
     "views": [
      {
       "cell_index": 28
      }
     ]
    },
    "14fac6c6c23c4f89bdad91c1d698b12b": {
     "views": [
      {
       "cell_index": 28
      }
     ]
    },
    "1530a70b2cd44fe49c444f1689b03215": {
     "views": [
      {
       "cell_index": 28
      }
     ]
    },
    "153892aa27524fd49e7b2ce7b4c5764c": {
     "views": [
      {
       "cell_index": 28
      }
     ]
    },
    "1598c5738e8c476094d45f4349631940": {
     "views": [
      {
       "cell_index": 28
      }
     ]
    },
    "15a75b90061b4fdcb0b1320d34e9a037": {
     "views": [
      {
       "cell_index": 28
      }
     ]
    },
    "15bb0409e9af4d22bab3812d5066b3d9": {
     "views": [
      {
       "cell_index": 28
      }
     ]
    },
    "15cf9e6ef3c640cab91b597c05453bef": {
     "views": [
      {
       "cell_index": 28
      }
     ]
    },
    "15efca418ee9407aa4447d967d37ac0d": {
     "views": [
      {
       "cell_index": 28
      }
     ]
    },
    "160873786ce44f728cf111b52610a064": {
     "views": [
      {
       "cell_index": 28
      }
     ]
    },
    "164aa2edd7a74660854f52f32b256f78": {
     "views": [
      {
       "cell_index": 28
      }
     ]
    },
    "165cdbade77a433caf3c4d12fcca59b9": {
     "views": [
      {
       "cell_index": 28
      }
     ]
    },
    "168187b9df264282966a0ce00c10d888": {
     "views": [
      {
       "cell_index": 28
      }
     ]
    },
    "16a88d6bde6c4de29e141c22a2e4464e": {
     "views": [
      {
       "cell_index": 28
      }
     ]
    },
    "16af44dee9dd46b5a74b85fe1df00bf6": {
     "views": [
      {
       "cell_index": 28
      }
     ]
    },
    "16b1501519914bc9827c6273790ff8c6": {
     "views": [
      {
       "cell_index": 28
      }
     ]
    },
    "16c245bf81054bcca9bafc45ebbee8e6": {
     "views": [
      {
       "cell_index": 28
      }
     ]
    },
    "16d2772a4bec4e9fb0b7a0563232c670": {
     "views": [
      {
       "cell_index": 28
      }
     ]
    },
    "1719677c3382478db59024bcd142d16f": {
     "views": [
      {
       "cell_index": 28
      }
     ]
    },
    "172121c6c1f34166b7226416328cbcea": {
     "views": [
      {
       "cell_index": 28
      }
     ]
    },
    "17506f8d2fc24046bb514c8f443c4f0c": {
     "views": [
      {
       "cell_index": 28
      }
     ]
    },
    "175c6aa6efc9409ab7b7d49bc0513499": {
     "views": [
      {
       "cell_index": 28
      }
     ]
    },
    "175d6a147c55472c86fe960a1d9d36a7": {
     "views": [
      {
       "cell_index": 28
      }
     ]
    },
    "1767aff57edc43929ae1266f25f45595": {
     "views": [
      {
       "cell_index": 28
      }
     ]
    },
    "17809f5243464157a9df3c1d333390f2": {
     "views": [
      {
       "cell_index": 28
      }
     ]
    },
    "1786d5af9931443f8187459c4312699a": {
     "views": [
      {
       "cell_index": 28
      }
     ]
    },
    "17e65570bb6243979fc994a39fed8b02": {
     "views": [
      {
       "cell_index": 28
      }
     ]
    },
    "17e7500663e441c889515ba99115daef": {
     "views": [
      {
       "cell_index": 28
      }
     ]
    },
    "1819b8f3ab244a98a2479e89be7f9739": {
     "views": [
      {
       "cell_index": 28
      }
     ]
    },
    "18397073202245758fef97f8bba633be": {
     "views": [
      {
       "cell_index": 28
      }
     ]
    },
    "18404c93768b4c9ba5e9cad902dca0ad": {
     "views": [
      {
       "cell_index": 28
      }
     ]
    },
    "184e71124a0a47268193e426e6c12991": {
     "views": [
      {
       "cell_index": 28
      }
     ]
    },
    "1863764cf2c945b38bc0edaed0a54984": {
     "views": [
      {
       "cell_index": 28
      }
     ]
    },
    "18639b52f9cd439ab2c1ff15e648c686": {
     "views": [
      {
       "cell_index": 28
      }
     ]
    },
    "18e2acad63e94b2f8b7f06d667ee81e1": {
     "views": [
      {
       "cell_index": 28
      }
     ]
    },
    "18fd3cb35a4746fd9acea02f05fe3216": {
     "views": [
      {
       "cell_index": 28
      }
     ]
    },
    "190e6a457531472b8a8ad77fcaae6b05": {
     "views": [
      {
       "cell_index": 28
      }
     ]
    },
    "191e99aea5bf47b0b873141909765669": {
     "views": [
      {
       "cell_index": 28
      }
     ]
    },
    "193400fbaff34c928d0d340de8ae6430": {
     "views": [
      {
       "cell_index": 28
      }
     ]
    },
    "196c28cee9a944ddb0053f5f273f8ab3": {
     "views": [
      {
       "cell_index": 28
      }
     ]
    },
    "196fa6ad47a446adad33ca748eba7d5c": {
     "views": [
      {
       "cell_index": 28
      }
     ]
    },
    "19db70a246d7447185739f8d616a8da4": {
     "views": [
      {
       "cell_index": 28
      }
     ]
    },
    "19e7ab7048ee478e9bab2a5294df47d1": {
     "views": [
      {
       "cell_index": 28
      }
     ]
    },
    "1a0d74c8a6ce4f8b95b5885d41f9c2ff": {
     "views": [
      {
       "cell_index": 28
      }
     ]
    },
    "1aa71a1dfa8247e29eb0ce4066b27b57": {
     "views": [
      {
       "cell_index": 28
      }
     ]
    },
    "1abec7273ab54381b2e6dd0cbcb2f046": {
     "views": [
      {
       "cell_index": 28
      }
     ]
    },
    "1aca453946d64c72ae1835d87950ab28": {
     "views": [
      {
       "cell_index": 28
      }
     ]
    },
    "1acf416dd6af433ca1270de4157f554c": {
     "views": [
      {
       "cell_index": 28
      }
     ]
    },
    "1b2c7341f2c14b38bcec38ea730646f7": {
     "views": [
      {
       "cell_index": 28
      }
     ]
    },
    "1b44d735f0ed4cbb98dcaa4e30d75c1f": {
     "views": [
      {
       "cell_index": 28
      }
     ]
    },
    "1b5a313ae93c44768627a58a9f776160": {
     "views": [
      {
       "cell_index": 28
      }
     ]
    },
    "1b7f7e530d614ae18de47b07b7051a1d": {
     "views": [
      {
       "cell_index": 28
      }
     ]
    },
    "1ba0393048b743f9be43148aa4657759": {
     "views": [
      {
       "cell_index": 28
      }
     ]
    },
    "1bb5ce5deefc4cee9ddd5c63442d86c2": {
     "views": [
      {
       "cell_index": 28
      }
     ]
    },
    "1bc17ba7f1274fc28d47ca3a2806a6f5": {
     "views": [
      {
       "cell_index": 28
      }
     ]
    },
    "1bd86b1c8ace4f79ab059c6714cc8499": {
     "views": [
      {
       "cell_index": 28
      }
     ]
    },
    "1c09e126f76141c8b4bd5f1bcf0a4e8a": {
     "views": [
      {
       "cell_index": 28
      }
     ]
    },
    "1c32a7ffd76b474585790d3eb56edc79": {
     "views": [
      {
       "cell_index": 28
      }
     ]
    },
    "1c83234d071a4b2093a80d02ee8ac96e": {
     "views": [
      {
       "cell_index": 28
      }
     ]
    },
    "1c8bca3c33054ac6a1ca069c06482f92": {
     "views": [
      {
       "cell_index": 28
      }
     ]
    },
    "1cb799e1c90940b7a7ba71751ecfb2e8": {
     "views": [
      {
       "cell_index": 28
      }
     ]
    },
    "1cbef5c46c774325bd832f22e01a30f5": {
     "views": [
      {
       "cell_index": 28
      }
     ]
    },
    "1ce536ef3a74415c978199e63c3852a1": {
     "views": [
      {
       "cell_index": 28
      }
     ]
    },
    "1cf1a464f8824245829bf52a68374630": {
     "views": [
      {
       "cell_index": 28
      }
     ]
    },
    "1cfac3155d334d399d0b7800c948c314": {
     "views": [
      {
       "cell_index": 28
      }
     ]
    },
    "1d0828316fe241748b6aa71cef99e409": {
     "views": [
      {
       "cell_index": 28
      }
     ]
    },
    "1d0b5e01daa04c229e215e0a999bd107": {
     "views": [
      {
       "cell_index": 28
      }
     ]
    },
    "1d338eb9d7e44bc0bb7d089557c71a2c": {
     "views": [
      {
       "cell_index": 28
      }
     ]
    },
    "1d4214723a9e424d98dcf71c1c00fb4d": {
     "views": [
      {
       "cell_index": 28
      }
     ]
    },
    "1d87ed42a17447c0bf41606c567dd84c": {
     "views": [
      {
       "cell_index": 28
      }
     ]
    },
    "1d994365574d4ab785b4dde06d526bee": {
     "views": [
      {
       "cell_index": 28
      }
     ]
    },
    "1dc0a7655b6d4dee8341b3314c24e98e": {
     "views": [
      {
       "cell_index": 28
      }
     ]
    },
    "1dd500ff0e344e95b3f0c9d417a007e4": {
     "views": [
      {
       "cell_index": 28
      }
     ]
    },
    "1e0c9cfed231478598762366a35ac3bb": {
     "views": [
      {
       "cell_index": 28
      }
     ]
    },
    "1e0e9bfdbf2547bda52cd5b35832b1ad": {
     "views": [
      {
       "cell_index": 28
      }
     ]
    },
    "1e3a4d7f5e904b9aad4ae7a1a8a2bbe2": {
     "views": [
      {
       "cell_index": 28
      }
     ]
    },
    "1e5614cb2dc149539716b5e3452ffaf7": {
     "views": [
      {
       "cell_index": 28
      }
     ]
    },
    "1eb69d26bbb34e96a3f743b66fa82644": {
     "views": [
      {
       "cell_index": 28
      }
     ]
    },
    "1ebfaac0211b48dba8ea206dd50f9bda": {
     "views": [
      {
       "cell_index": 28
      }
     ]
    },
    "1ec864de3c5e4816b0c6368ee7674132": {
     "views": [
      {
       "cell_index": 28
      }
     ]
    },
    "1f067a5931d54bf89095b0b0ef1a555d": {
     "views": [
      {
       "cell_index": 28
      }
     ]
    },
    "1f184ea73a6f42a4a98d65af53271424": {
     "views": [
      {
       "cell_index": 28
      }
     ]
    },
    "1f1c481e43f24575a61b4fc8a7a3c77f": {
     "views": [
      {
       "cell_index": 28
      }
     ]
    },
    "1f1db1f3e9c64f10a47531f528fc4fa6": {
     "views": [
      {
       "cell_index": 28
      }
     ]
    },
    "1f2032b95ce5403ab481cc8842bc2517": {
     "views": [
      {
       "cell_index": 28
      }
     ]
    },
    "1f2457cdcfc04e42a4f3fb5c936f1959": {
     "views": [
      {
       "cell_index": 28
      }
     ]
    },
    "1f40a6f543294d1ba3f2492e4164330a": {
     "views": [
      {
       "cell_index": 28
      }
     ]
    },
    "1f6183251a964d859f63c8014955f91e": {
     "views": [
      {
       "cell_index": 28
      }
     ]
    },
    "1f847d7022d340ecb854d45cc7ac119b": {
     "views": [
      {
       "cell_index": 28
      }
     ]
    },
    "1f9324070b28496bb81c919562f6ebf9": {
     "views": [
      {
       "cell_index": 28
      }
     ]
    },
    "1f9e293dddfe4fbb80fb43440824486d": {
     "views": [
      {
       "cell_index": 28
      }
     ]
    },
    "1fd6b972ca154793bb62bed3dbe7944b": {
     "views": [
      {
       "cell_index": 28
      }
     ]
    },
    "1fed64e757234c64ac13c7395d497066": {
     "views": [
      {
       "cell_index": 28
      }
     ]
    },
    "200530cedc114bfe965846d1283f3379": {
     "views": [
      {
       "cell_index": 28
      }
     ]
    },
    "201f40588fcf4692b73a05ea7ab94471": {
     "views": [
      {
       "cell_index": 28
      }
     ]
    },
    "202b20e12d0c4e0886d5f92a1c648801": {
     "views": [
      {
       "cell_index": 28
      }
     ]
    },
    "204c6425934342f1b9d22a3cf578c065": {
     "views": [
      {
       "cell_index": 28
      }
     ]
    },
    "20f7f8642a83401b80d88fce644395c0": {
     "views": [
      {
       "cell_index": 28
      }
     ]
    },
    "20f9a3bc8eeb4eb8ae583576714d6e75": {
     "views": [
      {
       "cell_index": 28
      }
     ]
    },
    "2127b25444e5461e83d779c2ce6e34b2": {
     "views": [
      {
       "cell_index": 28
      }
     ]
    },
    "217833c3adcb461b8d3b61b3f56aa602": {
     "views": [
      {
       "cell_index": 28
      }
     ]
    },
    "217a25d60a0f40e4bc8632727193e97d": {
     "views": [
      {
       "cell_index": 28
      }
     ]
    },
    "21840e8afac84931aa979bfabe6587c7": {
     "views": [
      {
       "cell_index": 28
      }
     ]
    },
    "21ae4ece25fa40debf5eb5fb4a83cdaf": {
     "views": [
      {
       "cell_index": 28
      }
     ]
    },
    "21c0d4b6c4c541a391c5ebb76369c11e": {
     "views": [
      {
       "cell_index": 28
      }
     ]
    },
    "21dc692577ca400a821ba7c5d9bc27ec": {
     "views": [
      {
       "cell_index": 28
      }
     ]
    },
    "21fc376d28dc4d92b1a9b2cece11c214": {
     "views": [
      {
       "cell_index": 28
      }
     ]
    },
    "220148fed8bc4bd1b46f08b4ba2ac87d": {
     "views": [
      {
       "cell_index": 28
      }
     ]
    },
    "2276a5aa26914024af479976f0fad7d6": {
     "views": [
      {
       "cell_index": 28
      }
     ]
    },
    "228535ff04564fe58606bebc3fe35c20": {
     "views": [
      {
       "cell_index": 28
      }
     ]
    },
    "22ab8936957447c999740c664234efe0": {
     "views": [
      {
       "cell_index": 28
      }
     ]
    },
    "22df4e331fad4724a447f6f79b66e273": {
     "views": [
      {
       "cell_index": 28
      }
     ]
    },
    "22df73e513814b69a92f06af7bbdf503": {
     "views": [
      {
       "cell_index": 28
      }
     ]
    },
    "22e273862f194a2296087012fc66348a": {
     "views": [
      {
       "cell_index": 28
      }
     ]
    },
    "22f0e1a39c484c3486a7cc383f3f3954": {
     "views": [
      {
       "cell_index": 28
      }
     ]
    },
    "22f7377ca54a48d4a4736d156051906e": {
     "views": [
      {
       "cell_index": 28
      }
     ]
    },
    "23038deb58ab4ef58352aa13e5682e7f": {
     "views": [
      {
       "cell_index": 28
      }
     ]
    },
    "2361d62a8f2247d0987a334be936e2a8": {
     "views": [
      {
       "cell_index": 28
      }
     ]
    },
    "23677b83c65848f39cceab46203916ee": {
     "views": [
      {
       "cell_index": 28
      }
     ]
    },
    "23f159dcf7584eb9bb2eaaa67984c134": {
     "views": [
      {
       "cell_index": 28
      }
     ]
    },
    "2410f9453f094ecfb4b9ebd282e8637f": {
     "views": [
      {
       "cell_index": 28
      }
     ]
    },
    "244184aab2d743b48d064949e6fd6f47": {
     "views": [
      {
       "cell_index": 28
      }
     ]
    },
    "245fce08e3fd45e19061af2b6c8da675": {
     "views": [
      {
       "cell_index": 28
      }
     ]
    },
    "246a1cf3082f4c9c84b852d274b0c029": {
     "views": [
      {
       "cell_index": 28
      }
     ]
    },
    "24b92d6993eb429b92f3d1c3d6b3db70": {
     "views": [
      {
       "cell_index": 28
      }
     ]
    },
    "24e447d90c6c49e2bf3f50e86dae5e61": {
     "views": [
      {
       "cell_index": 28
      }
     ]
    },
    "25052d4342214b22976c8e8f4b6babf8": {
     "views": [
      {
       "cell_index": 28
      }
     ]
    },
    "250fc72fc8834ea285e7bb19bbe7a115": {
     "views": [
      {
       "cell_index": 28
      }
     ]
    },
    "25409ca90df4498d8ee463ea94a289a2": {
     "views": [
      {
       "cell_index": 28
      }
     ]
    },
    "25893b559f04478da4017dfb89a85df5": {
     "views": [
      {
       "cell_index": 28
      }
     ]
    },
    "2599c81644b8478989aced2cebf2af5a": {
     "views": [
      {
       "cell_index": 28
      }
     ]
    },
    "25bc012142da4323878f6ca479b681a3": {
     "views": [
      {
       "cell_index": 28
      }
     ]
    },
    "25d621493fa74dc482ab1ad653fe0306": {
     "views": [
      {
       "cell_index": 28
      }
     ]
    },
    "2629b33036f242779ccbf3b349b1f4dd": {
     "views": [
      {
       "cell_index": 28
      }
     ]
    },
    "26378873d8f44ca1a5b1e078fee8908a": {
     "views": [
      {
       "cell_index": 28
      }
     ]
    },
    "26689b270d8b4b148b23ba1e7ed8c59e": {
     "views": [
      {
       "cell_index": 28
      }
     ]
    },
    "26bb2b15429e403cac68fc24df195693": {
     "views": [
      {
       "cell_index": 28
      }
     ]
    },
    "26bc6a946d6d4ed5bb88e6b842df6d5c": {
     "views": [
      {
       "cell_index": 28
      }
     ]
    },
    "26d6c72632fd49fbbf8c6a85370f2427": {
     "views": [
      {
       "cell_index": 28
      }
     ]
    },
    "2724bbbdf6f74f2c8e547d3ec3d3f7fe": {
     "views": [
      {
       "cell_index": 28
      }
     ]
    },
    "27270e25221a47d6b9174e8b2c35e84b": {
     "views": [
      {
       "cell_index": 28
      }
     ]
    },
    "27510ddb65c945c2b8c3f763fa9871fd": {
     "views": [
      {
       "cell_index": 28
      }
     ]
    },
    "2760758e63754d4c894c0ae5b8721311": {
     "views": [
      {
       "cell_index": 28
      }
     ]
    },
    "2778ebe99d614e7d807536f382ce01f2": {
     "views": [
      {
       "cell_index": 28
      }
     ]
    },
    "2779b33c90cf4f66b56530dd3eb2ac0d": {
     "views": [
      {
       "cell_index": 28
      }
     ]
    },
    "2789888acf5b4879b76229baf03774c1": {
     "views": [
      {
       "cell_index": 28
      }
     ]
    },
    "27a1f0149d9a4f3a924d84009c80e6c6": {
     "views": [
      {
       "cell_index": 28
      }
     ]
    },
    "27c6feb815e04f6699c3554f4b80ad4c": {
     "views": [
      {
       "cell_index": 28
      }
     ]
    },
    "27f1858f069440589eaeea6450d9300b": {
     "views": [
      {
       "cell_index": 28
      }
     ]
    },
    "27fdbf5651ee4c1c9a97cc802c7e99cc": {
     "views": [
      {
       "cell_index": 28
      }
     ]
    },
    "2806739109da4ea38c7320fdded2d150": {
     "views": [
      {
       "cell_index": 28
      }
     ]
    },
    "28202cc183c140a29c74969ac95ac5dc": {
     "views": [
      {
       "cell_index": 28
      }
     ]
    },
    "2837d9f0caeb48e8b2010e6ae60d569c": {
     "views": [
      {
       "cell_index": 28
      }
     ]
    },
    "28464c12086d4c55927d58c70f89faf9": {
     "views": [
      {
       "cell_index": 28
      }
     ]
    },
    "285bf4b593e84db7bbfc7660b1464c89": {
     "views": [
      {
       "cell_index": 28
      }
     ]
    },
    "28b90a9d962e4c67b21a127e1555979e": {
     "views": [
      {
       "cell_index": 28
      }
     ]
    },
    "28e4ce26b3b84fd0bae68f4a5df2c618": {
     "views": [
      {
       "cell_index": 28
      }
     ]
    },
    "28e9110da74349a186c83de173fbd6ad": {
     "views": [
      {
       "cell_index": 28
      }
     ]
    },
    "292bb065a5874ea89c46fb8312ebe8eb": {
     "views": [
      {
       "cell_index": 28
      }
     ]
    },
    "2935fc26ad5c4b0b816cc1de62570ff6": {
     "views": [
      {
       "cell_index": 28
      }
     ]
    },
    "2972661795ba449f9ccf2ca90795a02e": {
     "views": [
      {
       "cell_index": 28
      }
     ]
    },
    "29c8a733a97c428f8cec1c73517a90ea": {
     "views": [
      {
       "cell_index": 28
      }
     ]
    },
    "2a09356cee394b7782d9640652ee20b6": {
     "views": [
      {
       "cell_index": 28
      }
     ]
    },
    "2a0e5b3a9ae44caa8e4e9d65fc3d0f21": {
     "views": [
      {
       "cell_index": 28
      }
     ]
    },
    "2a3a9d0c5a6946859ebfb37e58f19ff5": {
     "views": [
      {
       "cell_index": 28
      }
     ]
    },
    "2a68dcd3468b4ec7b6fb49c0c91e8cba": {
     "views": [
      {
       "cell_index": 28
      }
     ]
    },
    "2a6a30c2dd134d949713ee382c327bf3": {
     "views": [
      {
       "cell_index": 28
      }
     ]
    },
    "2a7ddb8999fc4ca9be57ad0eee312696": {
     "views": [
      {
       "cell_index": 28
      }
     ]
    },
    "2a9b441c3e6c4e59bf1cdea0c51ddb9c": {
     "views": [
      {
       "cell_index": 28
      }
     ]
    },
    "2ab1701c7bed46a9a42124133d8dc4a4": {
     "views": [
      {
       "cell_index": 28
      }
     ]
    },
    "2abbe0a0c02142e58814ddf56b52329f": {
     "views": [
      {
       "cell_index": 28
      }
     ]
    },
    "2ac0cb859fda499b9147dfd328ea57db": {
     "views": [
      {
       "cell_index": 28
      }
     ]
    },
    "2ad52948b1bb40efbff62dd5be1af7c8": {
     "views": [
      {
       "cell_index": 28
      }
     ]
    },
    "2ae62d712f9e4605a78038472c9d80ba": {
     "views": [
      {
       "cell_index": 28
      }
     ]
    },
    "2ae9e7be461745f4b02786a9df5914f3": {
     "views": [
      {
       "cell_index": 28
      }
     ]
    },
    "2b0f91b759284f3b8aa8c754e2605d35": {
     "views": [
      {
       "cell_index": 28
      }
     ]
    },
    "2b67596a63254c659749b4881c798e05": {
     "views": [
      {
       "cell_index": 28
      }
     ]
    },
    "2b83c512a21f41c7bd7250359bc6ca56": {
     "views": [
      {
       "cell_index": 28
      }
     ]
    },
    "2bcb426870514d5e85907bd3a0b4b339": {
     "views": [
      {
       "cell_index": 28
      }
     ]
    },
    "2bfea4afb0f44851921fef9bdb9e7eec": {
     "views": [
      {
       "cell_index": 28
      }
     ]
    },
    "2c503e7de2424ab1a31170b77ac7adb3": {
     "views": [
      {
       "cell_index": 28
      }
     ]
    },
    "2c7eaf892e8d431580bea713bd4b272e": {
     "views": [
      {
       "cell_index": 28
      }
     ]
    },
    "2c8c03efdd7a44f9b109af4b111c0841": {
     "views": [
      {
       "cell_index": 28
      }
     ]
    },
    "2ce5579a24144e6794410adc0f087168": {
     "views": [
      {
       "cell_index": 28
      }
     ]
    },
    "2d5a858e033e46f997bd532eb1e98a4f": {
     "views": [
      {
       "cell_index": 28
      }
     ]
    },
    "2d7ca04f9b534d2cb6eb95db37069141": {
     "views": [
      {
       "cell_index": 28
      }
     ]
    },
    "2d8b66d6ed6647bb9edbc616ba5b118f": {
     "views": [
      {
       "cell_index": 28
      }
     ]
    },
    "2ddd3fd124854235b2d525de5600dae1": {
     "views": [
      {
       "cell_index": 28
      }
     ]
    },
    "2dde9fcfee514f268dfbbb464ef9f123": {
     "views": [
      {
       "cell_index": 28
      }
     ]
    },
    "2de9d968f8104a8aaf3ddb3e43ef00ea": {
     "views": [
      {
       "cell_index": 28
      }
     ]
    },
    "2df97d2252774591b911ec2c1535fc38": {
     "views": [
      {
       "cell_index": 28
      }
     ]
    },
    "2e0f476236fe4879aaa7fb8d47e2a615": {
     "views": [
      {
       "cell_index": 28
      }
     ]
    },
    "2e1d205d6250421886a7c85a4b94a9b6": {
     "views": [
      {
       "cell_index": 28
      }
     ]
    },
    "2e28ad74b6d14070974565a3b0b27994": {
     "views": [
      {
       "cell_index": 28
      }
     ]
    },
    "2e8639c06be84d9d90b302e55b566720": {
     "views": [
      {
       "cell_index": 28
      }
     ]
    },
    "2ef6475e4d954f3b9c420e962d3b8e70": {
     "views": [
      {
       "cell_index": 28
      }
     ]
    },
    "2efd4fa4c1e34c509fe823c1f4b54853": {
     "views": [
      {
       "cell_index": 28
      }
     ]
    },
    "2f0c65a074344b04a73b7ec46e0e2c51": {
     "views": [
      {
       "cell_index": 28
      }
     ]
    },
    "2f25e35c732446bdb3fd327f11ead7ef": {
     "views": [
      {
       "cell_index": 28
      }
     ]
    },
    "2f2d560223ce43a2896f20854ff52a46": {
     "views": [
      {
       "cell_index": 28
      }
     ]
    },
    "2f5162da6f1f4d2f8c169bf2a914e576": {
     "views": [
      {
       "cell_index": 28
      }
     ]
    },
    "2f75bd1724b34cb8b527cece4d8ef142": {
     "views": [
      {
       "cell_index": 28
      }
     ]
    },
    "2fe56e15b9b742ec947b130b92b4d2c6": {
     "views": [
      {
       "cell_index": 28
      }
     ]
    },
    "302369dcc57b413dbc11cfbda61a81d2": {
     "views": [
      {
       "cell_index": 28
      }
     ]
    },
    "30709c81021444d6861a22fad1784a48": {
     "views": [
      {
       "cell_index": 28
      }
     ]
    },
    "30851126efa04be6836c2954b01753e5": {
     "views": [
      {
       "cell_index": 28
      }
     ]
    },
    "30b8209c5b0d4809952e2af5390035b3": {
     "views": [
      {
       "cell_index": 28
      }
     ]
    },
    "30bd284bba5f45b092be7b5f9a399072": {
     "views": [
      {
       "cell_index": 28
      }
     ]
    },
    "30f450e1dd83413db60edffc96d098eb": {
     "views": [
      {
       "cell_index": 28
      }
     ]
    },
    "30fcbda51f0c4413b5ae2bde9cb678e2": {
     "views": [
      {
       "cell_index": 28
      }
     ]
    },
    "3100b64842e04e9a947234b78121f964": {
     "views": [
      {
       "cell_index": 28
      }
     ]
    },
    "31187d1559e14a6e9f22afae5fa9695b": {
     "views": [
      {
       "cell_index": 28
      }
     ]
    },
    "3150d3cb050b49dbb52d1a8b94edc8de": {
     "views": [
      {
       "cell_index": 28
      }
     ]
    },
    "31544084288a4e3386c9c7438d8c039d": {
     "views": [
      {
       "cell_index": 28
      }
     ]
    },
    "315ddbd384254484bf26e4bc05d2f03b": {
     "views": [
      {
       "cell_index": 28
      }
     ]
    },
    "31661c2e360447f0a49b3bcec67c2ac9": {
     "views": [
      {
       "cell_index": 28
      }
     ]
    },
    "3177255e4e4c45608c7194245068316c": {
     "views": [
      {
       "cell_index": 28
      }
     ]
    },
    "318a96e6929a4064977db6f8dee21038": {
     "views": [
      {
       "cell_index": 28
      }
     ]
    },
    "319830c604a74c2b8785d39a277d38f3": {
     "views": [
      {
       "cell_index": 28
      }
     ]
    },
    "31a735516a5f416ab07871c90c3cad0d": {
     "views": [
      {
       "cell_index": 28
      }
     ]
    },
    "31b1466c978745ee94c701606884ad25": {
     "views": [
      {
       "cell_index": 28
      }
     ]
    },
    "31d29a69ce6c434eb0d18d60dcbd0121": {
     "views": [
      {
       "cell_index": 28
      }
     ]
    },
    "31e37bc1c01b4ec4bafc038888bc8563": {
     "views": [
      {
       "cell_index": 28
      }
     ]
    },
    "322d3ce3572d42e4af3e2af0eb27c7e1": {
     "views": [
      {
       "cell_index": 28
      }
     ]
    },
    "322eac3392d14d08bdc6d1c2ed3525be": {
     "views": [
      {
       "cell_index": 28
      }
     ]
    },
    "324d07387cd34bc4bb2fb7d126517fd8": {
     "views": [
      {
       "cell_index": 28
      }
     ]
    },
    "328372c0ba994832848894c851e6c2c4": {
     "views": [
      {
       "cell_index": 28
      }
     ]
    },
    "32970f01ecde434b9694d07f9d181290": {
     "views": [
      {
       "cell_index": 28
      }
     ]
    },
    "32c4a21aa70147a59c19fd0d6330b567": {
     "views": [
      {
       "cell_index": 28
      }
     ]
    },
    "32e998e1a8e146ccb3d96134c3d08ccc": {
     "views": [
      {
       "cell_index": 28
      }
     ]
    },
    "32ef2b5b9374400fb916dd46ffd8d012": {
     "views": [
      {
       "cell_index": 28
      }
     ]
    },
    "331288db5b2d4a5b83d79ef5c207c62a": {
     "views": [
      {
       "cell_index": 28
      }
     ]
    },
    "33675169744c48b388a66a2baf1a3ee7": {
     "views": [
      {
       "cell_index": 28
      }
     ]
    },
    "33698e2c26734580ae6562d2db940cbc": {
     "views": [
      {
       "cell_index": 28
      }
     ]
    },
    "33920d03508b405aa8d74ffc0ac44a1d": {
     "views": [
      {
       "cell_index": 28
      }
     ]
    },
    "33d3a1d6163d4ac3a522afdc0f052c84": {
     "views": [
      {
       "cell_index": 28
      }
     ]
    },
    "33d9a97a776543e9a9792c10b934762a": {
     "views": [
      {
       "cell_index": 28
      }
     ]
    },
    "33da12aaa8224b3a9a309bda6db1ff75": {
     "views": [
      {
       "cell_index": 28
      }
     ]
    },
    "33eaa894ee504e4ca5c618a845cd10de": {
     "views": [
      {
       "cell_index": 28
      }
     ]
    },
    "33ffe3ade5ce466b994f5a259a94d13c": {
     "views": [
      {
       "cell_index": 28
      }
     ]
    },
    "3413b56412554e498f2fbde88694c846": {
     "views": [
      {
       "cell_index": 28
      }
     ]
    },
    "344a98ca7e5c4fa2b7aac2e0962212ae": {
     "views": [
      {
       "cell_index": 28
      }
     ]
    },
    "345e1b9031894135ba13651f1338a96a": {
     "views": [
      {
       "cell_index": 28
      }
     ]
    },
    "34739a9b50224c4389770b25d698cf71": {
     "views": [
      {
       "cell_index": 28
      }
     ]
    },
    "34c9ca65bb734ae2ad29ef993ca5e969": {
     "views": [
      {
       "cell_index": 28
      }
     ]
    },
    "34d72b815ff146fc9272da4ec073ea86": {
     "views": [
      {
       "cell_index": 28
      }
     ]
    },
    "34fae8784b8e40e099d2d58a2de5652b": {
     "views": [
      {
       "cell_index": 28
      }
     ]
    },
    "35108a1ff6754a879f958d911ef20e5e": {
     "views": [
      {
       "cell_index": 28
      }
     ]
    },
    "351ad6df6fb44260b0cdeb4549c82d7b": {
     "views": [
      {
       "cell_index": 28
      }
     ]
    },
    "3538a54f367147e6b71e5f5bdc6d52a1": {
     "views": [
      {
       "cell_index": 28
      }
     ]
    },
    "3599831fb06541da82b2e2ef0f47d522": {
     "views": [
      {
       "cell_index": 28
      }
     ]
    },
    "359b5132510d4d6eb8e6d388005563f3": {
     "views": [
      {
       "cell_index": 28
      }
     ]
    },
    "35dd2c582d904dae9603c8254c37cd59": {
     "views": [
      {
       "cell_index": 28
      }
     ]
    },
    "35df2384a78c4af2ac442c9cbc156785": {
     "views": [
      {
       "cell_index": 28
      }
     ]
    },
    "35fdba9e779541b6b675dfac01137a7b": {
     "views": [
      {
       "cell_index": 28
      }
     ]
    },
    "361940a3d18846aebb77b9620899353f": {
     "views": [
      {
       "cell_index": 28
      }
     ]
    },
    "36253470abb74ecab64b6c5ed9567417": {
     "views": [
      {
       "cell_index": 28
      }
     ]
    },
    "364a6aa3daa7442c9aef7ab8b2300f26": {
     "views": [
      {
       "cell_index": 28
      }
     ]
    },
    "3650183467a646e7b046f40a53e7619c": {
     "views": [
      {
       "cell_index": 28
      }
     ]
    },
    "365fd8cd3419476e9611ade97cf029f2": {
     "views": [
      {
       "cell_index": 28
      }
     ]
    },
    "367dbc153ab041848043330bbbb6451e": {
     "views": [
      {
       "cell_index": 28
      }
     ]
    },
    "369e677918e04e69bdbe397f1d7adffd": {
     "views": [
      {
       "cell_index": 28
      }
     ]
    },
    "36bda7480cf94146857a3faf00e766bd": {
     "views": [
      {
       "cell_index": 28
      }
     ]
    },
    "36c7429b639b493fa00dcdfbd320f03b": {
     "views": [
      {
       "cell_index": 28
      }
     ]
    },
    "36ff9376d854470ea4ed8b6b17740222": {
     "views": [
      {
       "cell_index": 28
      }
     ]
    },
    "372bd5288bbf4297951c4ae47b5acf64": {
     "views": [
      {
       "cell_index": 28
      }
     ]
    },
    "376fcddf90594bd6b53fa2addac5cf3f": {
     "views": [
      {
       "cell_index": 28
      }
     ]
    },
    "3775330f192645209ba0e6ee41dec69a": {
     "views": [
      {
       "cell_index": 28
      }
     ]
    },
    "377b59e6a1fc4bd090d680ba7fea5ce0": {
     "views": [
      {
       "cell_index": 28
      }
     ]
    },
    "377cc56960f04b548ada6784c3b40dfe": {
     "views": [
      {
       "cell_index": 28
      }
     ]
    },
    "37b2dd77f51a4c35a0ae52fc3326739a": {
     "views": [
      {
       "cell_index": 28
      }
     ]
    },
    "37ce6dac9fb84ff88a4af81141bb17ba": {
     "views": [
      {
       "cell_index": 28
      }
     ]
    },
    "37d718d62a5a4b1981ee47f9fbe32d85": {
     "views": [
      {
       "cell_index": 28
      }
     ]
    },
    "37eccb9d969d413caa011cae946de494": {
     "views": [
      {
       "cell_index": 28
      }
     ]
    },
    "37f1615e950e4a4198b1431111fa1940": {
     "views": [
      {
       "cell_index": 28
      }
     ]
    },
    "38256f0343824abebb9dafab42d6fc28": {
     "views": [
      {
       "cell_index": 28
      }
     ]
    },
    "38722902e52f4159ace10c0d7735bfcc": {
     "views": [
      {
       "cell_index": 28
      }
     ]
    },
    "3880381d07e2483e9407c76922c6b5fd": {
     "views": [
      {
       "cell_index": 28
      }
     ]
    },
    "3885bf5884ed4f63aa7808e2b2b8f45f": {
     "views": [
      {
       "cell_index": 28
      }
     ]
    },
    "3887ee2ab0204c0ba36db2198032668b": {
     "views": [
      {
       "cell_index": 28
      }
     ]
    },
    "389b84375886410ea73372483281f0a2": {
     "views": [
      {
       "cell_index": 28
      }
     ]
    },
    "38a6f29ed0de4e36afad8f7a75b87123": {
     "views": [
      {
       "cell_index": 28
      }
     ]
    },
    "38abd2e742834d808cd8c1c9420054fd": {
     "views": [
      {
       "cell_index": 28
      }
     ]
    },
    "38add1f3bf0f46899f7a6c6e194632b3": {
     "views": [
      {
       "cell_index": 28
      }
     ]
    },
    "38c2f7d2b7944d07b092675bd5fa86ce": {
     "views": [
      {
       "cell_index": 28
      }
     ]
    },
    "392a64bfbc2f4d4d96a0dd46fa97b774": {
     "views": [
      {
       "cell_index": 28
      }
     ]
    },
    "393b5be4d29645f1bc897e2f77d0d025": {
     "views": [
      {
       "cell_index": 28
      }
     ]
    },
    "394cd29e4d8c49b5b835b677cec491ef": {
     "views": [
      {
       "cell_index": 28
      }
     ]
    },
    "396cd1425e2d4b2db16a5715d62a7fab": {
     "views": [
      {
       "cell_index": 28
      }
     ]
    },
    "39a26a46d41144db9405d25001da8d76": {
     "views": [
      {
       "cell_index": 28
      }
     ]
    },
    "39e7efdbeb7a4589934657b46d0b29c0": {
     "views": [
      {
       "cell_index": 28
      }
     ]
    },
    "3a0b8c3f6eaf42398b0bd320c0f2aefb": {
     "views": [
      {
       "cell_index": 28
      }
     ]
    },
    "3a10257c731a4bd0ac70043ae09592d6": {
     "views": [
      {
       "cell_index": 28
      }
     ]
    },
    "3a253e50598f4152aea84b8fd4cb36dc": {
     "views": [
      {
       "cell_index": 28
      }
     ]
    },
    "3a3e358de60947f5ae74b547b9418376": {
     "views": [
      {
       "cell_index": 28
      }
     ]
    },
    "3a8ec3e9184f4b8a8b0ebd67238af195": {
     "views": [
      {
       "cell_index": 28
      }
     ]
    },
    "3aa0583c01bf4e998a7ca54050e1c582": {
     "views": [
      {
       "cell_index": 28
      }
     ]
    },
    "3ac029a5ec4e4c2cb1aab92e4986e977": {
     "views": [
      {
       "cell_index": 28
      }
     ]
    },
    "3b34f72542f3483f929b75303d879a67": {
     "views": [
      {
       "cell_index": 28
      }
     ]
    },
    "3b3c63fde7884dc4b7d384696dec8d4a": {
     "views": [
      {
       "cell_index": 28
      }
     ]
    },
    "3b75c6bdd53e4e23b3b2efc36da9398c": {
     "views": [
      {
       "cell_index": 28
      }
     ]
    },
    "3ba0a0e87c5b48158b8fee0d6068a7c6": {
     "views": [
      {
       "cell_index": 28
      }
     ]
    },
    "3bac7fbb856b4fbb9a4ad3e235afa2b1": {
     "views": [
      {
       "cell_index": 28
      }
     ]
    },
    "3bb76e6b942a42d9b09f66c824ea9047": {
     "views": [
      {
       "cell_index": 28
      }
     ]
    },
    "3bfb55f78d5c46eb8a6eb71534bc4fb7": {
     "views": [
      {
       "cell_index": 28
      }
     ]
    },
    "3c51b2bba122475a8716a4898924f5b5": {
     "views": [
      {
       "cell_index": 28
      }
     ]
    },
    "3cd1df7862b8406eae0e74d411aeda35": {
     "views": [
      {
       "cell_index": 28
      }
     ]
    },
    "3cf0e5a8f35c4c5290f3343843e4d6f5": {
     "views": [
      {
       "cell_index": 28
      }
     ]
    },
    "3cf6754395704168bc8833deb9d1d89d": {
     "views": [
      {
       "cell_index": 28
      }
     ]
    },
    "3d158d9403be48518738738a822593e5": {
     "views": [
      {
       "cell_index": 28
      }
     ]
    },
    "3d9472de34b74534abf6ca422c03d062": {
     "views": [
      {
       "cell_index": 28
      }
     ]
    },
    "3db44c71e09d4005bb25a15bc029a5fb": {
     "views": [
      {
       "cell_index": 28
      }
     ]
    },
    "3dc611f794b648ea807ae1481889c225": {
     "views": [
      {
       "cell_index": 28
      }
     ]
    },
    "3dd56623b8d64de9b1e3a3997eed6767": {
     "views": [
      {
       "cell_index": 28
      }
     ]
    },
    "3de7ffc5fcf44cb291688a247b12a478": {
     "views": [
      {
       "cell_index": 28
      }
     ]
    },
    "3dfa58ac7c684b96a9497cae9319ae6e": {
     "views": [
      {
       "cell_index": 28
      }
     ]
    },
    "3dff067cf81e47a981b688de7e4fb73f": {
     "views": [
      {
       "cell_index": 28
      }
     ]
    },
    "3e59ec5712bc4f88b69a3a274bc014de": {
     "views": [
      {
       "cell_index": 28
      }
     ]
    },
    "3e6bf8b24b824193a2533656300e70c2": {
     "views": [
      {
       "cell_index": 28
      }
     ]
    },
    "3eb9821ce88d42a9a26ed3f212366fd4": {
     "views": [
      {
       "cell_index": 28
      }
     ]
    },
    "3ecbce64912a4c3792d0b46e20d4cdb3": {
     "views": [
      {
       "cell_index": 28
      }
     ]
    },
    "3edd5d6ec0d24bd08dfffb3bbbf3ba5c": {
     "views": [
      {
       "cell_index": 28
      }
     ]
    },
    "3f28629d25314e27939ae9c5d2d64613": {
     "views": [
      {
       "cell_index": 28
      }
     ]
    },
    "3f2c42466d0749918bd32b0a045cd492": {
     "views": [
      {
       "cell_index": 28
      }
     ]
    },
    "3f3626f407154583bd317fd535a0bded": {
     "views": [
      {
       "cell_index": 28
      }
     ]
    },
    "3f48e1dc10a649569e7f7b16bfd0774c": {
     "views": [
      {
       "cell_index": 28
      }
     ]
    },
    "3f5e89b966104eaebdbf022415ebbbce": {
     "views": [
      {
       "cell_index": 28
      }
     ]
    },
    "3f75ec3a41a94470b96396d02460873a": {
     "views": [
      {
       "cell_index": 28
      }
     ]
    },
    "3f773be5eef940a79e9b67b1defb5a18": {
     "views": [
      {
       "cell_index": 28
      }
     ]
    },
    "3fac3408bb84457b992accff910a9ac0": {
     "views": [
      {
       "cell_index": 28
      }
     ]
    },
    "400450c347494562a90643d5ac7c3934": {
     "views": [
      {
       "cell_index": 28
      }
     ]
    },
    "4043f035dd394316bab647b07e1f4c34": {
     "views": [
      {
       "cell_index": 28
      }
     ]
    },
    "405d373e00be489884d2c7dd3ef3524a": {
     "views": [
      {
       "cell_index": 28
      }
     ]
    },
    "40803222567849538796974a5c6005ab": {
     "views": [
      {
       "cell_index": 28
      }
     ]
    },
    "40a6d4d5f37d42b68cd5db65b41b78a6": {
     "views": [
      {
       "cell_index": 28
      }
     ]
    },
    "40c2869a990342618e439cb163fecab4": {
     "views": [
      {
       "cell_index": 28
      }
     ]
    },
    "4104a16ecfb946fda1c614173b312b55": {
     "views": [
      {
       "cell_index": 28
      }
     ]
    },
    "4122ddcf8cd9424faba291a9577267a5": {
     "views": [
      {
       "cell_index": 28
      }
     ]
    },
    "416fcbabaa944539977e553088ea4cdb": {
     "views": [
      {
       "cell_index": 28
      }
     ]
    },
    "417cfb10ebc74b6fa78d2d4031373d48": {
     "views": [
      {
       "cell_index": 28
      }
     ]
    },
    "418c3cae22e441949c86b0ab48abf422": {
     "views": [
      {
       "cell_index": 28
      }
     ]
    },
    "41b27d206004464cbb1676a4b98cdf63": {
     "views": [
      {
       "cell_index": 28
      }
     ]
    },
    "41b7ffb0614347e7b846d58183b99820": {
     "views": [
      {
       "cell_index": 28
      }
     ]
    },
    "41c35be104a540069ae0d2f7a9fde282": {
     "views": [
      {
       "cell_index": 28
      }
     ]
    },
    "41f71d43a5204687bede5be269447734": {
     "views": [
      {
       "cell_index": 28
      }
     ]
    },
    "42329cb1b045462781b974a787032f45": {
     "views": [
      {
       "cell_index": 28
      }
     ]
    },
    "423388004b2e4732b230d5d55f64494c": {
     "views": [
      {
       "cell_index": 28
      }
     ]
    },
    "423b732db44e49dca47e54ee68634f6d": {
     "views": [
      {
       "cell_index": 28
      }
     ]
    },
    "4251caba4c974da9895d36e3fcb0d841": {
     "views": [
      {
       "cell_index": 28
      }
     ]
    },
    "427faa18306a4349879aac0bced0c924": {
     "views": [
      {
       "cell_index": 28
      }
     ]
    },
    "4290cf7e77794d9a95724351d52a3b87": {
     "views": [
      {
       "cell_index": 28
      }
     ]
    },
    "4293f45297db4c8aa65bfb532173c73e": {
     "views": [
      {
       "cell_index": 28
      }
     ]
    },
    "42b368bf8f7b4e038dceaccb05b96606": {
     "views": [
      {
       "cell_index": 28
      }
     ]
    },
    "42edf04f8e174e3f80ec559157dc0e16": {
     "views": [
      {
       "cell_index": 28
      }
     ]
    },
    "430f3b80ddcc4addbf50f852c3388397": {
     "views": [
      {
       "cell_index": 28
      }
     ]
    },
    "43290f2e070647379d319c25900b8cb9": {
     "views": [
      {
       "cell_index": 28
      }
     ]
    },
    "433425cc6fb2472aaaa02583e98d40c5": {
     "views": [
      {
       "cell_index": 28
      }
     ]
    },
    "433c4e73044349c4bbdfab8ae3f4f78f": {
     "views": [
      {
       "cell_index": 28
      }
     ]
    },
    "4367d4f9df404c9cbce1d5688d04e4c0": {
     "views": [
      {
       "cell_index": 28
      }
     ]
    },
    "43a533dba2814adcb3ba3638507cc362": {
     "views": [
      {
       "cell_index": 28
      }
     ]
    },
    "43b26127ad8646ca869de2f961c445ee": {
     "views": [
      {
       "cell_index": 28
      }
     ]
    },
    "43c0e6cf774e4186a4e304ac468f8f8e": {
     "views": [
      {
       "cell_index": 28
      }
     ]
    },
    "43c1419861c34354b4adae8bd935a1e7": {
     "views": [
      {
       "cell_index": 28
      }
     ]
    },
    "43f2c066d1514cff8ef4e23a605b8441": {
     "views": [
      {
       "cell_index": 28
      }
     ]
    },
    "4445b65420c843d4a5b336f7c32c2a23": {
     "views": [
      {
       "cell_index": 28
      }
     ]
    },
    "45686bd2651842d08eede1f98a0e7286": {
     "views": [
      {
       "cell_index": 28
      }
     ]
    },
    "4585e85c3f87482392251e2bf4ec0afa": {
     "views": [
      {
       "cell_index": 28
      }
     ]
    },
    "4588dd3f6c21446b903004bea3335ecc": {
     "views": [
      {
       "cell_index": 28
      }
     ]
    },
    "45cd264034e84a5e84fb1887c49484f1": {
     "views": [
      {
       "cell_index": 28
      }
     ]
    },
    "45e4b30a746e41d3b13ad34c1a74a8d0": {
     "views": [
      {
       "cell_index": 28
      }
     ]
    },
    "4607ec60f9b448288be3a40c37b9093a": {
     "views": [
      {
       "cell_index": 28
      }
     ]
    },
    "462b0b76a6de4b29b3abc358c1ba4a99": {
     "views": [
      {
       "cell_index": 28
      }
     ]
    },
    "46302f9367a34ed5b24a646b9b4b5299": {
     "views": [
      {
       "cell_index": 28
      }
     ]
    },
    "46374285f6c847998bc156e93b3cd1b0": {
     "views": [
      {
       "cell_index": 28
      }
     ]
    },
    "46456f49cd134c73bee8025388cf82f2": {
     "views": [
      {
       "cell_index": 28
      }
     ]
    },
    "469d856edbcc46c09e791586187b1ade": {
     "views": [
      {
       "cell_index": 28
      }
     ]
    },
    "46befbea319446968485b67479438a50": {
     "views": [
      {
       "cell_index": 28
      }
     ]
    },
    "46e02da2697c4961a7e7089af45afb1d": {
     "views": [
      {
       "cell_index": 28
      }
     ]
    },
    "46e41497adea4993b8933e5f66143edc": {
     "views": [
      {
       "cell_index": 28
      }
     ]
    },
    "470eddbd9d1b4532baf39a72a40dbca3": {
     "views": [
      {
       "cell_index": 28
      }
     ]
    },
    "476ebc15938c41a6a7fc79a3fe56592b": {
     "views": [
      {
       "cell_index": 28
      }
     ]
    },
    "477ba306dace4d5db64c2706ccdf56fc": {
     "views": [
      {
       "cell_index": 28
      }
     ]
    },
    "4789963ff63d41a698f75692dc76edb4": {
     "views": [
      {
       "cell_index": 28
      }
     ]
    },
    "47bf7d329aab4c2e835f9d44db8f8207": {
     "views": [
      {
       "cell_index": 28
      }
     ]
    },
    "47cf0d0208404bb58a57968a582b9dcb": {
     "views": [
      {
       "cell_index": 28
      }
     ]
    },
    "47d9bff4e67d47a9aa54c5b2e473f59d": {
     "views": [
      {
       "cell_index": 28
      }
     ]
    },
    "47fb1813b1d549869d67e57554ab38d2": {
     "views": [
      {
       "cell_index": 28
      }
     ]
    },
    "482ff4907f9f407b9f16c3500c2214ec": {
     "views": [
      {
       "cell_index": 28
      }
     ]
    },
    "4869c0762f9a40a2bd9ad1516463b3b0": {
     "views": [
      {
       "cell_index": 28
      }
     ]
    },
    "4870870a33d24413a1b42a2d27fa928d": {
     "views": [
      {
       "cell_index": 28
      }
     ]
    },
    "48714a766bb04c478d82c596d3c61260": {
     "views": [
      {
       "cell_index": 28
      }
     ]
    },
    "4876f5b9655e43789b2e920edcda0b95": {
     "views": [
      {
       "cell_index": 28
      }
     ]
    },
    "48780a4a78d64988bdb50b6652c88fa2": {
     "views": [
      {
       "cell_index": 28
      }
     ]
    },
    "487f5db66e314ff98988b77514fd9a00": {
     "views": [
      {
       "cell_index": 28
      }
     ]
    },
    "4884c6ec9ee24f3f817b2c1e8e2d6300": {
     "views": [
      {
       "cell_index": 28
      }
     ]
    },
    "4899211ec6754183bb5a9b3325ab4f0f": {
     "views": [
      {
       "cell_index": 28
      }
     ]
    },
    "48d06f28a17d41a58bf791f65b99315c": {
     "views": [
      {
       "cell_index": 28
      }
     ]
    },
    "48da5389e4774f48a78c38f07d8efbd2": {
     "views": [
      {
       "cell_index": 28
      }
     ]
    },
    "4917233952f64c459e1c040addf772ac": {
     "views": [
      {
       "cell_index": 28
      }
     ]
    },
    "4918e87e8364473a82b557a3ab584083": {
     "views": [
      {
       "cell_index": 28
      }
     ]
    },
    "4922dfcc08754f3b9717829e1e8c5ec1": {
     "views": [
      {
       "cell_index": 28
      }
     ]
    },
    "494e85bcb32f4082b7cfe055d57fd80c": {
     "views": [
      {
       "cell_index": 28
      }
     ]
    },
    "49789a27a1f14d7aabe7e6e98a5eb3c9": {
     "views": [
      {
       "cell_index": 28
      }
     ]
    },
    "497bb545cf7540f6a508ba91b32efe4f": {
     "views": [
      {
       "cell_index": 28
      }
     ]
    },
    "499c7cbe2d0b41268a15dd560fe1a03e": {
     "views": [
      {
       "cell_index": 28
      }
     ]
    },
    "49bd933d31bd46b095e51be58dd0869c": {
     "views": [
      {
       "cell_index": 28
      }
     ]
    },
    "49be2c732cce4decbb2b6da3e7b37bdd": {
     "views": [
      {
       "cell_index": 28
      }
     ]
    },
    "49f59de191fa49f3ab3e3706b64d0552": {
     "views": [
      {
       "cell_index": 28
      }
     ]
    },
    "49f8c4aa43874c5b93ab47d8c73e1e4f": {
     "views": [
      {
       "cell_index": 28
      }
     ]
    },
    "4a45bcb1551f4190bbd0a7253fc3d8ab": {
     "views": [
      {
       "cell_index": 28
      }
     ]
    },
    "4a8271ac14b24418958237efc20d93ad": {
     "views": [
      {
       "cell_index": 28
      }
     ]
    },
    "4a87527a66f94b198c034d25748b5998": {
     "views": [
      {
       "cell_index": 28
      }
     ]
    },
    "4a92f5d5815e40fea9a00031a64ddc00": {
     "views": [
      {
       "cell_index": 28
      }
     ]
    },
    "4ab18f8c4d854bf9a17da2533d493bc1": {
     "views": [
      {
       "cell_index": 28
      }
     ]
    },
    "4ab6e2859101440089bce5d802fed89c": {
     "views": [
      {
       "cell_index": 28
      }
     ]
    },
    "4adc24ee0de449cab59e64f82177ff95": {
     "views": [
      {
       "cell_index": 28
      }
     ]
    },
    "4b1015f94ba64a69afc21802b73dcfa0": {
     "views": [
      {
       "cell_index": 28
      }
     ]
    },
    "4b2a3baf8223423b9f49e0e21766defc": {
     "views": [
      {
       "cell_index": 28
      }
     ]
    },
    "4b4ac6b370f048359004fe565906628d": {
     "views": [
      {
       "cell_index": 28
      }
     ]
    },
    "4b745da503be4a9e8d024c8b3fa8eeb2": {
     "views": [
      {
       "cell_index": 28
      }
     ]
    },
    "4b76df0fadb040a791adf608602c9d25": {
     "views": [
      {
       "cell_index": 28
      }
     ]
    },
    "4b7dd2d67bed44c7b0d340902a4f06b9": {
     "views": [
      {
       "cell_index": 28
      }
     ]
    },
    "4ba82013bfe848f0a1e0e239c3197dc3": {
     "views": [
      {
       "cell_index": 28
      }
     ]
    },
    "4bb4b27f71a4439e86bbc700c32525a2": {
     "views": [
      {
       "cell_index": 28
      }
     ]
    },
    "4bc9b675ba464debb61b043eafa91e90": {
     "views": [
      {
       "cell_index": 28
      }
     ]
    },
    "4bd4c05115ad4ca4ba2c723ef1075a5f": {
     "views": [
      {
       "cell_index": 28
      }
     ]
    },
    "4be4280439e64143afe1814f4e18cf76": {
     "views": [
      {
       "cell_index": 28
      }
     ]
    },
    "4c09e2a08ec042d1848bc5d8f6a9b4d1": {
     "views": [
      {
       "cell_index": 28
      }
     ]
    },
    "4c1aeccaf3d14a69b1b050cba97d65bd": {
     "views": [
      {
       "cell_index": 28
      }
     ]
    },
    "4c38b810a85d4457af47f38e8585578f": {
     "views": [
      {
       "cell_index": 28
      }
     ]
    },
    "4c3fe4b9b17347a08573b12db6e8ced2": {
     "views": [
      {
       "cell_index": 28
      }
     ]
    },
    "4c4b7fac3c6d4d41a221dd52881077bd": {
     "views": [
      {
       "cell_index": 28
      }
     ]
    },
    "4c5f1833c9e44947b8cf1572373c4939": {
     "views": [
      {
       "cell_index": 28
      }
     ]
    },
    "4c7f3cc935c34c17b269f32e0844f75d": {
     "views": [
      {
       "cell_index": 28
      }
     ]
    },
    "4cb6be08e0e845d8ba9679a079cd7e14": {
     "views": [
      {
       "cell_index": 28
      }
     ]
    },
    "4cc5d16445844c0b98fcb8a426496efb": {
     "views": [
      {
       "cell_index": 28
      }
     ]
    },
    "4d5e5e4cefdf40a0995affc8e9d179b0": {
     "views": [
      {
       "cell_index": 28
      }
     ]
    },
    "4d81dddf89e047f7a40bdeacfc9667f8": {
     "views": [
      {
       "cell_index": 28
      }
     ]
    },
    "4d8f19507f1c4618a6432b8c38561fa9": {
     "views": [
      {
       "cell_index": 28
      }
     ]
    },
    "4d9185488e3e4c02a05b02b8b3d47726": {
     "views": [
      {
       "cell_index": 28
      }
     ]
    },
    "4da9ad0bcba74505a61efd6338b6eb84": {
     "views": [
      {
       "cell_index": 28
      }
     ]
    },
    "4dbed0e4fccb48aa8739452ed99c4b54": {
     "views": [
      {
       "cell_index": 28
      }
     ]
    },
    "4dea9aeaa2c440a79f3cb0fad1abdd6c": {
     "views": [
      {
       "cell_index": 28
      }
     ]
    },
    "4e0a278e96804ffd8177c36798bcae98": {
     "views": [
      {
       "cell_index": 28
      }
     ]
    },
    "4e2777b8895947799ce99c15dd67e053": {
     "views": [
      {
       "cell_index": 28
      }
     ]
    },
    "4e2dff1f522349969c0fe0bc4b060583": {
     "views": [
      {
       "cell_index": 28
      }
     ]
    },
    "4e41db8093c24fd7805eb1b6c6f8f387": {
     "views": [
      {
       "cell_index": 28
      }
     ]
    },
    "4e4246a676f34aca82269d8a110a930e": {
     "views": [
      {
       "cell_index": 28
      }
     ]
    },
    "4e49a060c0f342529cac59491147fccc": {
     "views": [
      {
       "cell_index": 28
      }
     ]
    },
    "4e5a33857dde4f60817ea16c1b9e7868": {
     "views": [
      {
       "cell_index": 28
      }
     ]
    },
    "4e85a0fc707448308b4e2c14cb54c91a": {
     "views": [
      {
       "cell_index": 28
      }
     ]
    },
    "4ea549de08ec466eac20d2bddd92a35c": {
     "views": [
      {
       "cell_index": 28
      }
     ]
    },
    "4ea8b987754245b794aedf6011239e4d": {
     "views": [
      {
       "cell_index": 28
      }
     ]
    },
    "4f5590b1beec4302a35ba8d23d4bd580": {
     "views": [
      {
       "cell_index": 28
      }
     ]
    },
    "4f74c7acdfe94e74a1bbdfa0396e7386": {
     "views": [
      {
       "cell_index": 28
      }
     ]
    },
    "4fa8a5261519410d8d0527210c5f2177": {
     "views": [
      {
       "cell_index": 28
      }
     ]
    },
    "4fadef7a16cf4fb6afaa28224c483f31": {
     "views": [
      {
       "cell_index": 28
      }
     ]
    },
    "4fea9a3c169e4dac81a21487f3a61bc2": {
     "views": [
      {
       "cell_index": 28
      }
     ]
    },
    "5002232f47ce4bad8644a593470e142c": {
     "views": [
      {
       "cell_index": 28
      }
     ]
    },
    "5009ecf716024be8b4a0d4693a7dbd9f": {
     "views": [
      {
       "cell_index": 28
      }
     ]
    },
    "5017218359b74cc49134cb08a3bb67ef": {
     "views": [
      {
       "cell_index": 28
      }
     ]
    },
    "50394e694bb04689a7ee2bdbc377d671": {
     "views": [
      {
       "cell_index": 28
      }
     ]
    },
    "504293ba28744789b101ac92e98b1879": {
     "views": [
      {
       "cell_index": 28
      }
     ]
    },
    "504f558a44ab465ca89f4db5860b7a33": {
     "views": [
      {
       "cell_index": 28
      }
     ]
    },
    "5094398017ce46da8732004dcafbb017": {
     "views": [
      {
       "cell_index": 28
      }
     ]
    },
    "50b1e5979ab146c7a5032bc6c35171ce": {
     "views": [
      {
       "cell_index": 28
      }
     ]
    },
    "50f14e301f2b41f598c6dd8df7985af5": {
     "views": [
      {
       "cell_index": 28
      }
     ]
    },
    "5114ca0131894fcfa22cb6b7b667afa6": {
     "views": [
      {
       "cell_index": 28
      }
     ]
    },
    "51508fc7f61548249eb18e70645042e3": {
     "views": [
      {
       "cell_index": 28
      }
     ]
    },
    "51922b8bc3ad4465aef18a9c38b452a2": {
     "views": [
      {
       "cell_index": 28
      }
     ]
    },
    "51c3325086b74d569c941cd2fc4f9ca8": {
     "views": [
      {
       "cell_index": 28
      }
     ]
    },
    "51f424fca8e4439388438441658feb7c": {
     "views": [
      {
       "cell_index": 28
      }
     ]
    },
    "5234ed42943340348d09a7f4062baa5a": {
     "views": [
      {
       "cell_index": 28
      }
     ]
    },
    "5280e31cd33c4fbc8d17faa764622f38": {
     "views": [
      {
       "cell_index": 28
      }
     ]
    },
    "52d0f938563f40ed9c3f982d9ba24b27": {
     "views": [
      {
       "cell_index": 28
      }
     ]
    },
    "52f7e65c68ce4d80a9a5d626842c2bfd": {
     "views": [
      {
       "cell_index": 28
      }
     ]
    },
    "533d0a09891445b180e4518a3ff973db": {
     "views": [
      {
       "cell_index": 28
      }
     ]
    },
    "534f7dd65d4a466f9ae5572fc625c8b2": {
     "views": [
      {
       "cell_index": 28
      }
     ]
    },
    "537aa92b2269465da856d4d0816caa80": {
     "views": [
      {
       "cell_index": 28
      }
     ]
    },
    "53afb02983db4110a1ea419436bcb096": {
     "views": [
      {
       "cell_index": 28
      }
     ]
    },
    "5414a73b315f438590665211c3f15997": {
     "views": [
      {
       "cell_index": 28
      }
     ]
    },
    "543944129dfd4f408dba4dfdcb982e16": {
     "views": [
      {
       "cell_index": 28
      }
     ]
    },
    "5477790b914c431ea9a5c9c21551a269": {
     "views": [
      {
       "cell_index": 28
      }
     ]
    },
    "5494535549524af28559376452267905": {
     "views": [
      {
       "cell_index": 28
      }
     ]
    },
    "549d1b37bab3452383f782db09963663": {
     "views": [
      {
       "cell_index": 28
      }
     ]
    },
    "54a546368e7f44eab14aa7385139b047": {
     "views": [
      {
       "cell_index": 28
      }
     ]
    },
    "54a6b53943114ad2aeeb7be82187bfed": {
     "views": [
      {
       "cell_index": 28
      }
     ]
    },
    "54c7efd22e984dfa8240f0cec52dd67c": {
     "views": [
      {
       "cell_index": 28
      }
     ]
    },
    "54d6ed41ec0346018709d4f8ef40f60b": {
     "views": [
      {
       "cell_index": 28
      }
     ]
    },
    "54dfaf97f7b3487580df2117c540cbc4": {
     "views": [
      {
       "cell_index": 28
      }
     ]
    },
    "54e06d68c613436697ba71966b786570": {
     "views": [
      {
       "cell_index": 28
      }
     ]
    },
    "54f8b0efa128409f9ba9eff52d87aa5a": {
     "views": [
      {
       "cell_index": 28
      }
     ]
    },
    "55017db4ed6f4d13b53d0817ceb5d4e7": {
     "views": [
      {
       "cell_index": 28
      }
     ]
    },
    "5539a7f6176c444682a88001505f6598": {
     "views": [
      {
       "cell_index": 28
      }
     ]
    },
    "557f759c7da34e5b945c7f32f1f4ada8": {
     "views": [
      {
       "cell_index": 28
      }
     ]
    },
    "559e791c23b5472080f0b5096b7f772f": {
     "views": [
      {
       "cell_index": 28
      }
     ]
    },
    "55bbd0c4a50543ad87495182350139db": {
     "views": [
      {
       "cell_index": 28
      }
     ]
    },
    "5604e082771f4da19e228cc7ff95dcf2": {
     "views": [
      {
       "cell_index": 28
      }
     ]
    },
    "56068bd75f8a430ca6f49c94c92327ec": {
     "views": [
      {
       "cell_index": 28
      }
     ]
    },
    "5613e37a02ed412dae75ae71dfdab4f2": {
     "views": [
      {
       "cell_index": 28
      }
     ]
    },
    "56169531e58640d4a980feade363fae6": {
     "views": [
      {
       "cell_index": 28
      }
     ]
    },
    "5624361c828544b7920e4003296843c2": {
     "views": [
      {
       "cell_index": 28
      }
     ]
    },
    "5645cd54fd284da981b7aa13bbeb3aa2": {
     "views": [
      {
       "cell_index": 28
      }
     ]
    },
    "565899ee1dfe412db025058b433fdf7a": {
     "views": [
      {
       "cell_index": 28
      }
     ]
    },
    "5675712d73864ec2b766888c51c871e4": {
     "views": [
      {
       "cell_index": 28
      }
     ]
    },
    "56cf782dac2b4104b386e42790872d65": {
     "views": [
      {
       "cell_index": 28
      }
     ]
    },
    "56efc607fc7c4afe8656b82dda01e526": {
     "views": [
      {
       "cell_index": 28
      }
     ]
    },
    "57010193029549c6868806a90636c759": {
     "views": [
      {
       "cell_index": 28
      }
     ]
    },
    "5712541c53b4412b9ce44928f2ab779a": {
     "views": [
      {
       "cell_index": 28
      }
     ]
    },
    "573aac6bac1544a6aa85ac82b4745c8d": {
     "views": [
      {
       "cell_index": 28
      }
     ]
    },
    "57825fe049fa4591888f236b7227473a": {
     "views": [
      {
       "cell_index": 28
      }
     ]
    },
    "57920baf56c94b428faa4c7094a82965": {
     "views": [
      {
       "cell_index": 28
      }
     ]
    },
    "57e8c14ed08b48e98412769e62060532": {
     "views": [
      {
       "cell_index": 28
      }
     ]
    },
    "57f76c5388ea4133be952e3508b806ef": {
     "views": [
      {
       "cell_index": 28
      }
     ]
    },
    "582f240d7c3d4766ade0436288173ad4": {
     "views": [
      {
       "cell_index": 28
      }
     ]
    },
    "584f4c57153e408a98dba1bc0fc47f27": {
     "views": [
      {
       "cell_index": 28
      }
     ]
    },
    "5859a6aa224640abba881a59a51f62cf": {
     "views": [
      {
       "cell_index": 28
      }
     ]
    },
    "585adbc23247491a822e11db725aa68c": {
     "views": [
      {
       "cell_index": 28
      }
     ]
    },
    "587ff1c90f64424c94e59ab23429b67c": {
     "views": [
      {
       "cell_index": 28
      }
     ]
    },
    "5883bc3328714c92832ddae619e8cc7b": {
     "views": [
      {
       "cell_index": 28
      }
     ]
    },
    "589176ccf8e043c5958c6d6b07f31740": {
     "views": [
      {
       "cell_index": 28
      }
     ]
    },
    "58995f760e6145249d3daa713b139ada": {
     "views": [
      {
       "cell_index": 28
      }
     ]
    },
    "58d9995c18ba4fa98e479cb4e46dac1b": {
     "views": [
      {
       "cell_index": 28
      }
     ]
    },
    "58fb4de4e87544ae96527dc7505b2551": {
     "views": [
      {
       "cell_index": 28
      }
     ]
    },
    "58fd7c76900841dc9c3601a409d8f145": {
     "views": [
      {
       "cell_index": 28
      }
     ]
    },
    "590cd95610544fe78b7c65a567918e4f": {
     "views": [
      {
       "cell_index": 28
      }
     ]
    },
    "59207c6a3a03468ca0aae83d5f892d15": {
     "views": [
      {
       "cell_index": 28
      }
     ]
    },
    "59287c169e7a434b92aa9c042b35bf12": {
     "views": [
      {
       "cell_index": 28
      }
     ]
    },
    "592ecfc874204b2e803a6360eece2d43": {
     "views": [
      {
       "cell_index": 28
      }
     ]
    },
    "59533e0f41ab49d1b12325ca119a2c6b": {
     "views": [
      {
       "cell_index": 28
      }
     ]
    },
    "5972f88effd149c7ab7701795db63926": {
     "views": [
      {
       "cell_index": 28
      }
     ]
    },
    "5981ffec54054e2989af4f79151148c7": {
     "views": [
      {
       "cell_index": 28
      }
     ]
    },
    "5984a9195f4144cfa35e12c15c7c6924": {
     "views": [
      {
       "cell_index": 28
      }
     ]
    },
    "59a1bf8396aa4e40a0011771f2ad6ce0": {
     "views": [
      {
       "cell_index": 28
      }
     ]
    },
    "59aa676a8dcb4be18c449dd1a943ebcb": {
     "views": [
      {
       "cell_index": 28
      }
     ]
    },
    "59ac976030b141738a9a12fb4290d1eb": {
     "views": [
      {
       "cell_index": 28
      }
     ]
    },
    "59e065a2fa014090b4fb72ad659e9000": {
     "views": [
      {
       "cell_index": 28
      }
     ]
    },
    "59ef61dfbaff4069ba13d573282cad53": {
     "views": [
      {
       "cell_index": 28
      }
     ]
    },
    "5a0f2c2ea5a34db8972960119a6a28a5": {
     "views": [
      {
       "cell_index": 28
      }
     ]
    },
    "5a2020c43ae94abaaaff42b10d68a3a5": {
     "views": [
      {
       "cell_index": 28
      }
     ]
    },
    "5a34773cd256419581fc308687b2b3e6": {
     "views": [
      {
       "cell_index": 28
      }
     ]
    },
    "5a57925173404f1f88160eb0e7c3533a": {
     "views": [
      {
       "cell_index": 28
      }
     ]
    },
    "5a8b94ea5bb8479ab34e209820874535": {
     "views": [
      {
       "cell_index": 28
      }
     ]
    },
    "5a920c79e0f64c5ebce3093540ea276a": {
     "views": [
      {
       "cell_index": 28
      }
     ]
    },
    "5b080e1036a6496fbf1bed903235269a": {
     "views": [
      {
       "cell_index": 28
      }
     ]
    },
    "5b35b89df39f4cc498ff3460eb30c1b6": {
     "views": [
      {
       "cell_index": 28
      }
     ]
    },
    "5ba7ea6b05854c79afcdd77c3084578a": {
     "views": [
      {
       "cell_index": 28
      }
     ]
    },
    "5bc9afe72f924ee296cfcbddee386d4d": {
     "views": [
      {
       "cell_index": 28
      }
     ]
    },
    "5bd3f22f86354d2191eac0b85fb96809": {
     "views": [
      {
       "cell_index": 28
      }
     ]
    },
    "5c096b5eb07247ab8d3eec9aa67e0e1b": {
     "views": [
      {
       "cell_index": 28
      }
     ]
    },
    "5c2e84ec8e3c4f5a9ac9b4a848f8c07c": {
     "views": [
      {
       "cell_index": 28
      }
     ]
    },
    "5c4a68d7fe204c1282d3da5a3650e6e1": {
     "views": [
      {
       "cell_index": 28
      }
     ]
    },
    "5c655e1486f346b3bb78349c755acf27": {
     "views": [
      {
       "cell_index": 28
      }
     ]
    },
    "5ca8213e4711493d90aba5e7fc818d68": {
     "views": [
      {
       "cell_index": 28
      }
     ]
    },
    "5d0858ec7fb84e9aa976c909281429e4": {
     "views": [
      {
       "cell_index": 28
      }
     ]
    },
    "5d3805bdda9e44128b4d55616322176d": {
     "views": [
      {
       "cell_index": 28
      }
     ]
    },
    "5d413536d3e048f28581738e005339ad": {
     "views": [
      {
       "cell_index": 28
      }
     ]
    },
    "5d49f32f55f241c78094c87062f5bcc4": {
     "views": [
      {
       "cell_index": 28
      }
     ]
    },
    "5d6f6742a3684066b5d3a5bc62ce7d9b": {
     "views": [
      {
       "cell_index": 28
      }
     ]
    },
    "5d80852aadcf431d959d5dffc0ee862e": {
     "views": [
      {
       "cell_index": 28
      }
     ]
    },
    "5d86947167b944e1a59e8c13da6eef38": {
     "views": [
      {
       "cell_index": 28
      }
     ]
    },
    "5dcd99b8df77460c817f204d697bc634": {
     "views": [
      {
       "cell_index": 28
      }
     ]
    },
    "5e0664906e5449d0a925af733edb3bb8": {
     "views": [
      {
       "cell_index": 28
      }
     ]
    },
    "5e548dcef5db4c99ada0e475ddc6a196": {
     "views": [
      {
       "cell_index": 28
      }
     ]
    },
    "5e8b98e2e84b4e2089d6a34f257a2277": {
     "views": [
      {
       "cell_index": 28
      }
     ]
    },
    "5ec8c4005e3b439a99739445aa75b872": {
     "views": [
      {
       "cell_index": 28
      }
     ]
    },
    "5ee262874d124f958a91e78844bfaaa0": {
     "views": [
      {
       "cell_index": 28
      }
     ]
    },
    "5f17bc7513a74181bdfacac93a7c74a6": {
     "views": [
      {
       "cell_index": 28
      }
     ]
    },
    "5f3a7fdb63b747138fd6b8eb63cbaf4c": {
     "views": [
      {
       "cell_index": 28
      }
     ]
    },
    "5f59b4bff0b2432cb65a44078bc0c71e": {
     "views": [
      {
       "cell_index": 28
      }
     ]
    },
    "5f64fba9b1964889a8c5d2f9be933551": {
     "views": [
      {
       "cell_index": 28
      }
     ]
    },
    "5f98ffca02d14355805802bf307988b3": {
     "views": [
      {
       "cell_index": 28
      }
     ]
    },
    "5fba49ad5044401ab33ff33bb479a9fb": {
     "views": [
      {
       "cell_index": 28
      }
     ]
    },
    "5fdeb8dae02340578a08637da81ffac5": {
     "views": [
      {
       "cell_index": 28
      }
     ]
    },
    "5ff4cce10097401eb44190857caaec58": {
     "views": [
      {
       "cell_index": 28
      }
     ]
    },
    "5ffddf57db2542f1a126135ef871762c": {
     "views": [
      {
       "cell_index": 28
      }
     ]
    },
    "6019c29e11b949288e9b86b01b5a8722": {
     "views": [
      {
       "cell_index": 28
      }
     ]
    },
    "6044b33f698a4984877ec80a6397e201": {
     "views": [
      {
       "cell_index": 28
      }
     ]
    },
    "604b89c11dcf4c5286f9aadcc46cc9c4": {
     "views": [
      {
       "cell_index": 28
      }
     ]
    },
    "6061e48718cd48e1bca089b5bb3f7315": {
     "views": [
      {
       "cell_index": 28
      }
     ]
    },
    "60643239e386403e9d5d4a7993e73764": {
     "views": [
      {
       "cell_index": 28
      }
     ]
    },
    "60674e25daa849f4bbf24002c338e0be": {
     "views": [
      {
       "cell_index": 28
      }
     ]
    },
    "608649fddf5b4525a31c133f3f7a1a8c": {
     "views": [
      {
       "cell_index": 28
      }
     ]
    },
    "609dcf050d8e4dd8b90e5dd16705c6ca": {
     "views": [
      {
       "cell_index": 28
      }
     ]
    },
    "60c8b1a9d1bf47d4b67c469a4df85af9": {
     "views": [
      {
       "cell_index": 28
      }
     ]
    },
    "60c8d03c8e924f86b72491cf65e40117": {
     "views": [
      {
       "cell_index": 28
      }
     ]
    },
    "60cc65feb91c4914acfeba6f81da3c65": {
     "views": [
      {
       "cell_index": 28
      }
     ]
    },
    "60dccc501f994c31b35e1ec60c934bf6": {
     "views": [
      {
       "cell_index": 28
      }
     ]
    },
    "611fd807573240c3928ef4c9291744f5": {
     "views": [
      {
       "cell_index": 28
      }
     ]
    },
    "613c0658cd2c42cc88db4b5646a8689b": {
     "views": [
      {
       "cell_index": 28
      }
     ]
    },
    "61467b1cd93d41ba9ecfa2f1be758536": {
     "views": [
      {
       "cell_index": 28
      }
     ]
    },
    "6151478e049949f08bd16e9f7a738266": {
     "views": [
      {
       "cell_index": 28
      }
     ]
    },
    "615b40c974b04093bb6961cd1564b1cc": {
     "views": [
      {
       "cell_index": 28
      }
     ]
    },
    "6198587ed0094c5697ebab87c9fa7769": {
     "views": [
      {
       "cell_index": 28
      }
     ]
    },
    "61c135ddd7d046918521c708cdda0a35": {
     "views": [
      {
       "cell_index": 28
      }
     ]
    },
    "61cd15382b2649e5beabd6f24310b76d": {
     "views": [
      {
       "cell_index": 28
      }
     ]
    },
    "61d644a5508e4ba3afcd813767f33497": {
     "views": [
      {
       "cell_index": 28
      }
     ]
    },
    "61e0f1a50d9642c1a473f856be8ca98c": {
     "views": [
      {
       "cell_index": 28
      }
     ]
    },
    "61fb3273c4884fe0914f99e35e353989": {
     "views": [
      {
       "cell_index": 28
      }
     ]
    },
    "61fbb9ac661f4b6b8ecbbef1800364dd": {
     "views": [
      {
       "cell_index": 28
      }
     ]
    },
    "620ed9dba7384c1b9aa415b5c44cb326": {
     "views": [
      {
       "cell_index": 28
      }
     ]
    },
    "62341b785b064805a342636455db5af0": {
     "views": [
      {
       "cell_index": 28
      }
     ]
    },
    "62367c0c5f0b41b6ae7207bc8c8c07cc": {
     "views": [
      {
       "cell_index": 28
      }
     ]
    },
    "629cfff90b37453d8b5c8388ee06818b": {
     "views": [
      {
       "cell_index": 28
      }
     ]
    },
    "62aa8a52a7cb4ca7a76b837fd3d2f74a": {
     "views": [
      {
       "cell_index": 28
      }
     ]
    },
    "62af29c77ec34cc294291ed31b4acae5": {
     "views": [
      {
       "cell_index": 28
      }
     ]
    },
    "62b09d399fa44c02a5506843815aadf6": {
     "views": [
      {
       "cell_index": 28
      }
     ]
    },
    "62da213ac064461aaaf497968e65af8e": {
     "views": [
      {
       "cell_index": 28
      }
     ]
    },
    "62dc6d3a414c420f972e10840859402d": {
     "views": [
      {
       "cell_index": 28
      }
     ]
    },
    "62ddbcc7374042858f36de21437a3588": {
     "views": [
      {
       "cell_index": 28
      }
     ]
    },
    "62e13a5b71364329b9d7a0d0e4624aa0": {
     "views": [
      {
       "cell_index": 28
      }
     ]
    },
    "62eece5e82a94d94991ef487b8eba0ed": {
     "views": [
      {
       "cell_index": 28
      }
     ]
    },
    "632ef28619fa40809bb8aa40d9919c31": {
     "views": [
      {
       "cell_index": 28
      }
     ]
    },
    "6332ddb931a440b686490a02b16cc237": {
     "views": [
      {
       "cell_index": 28
      }
     ]
    },
    "63811436971b4b2ba53d1abb225164f0": {
     "views": [
      {
       "cell_index": 28
      }
     ]
    },
    "638b2817cba84d458ed7d4db0046235c": {
     "views": [
      {
       "cell_index": 28
      }
     ]
    },
    "63a958965af84bbba791aee8814fb297": {
     "views": [
      {
       "cell_index": 28
      }
     ]
    },
    "63e49199b2944ac69e6f42a50279df0c": {
     "views": [
      {
       "cell_index": 28
      }
     ]
    },
    "643a409261564f3cb48ee1e23ada825c": {
     "views": [
      {
       "cell_index": 28
      }
     ]
    },
    "6441718d19fe4206989d813c6926da31": {
     "views": [
      {
       "cell_index": 28
      }
     ]
    },
    "6462fc81d5fc4e6cb62f4ec947a1b2ea": {
     "views": [
      {
       "cell_index": 28
      }
     ]
    },
    "6464c14660594979bb1e41d338cd6990": {
     "views": [
      {
       "cell_index": 28
      }
     ]
    },
    "6465b1b29a574c22870ae1471fa14c3f": {
     "views": [
      {
       "cell_index": 28
      }
     ]
    },
    "64684c49bcdc487495d0201f928ec068": {
     "views": [
      {
       "cell_index": 28
      }
     ]
    },
    "6496a910ca7d40c890c33d5bf1058a49": {
     "views": [
      {
       "cell_index": 28
      }
     ]
    },
    "64a101b63cb645ec9467ca6f009d2ea2": {
     "views": [
      {
       "cell_index": 28
      }
     ]
    },
    "64bb513304884ecf827e116858be77ce": {
     "views": [
      {
       "cell_index": 28
      }
     ]
    },
    "64d723f679c84893a030e0647b5d0f5f": {
     "views": [
      {
       "cell_index": 28
      }
     ]
    },
    "64e261cb968143ebbb23ae08147c5290": {
     "views": [
      {
       "cell_index": 28
      }
     ]
    },
    "650f5062e8cf4afbb6ff3d99e46b0776": {
     "views": [
      {
       "cell_index": 28
      }
     ]
    },
    "65264460e09e40a28f02465ba7c52747": {
     "views": [
      {
       "cell_index": 28
      }
     ]
    },
    "65794c1f7b34412bafcc20d2d73056d5": {
     "views": [
      {
       "cell_index": 28
      }
     ]
    },
    "659ac45ee8304ee582e6cf4f3a5dc667": {
     "views": [
      {
       "cell_index": 28
      }
     ]
    },
    "65cd9651967b4ecb913804a3f7763714": {
     "views": [
      {
       "cell_index": 28
      }
     ]
    },
    "65cfa2e661454a58a85c9fb1b13a5dd6": {
     "views": [
      {
       "cell_index": 28
      }
     ]
    },
    "65d06b9fa84e4cd4a068a455d56e4123": {
     "views": [
      {
       "cell_index": 28
      }
     ]
    },
    "65e7fff3b9454075812325f6f93a2b26": {
     "views": [
      {
       "cell_index": 28
      }
     ]
    },
    "65ed71186c7541808e1b1e2d9dfe1983": {
     "views": [
      {
       "cell_index": 28
      }
     ]
    },
    "65fb5156dd714c658c208f7050bd91de": {
     "views": [
      {
       "cell_index": 28
      }
     ]
    },
    "661ece85aafa4d66b827cff05c7b6707": {
     "views": [
      {
       "cell_index": 28
      }
     ]
    },
    "6634450883714953a11e2a90821e8b71": {
     "views": [
      {
       "cell_index": 28
      }
     ]
    },
    "6635e96e03fc46bd9a27c67f867f962c": {
     "views": [
      {
       "cell_index": 28
      }
     ]
    },
    "665b681d6fc442aab71623d7cace8bb8": {
     "views": [
      {
       "cell_index": 28
      }
     ]
    },
    "66678df691fd47569398b079f5b85ec1": {
     "views": [
      {
       "cell_index": 28
      }
     ]
    },
    "6675618e4775499d8ece463a670b6840": {
     "views": [
      {
       "cell_index": 28
      }
     ]
    },
    "668611d8b6374e2a8b80fdfd573be66b": {
     "views": [
      {
       "cell_index": 28
      }
     ]
    },
    "669032b0628a42f4962aae61a92d0950": {
     "views": [
      {
       "cell_index": 28
      }
     ]
    },
    "6697a1c3b6384b48983c095722facf08": {
     "views": [
      {
       "cell_index": 28
      }
     ]
    },
    "669caec30a0f4b32abb8211311b3115e": {
     "views": [
      {
       "cell_index": 28
      }
     ]
    },
    "672819801b744031b6d1cde3fafa9245": {
     "views": [
      {
       "cell_index": 28
      }
     ]
    },
    "6772f2c5d6b24a65b3f69e386cdc7588": {
     "views": [
      {
       "cell_index": 28
      }
     ]
    },
    "6781d8d8374844c08db18e1843df54a9": {
     "views": [
      {
       "cell_index": 28
      }
     ]
    },
    "67a29d3f84f5425bb67bf20462855d35": {
     "views": [
      {
       "cell_index": 28
      }
     ]
    },
    "67e5690fca334fd3820f32f29814f568": {
     "views": [
      {
       "cell_index": 28
      }
     ]
    },
    "6802e70e9f134ecd81635412581dc276": {
     "views": [
      {
       "cell_index": 28
      }
     ]
    },
    "68078110449e4e62894974c733d7b0bd": {
     "views": [
      {
       "cell_index": 28
      }
     ]
    },
    "6811ce2b9c0448bd853fad0d26344083": {
     "views": [
      {
       "cell_index": 28
      }
     ]
    },
    "681b0d167d2b4675897f59aa5024f02c": {
     "views": [
      {
       "cell_index": 28
      }
     ]
    },
    "68962a86671b4fcaa47b82b35e730e0d": {
     "views": [
      {
       "cell_index": 28
      }
     ]
    },
    "6899ec0659b44b139522fb1952b595bf": {
     "views": [
      {
       "cell_index": 28
      }
     ]
    },
    "68aa6e5c59174976bfdba65552a12261": {
     "views": [
      {
       "cell_index": 28
      }
     ]
    },
    "68b065c9f0e141dbbeb2a7e0271ff0fe": {
     "views": [
      {
       "cell_index": 28
      }
     ]
    },
    "68c5380e4ae249c4b0371bc3c342b695": {
     "views": [
      {
       "cell_index": 28
      }
     ]
    },
    "68ca37f6a9484d17910ccf4b356e70dc": {
     "views": [
      {
       "cell_index": 28
      }
     ]
    },
    "68f52eee45f1417dbd66fbff26bdfe0b": {
     "views": [
      {
       "cell_index": 28
      }
     ]
    },
    "695e77cc6ed946e99ff637d8f6d756e1": {
     "views": [
      {
       "cell_index": 28
      }
     ]
    },
    "697243638205480ba9b97fa8a607e371": {
     "views": [
      {
       "cell_index": 28
      }
     ]
    },
    "698dd45ff4544ee2aa7ddfb778f86840": {
     "views": [
      {
       "cell_index": 28
      }
     ]
    },
    "69e83f510837410fb9c73f5f48b1fb30": {
     "views": [
      {
       "cell_index": 28
      }
     ]
    },
    "6a060e75e44b4d45bc30c8d433b6a40b": {
     "views": [
      {
       "cell_index": 28
      }
     ]
    },
    "6a0d9e5c7e7e46229ade05610563f842": {
     "views": [
      {
       "cell_index": 28
      }
     ]
    },
    "6a1c5640c8fb4e97a13222c837efdd8f": {
     "views": [
      {
       "cell_index": 28
      }
     ]
    },
    "6a23d6a67df94dd1807e594ffc5883c7": {
     "views": [
      {
       "cell_index": 28
      }
     ]
    },
    "6a34c55b5bf34145a108557446791f52": {
     "views": [
      {
       "cell_index": 28
      }
     ]
    },
    "6a610b24b9db4e2ca66a924dc15583dc": {
     "views": [
      {
       "cell_index": 28
      }
     ]
    },
    "6a768b6b1dc64b2886b42d1c412fe0e4": {
     "views": [
      {
       "cell_index": 28
      }
     ]
    },
    "6a7b0bc6e0b14c16b296e0a43d15f5fa": {
     "views": [
      {
       "cell_index": 28
      }
     ]
    },
    "6a7e00844a274552b823daacf123dd9a": {
     "views": [
      {
       "cell_index": 28
      }
     ]
    },
    "6a7fc58f19ef45a28f19ac3141b7681f": {
     "views": [
      {
       "cell_index": 28
      }
     ]
    },
    "6a942de834bf44e0b1a205bb96544b3b": {
     "views": [
      {
       "cell_index": 28
      }
     ]
    },
    "6a954f035c714f5ab715d1e0b7de8728": {
     "views": [
      {
       "cell_index": 28
      }
     ]
    },
    "6aa0c9e78aa347dbb2b2111979e4735c": {
     "views": [
      {
       "cell_index": 28
      }
     ]
    },
    "6aa8aaced6d242de8bce5648c3e93084": {
     "views": [
      {
       "cell_index": 28
      }
     ]
    },
    "6afec640910a4cd084ababe27cda9681": {
     "views": [
      {
       "cell_index": 28
      }
     ]
    },
    "6b1c6e2da3ca4c4dbb9ce340a6bdaffa": {
     "views": [
      {
       "cell_index": 28
      }
     ]
    },
    "6b2425443b6041d1b75b36093dec8789": {
     "views": [
      {
       "cell_index": 28
      }
     ]
    },
    "6b2910e8403d46819786c08cf73d27f8": {
     "views": [
      {
       "cell_index": 28
      }
     ]
    },
    "6b463f933b7d41a89fb91b2efdbee7f8": {
     "views": [
      {
       "cell_index": 28
      }
     ]
    },
    "6b9e029f9704485c91f60db3164f814c": {
     "views": [
      {
       "cell_index": 28
      }
     ]
    },
    "6bba352eb7a140c185ddb80e99256e71": {
     "views": [
      {
       "cell_index": 28
      }
     ]
    },
    "6c91654d87f846b383d4ef939ef28941": {
     "views": [
      {
       "cell_index": 28
      }
     ]
    },
    "6ca0d5b84ea6496798cdf92ab5138ca4": {
     "views": [
      {
       "cell_index": 28
      }
     ]
    },
    "6cb8ce37f84d42f0ac40c4b15b1f12fa": {
     "views": [
      {
       "cell_index": 28
      }
     ]
    },
    "6ccc1db86d1c4cf899d51876e164b70e": {
     "views": [
      {
       "cell_index": 28
      }
     ]
    },
    "6d21a3e1ed7d4249a9eb849cdc2c2be5": {
     "views": [
      {
       "cell_index": 28
      }
     ]
    },
    "6d288f1259b54122a44a34dcc884b6ad": {
     "views": [
      {
       "cell_index": 28
      }
     ]
    },
    "6d6331fbcaaf4820a8f80ec6c3a7ffa3": {
     "views": [
      {
       "cell_index": 28
      }
     ]
    },
    "6d700da12ae84d20ab449c5832141d65": {
     "views": [
      {
       "cell_index": 28
      }
     ]
    },
    "6d71f0b0eb9141a4849ed8bfec3e3a7e": {
     "views": [
      {
       "cell_index": 28
      }
     ]
    },
    "6d8705f8b76c4008a967d2156f868a67": {
     "views": [
      {
       "cell_index": 28
      }
     ]
    },
    "6d9b1337b676422eb81ea20640861bfa": {
     "views": [
      {
       "cell_index": 28
      }
     ]
    },
    "6dcf2101cb4d4353927ba681a12cd418": {
     "views": [
      {
       "cell_index": 28
      }
     ]
    },
    "6dd7083fba4b48ecbb071e09b41070f3": {
     "views": [
      {
       "cell_index": 28
      }
     ]
    },
    "6e2ccfc885e946489b33dc9bd4820723": {
     "views": [
      {
       "cell_index": 28
      }
     ]
    },
    "6e4943d7e897438b86a12aac54e44747": {
     "views": [
      {
       "cell_index": 28
      }
     ]
    },
    "6e50d4817f494e749e337cdcbdb5dc79": {
     "views": [
      {
       "cell_index": 28
      }
     ]
    },
    "6e50f736b19d41e28f2b1c8bce42abd3": {
     "views": [
      {
       "cell_index": 28
      }
     ]
    },
    "6e66c10064c2447081fe90981b76ac67": {
     "views": [
      {
       "cell_index": 28
      }
     ]
    },
    "6e6dea78c9f64415a666c86ad5813125": {
     "views": [
      {
       "cell_index": 28
      }
     ]
    },
    "6e942ed1264b4265ab48f867a3a73f98": {
     "views": [
      {
       "cell_index": 28
      }
     ]
    },
    "6e9c3c0b846d4e7989ea5f8b3389b72b": {
     "views": [
      {
       "cell_index": 28
      }
     ]
    },
    "6eada3d1d93847239f67ba385caecabb": {
     "views": [
      {
       "cell_index": 28
      }
     ]
    },
    "6eaebef827134e1082bf2031569607f9": {
     "views": [
      {
       "cell_index": 28
      }
     ]
    },
    "6eb05aafd05b415ba4da5bb18c8d3433": {
     "views": [
      {
       "cell_index": 28
      }
     ]
    },
    "6ed90d7cb03f462da4e1a3e931bcf9b2": {
     "views": [
      {
       "cell_index": 28
      }
     ]
    },
    "6f11539aae5d492ca835d5e83388dae6": {
     "views": [
      {
       "cell_index": 28
      }
     ]
    },
    "6f3af3f250664b59bfcfffcb01effa9c": {
     "views": [
      {
       "cell_index": 28
      }
     ]
    },
    "6f523396ec014f4ba5afb2f50adde9d9": {
     "views": [
      {
       "cell_index": 28
      }
     ]
    },
    "6f5618888f6e43d28b94dfb5520002e2": {
     "views": [
      {
       "cell_index": 28
      }
     ]
    },
    "6f5efb6ea01b4811a308935586a67e57": {
     "views": [
      {
       "cell_index": 28
      }
     ]
    },
    "6f64105600544437a98cbf298f5e9197": {
     "views": [
      {
       "cell_index": 28
      }
     ]
    },
    "6fdb1e24f43c431eaf6b916b549978a3": {
     "views": [
      {
       "cell_index": 28
      }
     ]
    },
    "701fae1bb6d4452e89e85243e9030455": {
     "views": [
      {
       "cell_index": 28
      }
     ]
    },
    "70343995121542e2baab090c3caa915c": {
     "views": [
      {
       "cell_index": 28
      }
     ]
    },
    "70648d2f187947c6918595af3aadfc59": {
     "views": [
      {
       "cell_index": 28
      }
     ]
    },
    "708bb8d3b7824938ac697a0009552485": {
     "views": [
      {
       "cell_index": 28
      }
     ]
    },
    "70a2380e5d034276b1904543ce99e3f8": {
     "views": [
      {
       "cell_index": 28
      }
     ]
    },
    "70c1cc6f005f4013ad96674de82fceb9": {
     "views": [
      {
       "cell_index": 28
      }
     ]
    },
    "70c837221ccb436eb39961c561aee9a1": {
     "views": [
      {
       "cell_index": 28
      }
     ]
    },
    "70d9e58a5b354716995328ec0f65fb2a": {
     "views": [
      {
       "cell_index": 28
      }
     ]
    },
    "70f9cbd9b3be43c4bda13e5d7e98cf6d": {
     "views": [
      {
       "cell_index": 28
      }
     ]
    },
    "7132f6af88c64a76a86e3f0b6d980714": {
     "views": [
      {
       "cell_index": 28
      }
     ]
    },
    "716b1fe3a9684d9d9293ae048c0380b9": {
     "views": [
      {
       "cell_index": 28
      }
     ]
    },
    "7196dbcb44ae42759a57ebd5301e8dac": {
     "views": [
      {
       "cell_index": 28
      }
     ]
    },
    "71db4bbdf3514db7ab67b7b2a9aec6f4": {
     "views": [
      {
       "cell_index": 28
      }
     ]
    },
    "71e3f32b3be140fa9563d1d6b6764bb5": {
     "views": [
      {
       "cell_index": 28
      }
     ]
    },
    "71ecdb337a734104934d2c3cda5bcaea": {
     "views": [
      {
       "cell_index": 28
      }
     ]
    },
    "720703a6321c4d41aa1cb3edbce19ebe": {
     "views": [
      {
       "cell_index": 28
      }
     ]
    },
    "7210a724c12d403e8a6ad5bfec3ebfaf": {
     "views": [
      {
       "cell_index": 28
      }
     ]
    },
    "721b11d5becc49c390f7aa38d6689e4f": {
     "views": [
      {
       "cell_index": 28
      }
     ]
    },
    "7226e491a60741a09d8b15d27b3b8e8f": {
     "views": [
      {
       "cell_index": 28
      }
     ]
    },
    "7234608a70794e17a9ee32042ebda06b": {
     "views": [
      {
       "cell_index": 28
      }
     ]
    },
    "723b15bac5ca4ce0b7c5a913dd18b66a": {
     "views": [
      {
       "cell_index": 28
      }
     ]
    },
    "724041880808480c930b3f27e8fa4b47": {
     "views": [
      {
       "cell_index": 28
      }
     ]
    },
    "72689d8d2ae1417ca2b344ee12705914": {
     "views": [
      {
       "cell_index": 28
      }
     ]
    },
    "728a650d580749a998a3f3089d12f5e0": {
     "views": [
      {
       "cell_index": 28
      }
     ]
    },
    "7291862c66a9481fb37433af360116e2": {
     "views": [
      {
       "cell_index": 28
      }
     ]
    },
    "72a07db51fce4782aa62ff038c413ea7": {
     "views": [
      {
       "cell_index": 28
      }
     ]
    },
    "72e13b44ed7f4617891866c2ac3b657f": {
     "views": [
      {
       "cell_index": 28
      }
     ]
    },
    "72eb7a8d2df4431b89eb66aae5048393": {
     "views": [
      {
       "cell_index": 28
      }
     ]
    },
    "73310590defa435881fff3b2f49284e5": {
     "views": [
      {
       "cell_index": 28
      }
     ]
    },
    "737f00c4116d41558e52a3f3c2f749f2": {
     "views": [
      {
       "cell_index": 28
      }
     ]
    },
    "7399ba50ae9049f5b286d0fd68c2c6ec": {
     "views": [
      {
       "cell_index": 28
      }
     ]
    },
    "73b89697bcd24795a9bbddd92543899f": {
     "views": [
      {
       "cell_index": 28
      }
     ]
    },
    "73c345b04e1b409fa645cf2d81b8778f": {
     "views": [
      {
       "cell_index": 28
      }
     ]
    },
    "73cca531321f4a1f8fcce33c3486b06c": {
     "views": [
      {
       "cell_index": 28
      }
     ]
    },
    "7459dc0a175e4eb5a37000fb4fecca82": {
     "views": [
      {
       "cell_index": 28
      }
     ]
    },
    "745ff1ad99734e58a25f702ef12b3996": {
     "views": [
      {
       "cell_index": 28
      }
     ]
    },
    "74686222e5f447b88784725cb3169a93": {
     "views": [
      {
       "cell_index": 28
      }
     ]
    },
    "7474f8ef94fb4732af409c0d4ed6e513": {
     "views": [
      {
       "cell_index": 28
      }
     ]
    },
    "7485e46b60eb4a229a808d7f420a55f1": {
     "views": [
      {
       "cell_index": 28
      }
     ]
    },
    "7486d3c0ec1b4cebb6c1b09b87fb3026": {
     "views": [
      {
       "cell_index": 28
      }
     ]
    },
    "74a0ef6efe0d47d8ba3141edf2798c5c": {
     "views": [
      {
       "cell_index": 28
      }
     ]
    },
    "74c8cbfad47943aaa6d251cc0fa79b1e": {
     "views": [
      {
       "cell_index": 28
      }
     ]
    },
    "74d27b9141844978a8824ed588cc175a": {
     "views": [
      {
       "cell_index": 28
      }
     ]
    },
    "74e00187bba94c578b1471df0c1d138e": {
     "views": [
      {
       "cell_index": 28
      }
     ]
    },
    "74ef491be514453fa49aba92c76e4e79": {
     "views": [
      {
       "cell_index": 28
      }
     ]
    },
    "752f99b7dfdf477a9545534bdb3fc11e": {
     "views": [
      {
       "cell_index": 28
      }
     ]
    },
    "757e54025b754f09838a945421dc1be6": {
     "views": [
      {
       "cell_index": 28
      }
     ]
    },
    "757e9d8f364641ef8d4b742267012b6a": {
     "views": [
      {
       "cell_index": 28
      }
     ]
    },
    "75c7c94c7e54456eb17f6f2afc5a1af4": {
     "views": [
      {
       "cell_index": 28
      }
     ]
    },
    "75ce33d177d141b2a563f23857ec3165": {
     "views": [
      {
       "cell_index": 28
      }
     ]
    },
    "75cf4bb83b5d4ba49dd1994d05d17c4b": {
     "views": [
      {
       "cell_index": 28
      }
     ]
    },
    "75d992f8973447dd9a31ea896e95d0b0": {
     "views": [
      {
       "cell_index": 28
      }
     ]
    },
    "75f7f2a5851b40349db5491e139de718": {
     "views": [
      {
       "cell_index": 28
      }
     ]
    },
    "76336daa016b4562a712cf9de26f09df": {
     "views": [
      {
       "cell_index": 28
      }
     ]
    },
    "764d918de9e348dfb5f2314d92f4f211": {
     "views": [
      {
       "cell_index": 28
      }
     ]
    },
    "7664d934d87d4cf9a4480878e5e83e95": {
     "views": [
      {
       "cell_index": 28
      }
     ]
    },
    "768f8795bef4467a982ae7ae992d8ae2": {
     "views": [
      {
       "cell_index": 28
      }
     ]
    },
    "76a9b6f49be6405f82d586a3ad812b6d": {
     "views": [
      {
       "cell_index": 28
      }
     ]
    },
    "76d2accd6f5142a9844ca4258036d611": {
     "views": [
      {
       "cell_index": 28
      }
     ]
    },
    "76df072c499e4bfabfb279ae50ca4801": {
     "views": [
      {
       "cell_index": 28
      }
     ]
    },
    "76f0353b1b88451abfa36b99219e9832": {
     "views": [
      {
       "cell_index": 28
      }
     ]
    },
    "76f76b0db89e4558959012b00ce74fbd": {
     "views": [
      {
       "cell_index": 28
      }
     ]
    },
    "770589c42e804f50b937e6776cafd84e": {
     "views": [
      {
       "cell_index": 28
      }
     ]
    },
    "77058a8a2207492c8f0671f833f618d3": {
     "views": [
      {
       "cell_index": 28
      }
     ]
    },
    "774f7ca4236f4e83a8dc0f1c0bed86e2": {
     "views": [
      {
       "cell_index": 28
      }
     ]
    },
    "77748f54f7b84fcfa8ba36935583f440": {
     "views": [
      {
       "cell_index": 28
      }
     ]
    },
    "777d827ebcf34825b22cf3265a559998": {
     "views": [
      {
       "cell_index": 28
      }
     ]
    },
    "7783af7ef5c744d38d5b6ee80c7e06b1": {
     "views": [
      {
       "cell_index": 28
      }
     ]
    },
    "77915ca5130f4e63abcc4178ed8ca844": {
     "views": [
      {
       "cell_index": 28
      }
     ]
    },
    "7796894196044a9faf969096d574e709": {
     "views": [
      {
       "cell_index": 28
      }
     ]
    },
    "779c9879d6694a4e94637e4017629235": {
     "views": [
      {
       "cell_index": 28
      }
     ]
    },
    "77a65770e50f4f7196e97b02de11c952": {
     "views": [
      {
       "cell_index": 28
      }
     ]
    },
    "77b3360216b0481dbbd135e53385ffdf": {
     "views": [
      {
       "cell_index": 28
      }
     ]
    },
    "77b5169c5e4f49849f8a294643705641": {
     "views": [
      {
       "cell_index": 28
      }
     ]
    },
    "77e6c60fe8ed4d7e8e65f3097085d758": {
     "views": [
      {
       "cell_index": 28
      }
     ]
    },
    "77ed2f8fdb4945678f4133d6ea8a1a74": {
     "views": [
      {
       "cell_index": 28
      }
     ]
    },
    "780838bfe6b44137a25aebc57f237e50": {
     "views": [
      {
       "cell_index": 28
      }
     ]
    },
    "780842c48f7d4a1fa4435d95fe211380": {
     "views": [
      {
       "cell_index": 28
      }
     ]
    },
    "7833b80f6c7c4097b751c3e1d46af548": {
     "views": [
      {
       "cell_index": 28
      }
     ]
    },
    "785f0d15ad1147a5b731820ff9eeded3": {
     "views": [
      {
       "cell_index": 28
      }
     ]
    },
    "7890a0b2aa964c19a41880a175beab9c": {
     "views": [
      {
       "cell_index": 28
      }
     ]
    },
    "78a9207c272f4150aa4373733ec2b663": {
     "views": [
      {
       "cell_index": 28
      }
     ]
    },
    "78a975c8fb644c48a971984ca00e7480": {
     "views": [
      {
       "cell_index": 28
      }
     ]
    },
    "78c69420c20243aeae6d759fe32e06b2": {
     "views": [
      {
       "cell_index": 28
      }
     ]
    },
    "78d4255b08754b5e9031d747130aaf0d": {
     "views": [
      {
       "cell_index": 28
      }
     ]
    },
    "78feaf6d702041ef9991cf2533cab56f": {
     "views": [
      {
       "cell_index": 28
      }
     ]
    },
    "7926ea3605e841f4837c7c09e331e7d6": {
     "views": [
      {
       "cell_index": 28
      }
     ]
    },
    "79323a78aca2445c923ba52084bfaa34": {
     "views": [
      {
       "cell_index": 28
      }
     ]
    },
    "7966a115044243f7b79259a27e17ebbc": {
     "views": [
      {
       "cell_index": 28
      }
     ]
    },
    "799761276a254659944aa51d97290ffd": {
     "views": [
      {
       "cell_index": 28
      }
     ]
    },
    "79a8421ba27942658f2df01baf131192": {
     "views": [
      {
       "cell_index": 28
      }
     ]
    },
    "79bb416556a548c7bc05f7b60592aa5d": {
     "views": [
      {
       "cell_index": 28
      }
     ]
    },
    "79c499956b074294a59dca9312dd6954": {
     "views": [
      {
       "cell_index": 28
      }
     ]
    },
    "79d66baac4ce48a19726fba911128ced": {
     "views": [
      {
       "cell_index": 28
      }
     ]
    },
    "79f19d73e4d74f79a7b05b876c24a59d": {
     "views": [
      {
       "cell_index": 28
      }
     ]
    },
    "79fc727d58e044ee9b055c10c60a8ee3": {
     "views": [
      {
       "cell_index": 28
      }
     ]
    },
    "7a059998c2a547d5856e83d70744376f": {
     "views": [
      {
       "cell_index": 28
      }
     ]
    },
    "7a0e0418672d47c0a62d4da3aaee8aef": {
     "views": [
      {
       "cell_index": 28
      }
     ]
    },
    "7a103b03954f4add9d1b28b9c8cca0cc": {
     "views": [
      {
       "cell_index": 28
      }
     ]
    },
    "7a23db6f04004f9b955266316744f626": {
     "views": [
      {
       "cell_index": 28
      }
     ]
    },
    "7a2ae5cb00b04da0ac7a42e927f714fa": {
     "views": [
      {
       "cell_index": 28
      }
     ]
    },
    "7a74a822895c412ba0a4d968386e0e09": {
     "views": [
      {
       "cell_index": 28
      }
     ]
    },
    "7aa93f59879d4c76bbc4677c5acbbe2f": {
     "views": [
      {
       "cell_index": 28
      }
     ]
    },
    "7ab34de9edc44cc58b44501a25cedefe": {
     "views": [
      {
       "cell_index": 28
      }
     ]
    },
    "7ab5b63013794c558142e6b2717bee8e": {
     "views": [
      {
       "cell_index": 28
      }
     ]
    },
    "7ac50cd2e9b74eaea9ba8b35b8076ae3": {
     "views": [
      {
       "cell_index": 28
      }
     ]
    },
    "7aedd6c5e8cc426e9b76dc051523a3f4": {
     "views": [
      {
       "cell_index": 28
      }
     ]
    },
    "7b31331fd7e543a0b931f60d357eebe6": {
     "views": [
      {
       "cell_index": 28
      }
     ]
    },
    "7bc4acf235d4428b9321da115af713a2": {
     "views": [
      {
       "cell_index": 28
      }
     ]
    },
    "7bd1b8b499be406a8abd972eb5204f8a": {
     "views": [
      {
       "cell_index": 28
      }
     ]
    },
    "7c08ba32fb2e41a48472f58188b0c2c2": {
     "views": [
      {
       "cell_index": 28
      }
     ]
    },
    "7c42cd5ec6134eeb841f3c6d8aaec195": {
     "views": [
      {
       "cell_index": 28
      }
     ]
    },
    "7c6d8c63e4cd458e8fb4d2a221c8463d": {
     "views": [
      {
       "cell_index": 28
      }
     ]
    },
    "7c8e32381b6a4f3da55ba041f8067447": {
     "views": [
      {
       "cell_index": 28
      }
     ]
    },
    "7cbb916f984744ccb1c3f25a09dc27af": {
     "views": [
      {
       "cell_index": 28
      }
     ]
    },
    "7cd3593d44ca48188cfd3b31f6b331a8": {
     "views": [
      {
       "cell_index": 28
      }
     ]
    },
    "7cec06baedeb464aac15043d3d4a84db": {
     "views": [
      {
       "cell_index": 28
      }
     ]
    },
    "7cffb8fb4fcf47caaba84ec773ab34f6": {
     "views": [
      {
       "cell_index": 28
      }
     ]
    },
    "7d1310d81a1d40a0874505da07048f2f": {
     "views": [
      {
       "cell_index": 28
      }
     ]
    },
    "7d6f3c92c9fd4288900aa1aba41e2206": {
     "views": [
      {
       "cell_index": 28
      }
     ]
    },
    "7e0124406eac4f78823f5e885709aa27": {
     "views": [
      {
       "cell_index": 28
      }
     ]
    },
    "7e03c8dc7d7349c8bd2e0b1c9e23bda8": {
     "views": [
      {
       "cell_index": 28
      }
     ]
    },
    "7e0b4ebe76e44efd9ffb71a8c5d96934": {
     "views": [
      {
       "cell_index": 28
      }
     ]
    },
    "7e132a57b81c4ec89db1c2b066598df9": {
     "views": [
      {
       "cell_index": 28
      }
     ]
    },
    "7e36151cd637416bad106bbc2163d9b6": {
     "views": [
      {
       "cell_index": 28
      }
     ]
    },
    "7ea0e386a87f4c3e9c0abb61ea8d07c8": {
     "views": [
      {
       "cell_index": 28
      }
     ]
    },
    "7ec7dae1b4a443bcb6c633a5316915de": {
     "views": [
      {
       "cell_index": 28
      }
     ]
    },
    "7ef22014d1b047a28d0aa19416bc54f8": {
     "views": [
      {
       "cell_index": 28
      }
     ]
    },
    "7ef95a1bedcb4626ae011f5e17b409ec": {
     "views": [
      {
       "cell_index": 28
      }
     ]
    },
    "7f045e68655147d9b27fc587d54c1374": {
     "views": [
      {
       "cell_index": 28
      }
     ]
    },
    "7f22a612221d4589acc0bac5fa66434c": {
     "views": [
      {
       "cell_index": 28
      }
     ]
    },
    "7f39b19c5a5d4460991a8f242c6fae55": {
     "views": [
      {
       "cell_index": 28
      }
     ]
    },
    "7f4a513c91b344cfa3481ed647fa420e": {
     "views": [
      {
       "cell_index": 28
      }
     ]
    },
    "7f7db0e63f2f4b9d91e62f11cb3af582": {
     "views": [
      {
       "cell_index": 28
      }
     ]
    },
    "7f7fdeb2fbea4a45994907111cec24aa": {
     "views": [
      {
       "cell_index": 28
      }
     ]
    },
    "7fad34a4200548c0b0ca33289589ddbe": {
     "views": [
      {
       "cell_index": 28
      }
     ]
    },
    "7fcc668d22914c5f90971d3a46994456": {
     "views": [
      {
       "cell_index": 28
      }
     ]
    },
    "8013e1ad02bb4281b8403e122050b870": {
     "views": [
      {
       "cell_index": 28
      }
     ]
    },
    "801bc654592f437aa878805a6818af1c": {
     "views": [
      {
       "cell_index": 28
      }
     ]
    },
    "802a345923d4431e922391b6aa329dad": {
     "views": [
      {
       "cell_index": 28
      }
     ]
    },
    "802b1b8a9d1040a7ad2b1223d71ceb22": {
     "views": [
      {
       "cell_index": 28
      }
     ]
    },
    "80607c6304bb4b21ba592e655e2602c5": {
     "views": [
      {
       "cell_index": 28
      }
     ]
    },
    "807462ed07df47aaa0c96e49b9bf80e0": {
     "views": [
      {
       "cell_index": 28
      }
     ]
    },
    "80af7242da4e4fc7ae16fc0b55e6c25b": {
     "views": [
      {
       "cell_index": 28
      }
     ]
    },
    "80b9234d413945f08229f22b4a918764": {
     "views": [
      {
       "cell_index": 28
      }
     ]
    },
    "80f41eea6f9d42d190b1971e4eba577a": {
     "views": [
      {
       "cell_index": 28
      }
     ]
    },
    "8105a5dd5dfc4a5f8816174fe6219f6c": {
     "views": [
      {
       "cell_index": 28
      }
     ]
    },
    "8125e6137444469bb67faf3ac3ae62ab": {
     "views": [
      {
       "cell_index": 28
      }
     ]
    },
    "8144c749464a483392a41fcf567a065e": {
     "views": [
      {
       "cell_index": 28
      }
     ]
    },
    "818020233f524051ac678553e5823360": {
     "views": [
      {
       "cell_index": 28
      }
     ]
    },
    "819a4edcbfcd42b2a48c60e987ed4971": {
     "views": [
      {
       "cell_index": 28
      }
     ]
    },
    "81a8a4eab49742879b8e6bfd37cea695": {
     "views": [
      {
       "cell_index": 28
      }
     ]
    },
    "81af5d7d8966479d885c9071d298cb98": {
     "views": [
      {
       "cell_index": 28
      }
     ]
    },
    "81bff45c57c94a529ef15a6a5d69f566": {
     "views": [
      {
       "cell_index": 28
      }
     ]
    },
    "8206a5c037824fe181f7b573e60cba7a": {
     "views": [
      {
       "cell_index": 28
      }
     ]
    },
    "82160d42787645a2a4c38594339f9993": {
     "views": [
      {
       "cell_index": 28
      }
     ]
    },
    "821fc5dd16554e22917d1d2b238b4c38": {
     "views": [
      {
       "cell_index": 28
      }
     ]
    },
    "822b674963d74be8b56a8bf0bbd61d7b": {
     "views": [
      {
       "cell_index": 28
      }
     ]
    },
    "823c8c7139c040018e2d013e794b9438": {
     "views": [
      {
       "cell_index": 28
      }
     ]
    },
    "82619c64dd1747069f51a7c9a0804cf9": {
     "views": [
      {
       "cell_index": 28
      }
     ]
    },
    "8280d72b36ea452f9e3800f5dc9db916": {
     "views": [
      {
       "cell_index": 28
      }
     ]
    },
    "82b16db55ec94b3faa512eb75fb362ae": {
     "views": [
      {
       "cell_index": 28
      }
     ]
    },
    "82b7e096829b4754834ddc50611101e9": {
     "views": [
      {
       "cell_index": 28
      }
     ]
    },
    "82d6500223574cb88bf24c0a93de6941": {
     "views": [
      {
       "cell_index": 28
      }
     ]
    },
    "82d880f91f884b53ade128797c736f5a": {
     "views": [
      {
       "cell_index": 28
      }
     ]
    },
    "82f2c89d08ed40a582790dd400eba70a": {
     "views": [
      {
       "cell_index": 28
      }
     ]
    },
    "836424d1cabe4d50a34624a5eaa8d791": {
     "views": [
      {
       "cell_index": 28
      }
     ]
    },
    "83733fd5914e4d7299e990b266b135b6": {
     "views": [
      {
       "cell_index": 28
      }
     ]
    },
    "838613d3d77d41dea8e33fe7c402b0bf": {
     "views": [
      {
       "cell_index": 28
      }
     ]
    },
    "83a057b0f37e434d9dd09987622a5a56": {
     "views": [
      {
       "cell_index": 28
      }
     ]
    },
    "83aa5bf60125463ea7c1b32ebe6d279b": {
     "views": [
      {
       "cell_index": 28
      }
     ]
    },
    "83cab636986b444da325dca1e18fb2f1": {
     "views": [
      {
       "cell_index": 28
      }
     ]
    },
    "83e119ca81674949aa76f7602c0652d7": {
     "views": [
      {
       "cell_index": 28
      }
     ]
    },
    "83e78400a7fc427c83bf1091e2737dfc": {
     "views": [
      {
       "cell_index": 28
      }
     ]
    },
    "83f2c85c0eea45059e1ee918a522e6b4": {
     "views": [
      {
       "cell_index": 28
      }
     ]
    },
    "8412bde1a2b04151ad5b1d277b16db87": {
     "views": [
      {
       "cell_index": 28
      }
     ]
    },
    "841ae9b1a069493da81fcf24e0134140": {
     "views": [
      {
       "cell_index": 28
      }
     ]
    },
    "8458c6aa10704e568c3230dea61f74b5": {
     "views": [
      {
       "cell_index": 28
      }
     ]
    },
    "84617e8b95ef46d787682da43913da2c": {
     "views": [
      {
       "cell_index": 28
      }
     ]
    },
    "848b23c3c607485998cfda3d0ad8cf8a": {
     "views": [
      {
       "cell_index": 28
      }
     ]
    },
    "8492bd7ec7d24921866686979800d221": {
     "views": [
      {
       "cell_index": 28
      }
     ]
    },
    "84bfc09795294d1db34d21cf39b596ac": {
     "views": [
      {
       "cell_index": 28
      }
     ]
    },
    "8580ad2517704418ae5adb0e1c4f1d1a": {
     "views": [
      {
       "cell_index": 28
      }
     ]
    },
    "859501d6b81040b3acef97ed85f8daf5": {
     "views": [
      {
       "cell_index": 28
      }
     ]
    },
    "8597ccb4a946424da6010984a5f97d84": {
     "views": [
      {
       "cell_index": 28
      }
     ]
    },
    "85a83267420f439e950ffef9b2a76715": {
     "views": [
      {
       "cell_index": 28
      }
     ]
    },
    "85dcac9672f646c18872331280936221": {
     "views": [
      {
       "cell_index": 28
      }
     ]
    },
    "8642fbed853640caae2bcbfcf23d491c": {
     "views": [
      {
       "cell_index": 28
      }
     ]
    },
    "86458fc22bc145888d97000a194f4e75": {
     "views": [
      {
       "cell_index": 28
      }
     ]
    },
    "868f4bd92f564ead8fbf2786f6995764": {
     "views": [
      {
       "cell_index": 28
      }
     ]
    },
    "86af3ea8fbe64ec0b8d5ea7999d85e68": {
     "views": [
      {
       "cell_index": 28
      }
     ]
    },
    "86efd35c634249789f99de9e20a10533": {
     "views": [
      {
       "cell_index": 28
      }
     ]
    },
    "871b163146954d8184a7810b481fcc67": {
     "views": [
      {
       "cell_index": 28
      }
     ]
    },
    "874b95c5f68d4cd88c73ed085d3769e6": {
     "views": [
      {
       "cell_index": 28
      }
     ]
    },
    "876197ab7bf34a71a0e5717297f8b544": {
     "views": [
      {
       "cell_index": 28
      }
     ]
    },
    "87a5ece450e546ec95c8c989f7ffe0bd": {
     "views": [
      {
       "cell_index": 28
      }
     ]
    },
    "87b1517b28a44fc1ba00d29e773dadb1": {
     "views": [
      {
       "cell_index": 28
      }
     ]
    },
    "881510b50e7b4949b169a301a75fd1c1": {
     "views": [
      {
       "cell_index": 28
      }
     ]
    },
    "88ab90b7aa35434b900034d4d2e3604f": {
     "views": [
      {
       "cell_index": 28
      }
     ]
    },
    "88cd3ed6fa05454cae8a42563b109773": {
     "views": [
      {
       "cell_index": 28
      }
     ]
    },
    "88ef720528024b7b90dc6dd9852ab3c4": {
     "views": [
      {
       "cell_index": 28
      }
     ]
    },
    "88f8089d1878467983fad9199c14708e": {
     "views": [
      {
       "cell_index": 28
      }
     ]
    },
    "890010f302fc44ce870ff1f44093e15d": {
     "views": [
      {
       "cell_index": 28
      }
     ]
    },
    "89327c63304942129cef93d9e161e321": {
     "views": [
      {
       "cell_index": 28
      }
     ]
    },
    "8961f4ba64b94026ad5cebd4886a3ce8": {
     "views": [
      {
       "cell_index": 28
      }
     ]
    },
    "896dec3be9654720b808e4f4933da11c": {
     "views": [
      {
       "cell_index": 28
      }
     ]
    },
    "8971574c9d9c4e9583623aefa7a2258b": {
     "views": [
      {
       "cell_index": 28
      }
     ]
    },
    "898dd0f7fef245f9b72e8a421f6511bb": {
     "views": [
      {
       "cell_index": 28
      }
     ]
    },
    "89c8f38bcd0b44e38bfc5bd252bc082a": {
     "views": [
      {
       "cell_index": 28
      }
     ]
    },
    "89e536009b784fe68aebb988911a0a2a": {
     "views": [
      {
       "cell_index": 28
      }
     ]
    },
    "8a601268b95a404c8552f3509a4344a9": {
     "views": [
      {
       "cell_index": 28
      }
     ]
    },
    "8a6012ffc181494eb7b257a93f506375": {
     "views": [
      {
       "cell_index": 28
      }
     ]
    },
    "8a826878b0b0449ea3d8ede6475f0c18": {
     "views": [
      {
       "cell_index": 28
      }
     ]
    },
    "8a90b289339c435782d81b69fb99bc61": {
     "views": [
      {
       "cell_index": 28
      }
     ]
    },
    "8ac23980a21e4864ae5351ccf996ad8c": {
     "views": [
      {
       "cell_index": 28
      }
     ]
    },
    "8ac6484531bb467683f30da5a3c3eca1": {
     "views": [
      {
       "cell_index": 28
      }
     ]
    },
    "8b0deffb46ab4586993bec845f8a969f": {
     "views": [
      {
       "cell_index": 28
      }
     ]
    },
    "8b4240bb8b2a460582aa470c76404fcf": {
     "views": [
      {
       "cell_index": 28
      }
     ]
    },
    "8b636dfa145e410aab70091624e68ead": {
     "views": [
      {
       "cell_index": 28
      }
     ]
    },
    "8b9f0bae08b34f849d7555b112d638ce": {
     "views": [
      {
       "cell_index": 28
      }
     ]
    },
    "8ba0b0a4719a462da990973227ea96f4": {
     "views": [
      {
       "cell_index": 28
      }
     ]
    },
    "8bc8916c8fa543bba1b8a43b66fbb997": {
     "views": [
      {
       "cell_index": 28
      }
     ]
    },
    "8be4c2784fc74867a6a542e65d0051cd": {
     "views": [
      {
       "cell_index": 28
      }
     ]
    },
    "8bf379070bf9473486c7ae5c2eacd3fe": {
     "views": [
      {
       "cell_index": 28
      }
     ]
    },
    "8c2c842fae12472ebe0bb801b6ec0449": {
     "views": [
      {
       "cell_index": 28
      }
     ]
    },
    "8c440d6a827f4a8aa1460c7fbe7bb185": {
     "views": [
      {
       "cell_index": 28
      }
     ]
    },
    "8c52079d730945eea600f113ce90196e": {
     "views": [
      {
       "cell_index": 28
      }
     ]
    },
    "8c5b0abd718b40a79b965150b4e639b2": {
     "views": [
      {
       "cell_index": 28
      }
     ]
    },
    "8c755bf73cf94a0cbb37caa296a2ebb9": {
     "views": [
      {
       "cell_index": 28
      }
     ]
    },
    "8c8cf43cf9e94b80932c916e84207119": {
     "views": [
      {
       "cell_index": 28
      }
     ]
    },
    "8cadbb0564734a50a44836f6d8d83f0f": {
     "views": [
      {
       "cell_index": 28
      }
     ]
    },
    "8cd870b0359d40d397d1ba16705d1010": {
     "views": [
      {
       "cell_index": 28
      }
     ]
    },
    "8cdabd11a6de443fb0695613b60ca1d3": {
     "views": [
      {
       "cell_index": 28
      }
     ]
    },
    "8cf89495fd0743108db33c514a113ca1": {
     "views": [
      {
       "cell_index": 28
      }
     ]
    },
    "8d3e0e5e32d04d08becf43529ed2d032": {
     "views": [
      {
       "cell_index": 28
      }
     ]
    },
    "8d7100b7c2f74c7c8e5831b42b8daabe": {
     "views": [
      {
       "cell_index": 28
      }
     ]
    },
    "8d889562319d4bb8a473b7209d07dc8e": {
     "views": [
      {
       "cell_index": 28
      }
     ]
    },
    "8daa8c8361b941f3b89d57782a48c3f6": {
     "views": [
      {
       "cell_index": 28
      }
     ]
    },
    "8de4afe119554d5ebf2ef1f8323d7e88": {
     "views": [
      {
       "cell_index": 28
      }
     ]
    },
    "8e08403b666f4d7094ed746165534cb6": {
     "views": [
      {
       "cell_index": 28
      }
     ]
    },
    "8e14a67afed046f889271e25bb74bf15": {
     "views": [
      {
       "cell_index": 28
      }
     ]
    },
    "8e688d12274742dfbc284b574cc8fbaf": {
     "views": [
      {
       "cell_index": 28
      }
     ]
    },
    "8f07df9d90a44b4490bcae428b752586": {
     "views": [
      {
       "cell_index": 28
      }
     ]
    },
    "8f1f59ae83214329adbaf2b1c9670bf7": {
     "views": [
      {
       "cell_index": 28
      }
     ]
    },
    "8f516f5b04604a0da28c63ceb21c6c80": {
     "views": [
      {
       "cell_index": 28
      }
     ]
    },
    "8f8ecfb30ba14ce3a18df67a0ba49c17": {
     "views": [
      {
       "cell_index": 28
      }
     ]
    },
    "8fca60ecd6364764a2017869703ee4f9": {
     "views": [
      {
       "cell_index": 28
      }
     ]
    },
    "8fdda9dafa404156aa6797cca579a697": {
     "views": [
      {
       "cell_index": 28
      }
     ]
    },
    "902817dff15e4fbab55c794c82c0c0fa": {
     "views": [
      {
       "cell_index": 28
      }
     ]
    },
    "905a8912390544bf92862e7e39f57560": {
     "views": [
      {
       "cell_index": 28
      }
     ]
    },
    "9095ead7b614434a98e0d9b793e8c1e5": {
     "views": [
      {
       "cell_index": 28
      }
     ]
    },
    "90b025dc75654225a526614e583698a1": {
     "views": [
      {
       "cell_index": 28
      }
     ]
    },
    "90c2bd07820b4cf281d4a1a24dbdd212": {
     "views": [
      {
       "cell_index": 28
      }
     ]
    },
    "90d83dbca9414aa5bf3506428a7709d0": {
     "views": [
      {
       "cell_index": 28
      }
     ]
    },
    "90f3b30eec584c008c39aa5a2d94f70c": {
     "views": [
      {
       "cell_index": 28
      }
     ]
    },
    "9106b6e0dc04490384d17e2a5e525d1d": {
     "views": [
      {
       "cell_index": 28
      }
     ]
    },
    "911675f7ffb74ca1b8f913c92c180fd9": {
     "views": [
      {
       "cell_index": 28
      }
     ]
    },
    "911f52853b7a4e8288d4e6b2052cefbe": {
     "views": [
      {
       "cell_index": 28
      }
     ]
    },
    "913c886afb7e4478b690f257667c3be9": {
     "views": [
      {
       "cell_index": 28
      }
     ]
    },
    "9156a10a430143b58c5851f566fa9de1": {
     "views": [
      {
       "cell_index": 28
      }
     ]
    },
    "915712778fcf43e39e500008801a913d": {
     "views": [
      {
       "cell_index": 28
      }
     ]
    },
    "9171bef945e2481fb61e2db495de8e09": {
     "views": [
      {
       "cell_index": 28
      }
     ]
    },
    "91a2b22935554e28b4f32970323a1760": {
     "views": [
      {
       "cell_index": 28
      }
     ]
    },
    "921166fa3bef4090a8d25055ebfde053": {
     "views": [
      {
       "cell_index": 28
      }
     ]
    },
    "921f032bf2c3473996985cd0082ba602": {
     "views": [
      {
       "cell_index": 28
      }
     ]
    },
    "9224a49b94234142a353795bd3344983": {
     "views": [
      {
       "cell_index": 28
      }
     ]
    },
    "922648f2a4fd489da77ff4ef05145351": {
     "views": [
      {
       "cell_index": 28
      }
     ]
    },
    "9292a46c26bf41d9be6f4ab4aeee3893": {
     "views": [
      {
       "cell_index": 28
      }
     ]
    },
    "92b7bea70bd64d6d81d7d9eb7a5d8205": {
     "views": [
      {
       "cell_index": 28
      }
     ]
    },
    "92f65b6ea96649b08270b555830ac867": {
     "views": [
      {
       "cell_index": 28
      }
     ]
    },
    "9313d0deca8a474a9e8086f05155612f": {
     "views": [
      {
       "cell_index": 28
      }
     ]
    },
    "932875e30b74488fbf40d1089e4866f7": {
     "views": [
      {
       "cell_index": 28
      }
     ]
    },
    "93329638b3b14278b080bf35968cfbbc": {
     "views": [
      {
       "cell_index": 28
      }
     ]
    },
    "935b3de142d04c7691d74eca543711f2": {
     "views": [
      {
       "cell_index": 28
      }
     ]
    },
    "9371c6700c0c48cf859aee05f07b0e79": {
     "views": [
      {
       "cell_index": 28
      }
     ]
    },
    "93749306f2fd4e569c597177e2e715f5": {
     "views": [
      {
       "cell_index": 28
      }
     ]
    },
    "93822540ff444d279620ed173a3590c1": {
     "views": [
      {
       "cell_index": 28
      }
     ]
    },
    "9382f92e1b4141a880b67fc8499efd88": {
     "views": [
      {
       "cell_index": 28
      }
     ]
    },
    "93d591e8f6ee4dfab4f78e85427b0efd": {
     "views": [
      {
       "cell_index": 28
      }
     ]
    },
    "93d7f4160d7043848bd575ca4dcd9c42": {
     "views": [
      {
       "cell_index": 28
      }
     ]
    },
    "93dda4a11dd84130ab3caf71cc556566": {
     "views": [
      {
       "cell_index": 28
      }
     ]
    },
    "93e5f9e5158446aeb389b5d864bf8f73": {
     "views": [
      {
       "cell_index": 28
      }
     ]
    },
    "93f029a0caef43af8c963fc28d3ad5d8": {
     "views": [
      {
       "cell_index": 28
      }
     ]
    },
    "940ed40744d04b0a867961b06977f9e8": {
     "views": [
      {
       "cell_index": 28
      }
     ]
    },
    "943e352d21324661b6b19dbc4c34af92": {
     "views": [
      {
       "cell_index": 28
      }
     ]
    },
    "943efea82b6e4ef8a57941598e5d3ce8": {
     "views": [
      {
       "cell_index": 28
      }
     ]
    },
    "944dedc690dc4a6799602cd5ed0db44d": {
     "views": [
      {
       "cell_index": 28
      }
     ]
    },
    "946ea9006b354f89bccf78708e5eb3e7": {
     "views": [
      {
       "cell_index": 28
      }
     ]
    },
    "94714aff145b489789d3f87eca005431": {
     "views": [
      {
       "cell_index": 28
      }
     ]
    },
    "94b7695d402f45949ded42d0c0c293b0": {
     "views": [
      {
       "cell_index": 28
      }
     ]
    },
    "94d2351ff83844b4a151fcde161af6d5": {
     "views": [
      {
       "cell_index": 28
      }
     ]
    },
    "94ec8223d70d4afe8b82d82408584963": {
     "views": [
      {
       "cell_index": 28
      }
     ]
    },
    "951af75dcf1a4f1dbd1f87c76e69ac44": {
     "views": [
      {
       "cell_index": 28
      }
     ]
    },
    "9524268322a7496ab7d72ac8e0a7bb37": {
     "views": [
      {
       "cell_index": 28
      }
     ]
    },
    "9544d0f8c5804a2e9a242a795e80f915": {
     "views": [
      {
       "cell_index": 28
      }
     ]
    },
    "954a0aac32734a33880068d285500ac8": {
     "views": [
      {
       "cell_index": 28
      }
     ]
    },
    "9561375a460c4babadae05c163a57b84": {
     "views": [
      {
       "cell_index": 28
      }
     ]
    },
    "95a44243f53d43af8f471744fa6a9220": {
     "views": [
      {
       "cell_index": 28
      }
     ]
    },
    "95ce5b6b2f6a4ee897c72a3200ba22d6": {
     "views": [
      {
       "cell_index": 28
      }
     ]
    },
    "95e39508ba684dbe959d9791cea28125": {
     "views": [
      {
       "cell_index": 28
      }
     ]
    },
    "95ea89c86a774147a07a984b69ebf2eb": {
     "views": [
      {
       "cell_index": 28
      }
     ]
    },
    "960ee11a5a494f0890a8ee3e66e29576": {
     "views": [
      {
       "cell_index": 28
      }
     ]
    },
    "9632f1b5ca9542e696beaac218b9ec18": {
     "views": [
      {
       "cell_index": 28
      }
     ]
    },
    "96531c35026b4c2ab824031721f285d7": {
     "views": [
      {
       "cell_index": 28
      }
     ]
    },
    "9656823d425a49378477293b8ef51ff7": {
     "views": [
      {
       "cell_index": 28
      }
     ]
    },
    "96bdf801bfcc400d9dc0e64f258c28e1": {
     "views": [
      {
       "cell_index": 28
      }
     ]
    },
    "96c53ffc90e84381a4101d1d01ff72ac": {
     "views": [
      {
       "cell_index": 28
      }
     ]
    },
    "96c94097531f4b518fb69ca719fa559f": {
     "views": [
      {
       "cell_index": 28
      }
     ]
    },
    "96e9ccad167b46b19a8b455221535a71": {
     "views": [
      {
       "cell_index": 28
      }
     ]
    },
    "96f0a5991d1740fd8d0689812ee354ab": {
     "views": [
      {
       "cell_index": 28
      }
     ]
    },
    "970fa0bddd2140d899ec6c7d0e5e8458": {
     "views": [
      {
       "cell_index": 28
      }
     ]
    },
    "977d8c2ae75341b18ea04f229f7cddc0": {
     "views": [
      {
       "cell_index": 28
      }
     ]
    },
    "97a2664049c04b79aef5dd1c12c3ae01": {
     "views": [
      {
       "cell_index": 28
      }
     ]
    },
    "97c26223bacf42a5a2d68d6cd39c1813": {
     "views": [
      {
       "cell_index": 28
      }
     ]
    },
    "97dee0113b1b446b9cc0b83780d41c38": {
     "views": [
      {
       "cell_index": 28
      }
     ]
    },
    "980f3004e1ef470fa4185cc93ae06389": {
     "views": [
      {
       "cell_index": 28
      }
     ]
    },
    "98596bad2b7f46a189ff225985e21075": {
     "views": [
      {
       "cell_index": 28
      }
     ]
    },
    "986fd8a043ac4b47ba2844b67be730be": {
     "views": [
      {
       "cell_index": 28
      }
     ]
    },
    "98bf9b17a392424faac801ad0b819824": {
     "views": [
      {
       "cell_index": 28
      }
     ]
    },
    "98cf9490ff104aa4959d6ce335b1abc3": {
     "views": [
      {
       "cell_index": 28
      }
     ]
    },
    "98e57114cf234c6ea24bdc1038ee7bbd": {
     "views": [
      {
       "cell_index": 28
      }
     ]
    },
    "98f3131a75a044cc9a963deec88025cd": {
     "views": [
      {
       "cell_index": 28
      }
     ]
    },
    "98f827e8c4dc4f55a83d763e7f9a4a2b": {
     "views": [
      {
       "cell_index": 28
      }
     ]
    },
    "98fe8c1b15ed40f5a2426ebecce77f3c": {
     "views": [
      {
       "cell_index": 28
      }
     ]
    },
    "9946934b747e45e492eaf2e364705179": {
     "views": [
      {
       "cell_index": 28
      }
     ]
    },
    "9983fd0657bd47bb809770671b5e0121": {
     "views": [
      {
       "cell_index": 28
      }
     ]
    },
    "99d826c9225a406e9b4c5dee0fdba750": {
     "views": [
      {
       "cell_index": 28
      }
     ]
    },
    "99f5a0adf8974cc5ab2084d046b9a13f": {
     "views": [
      {
       "cell_index": 28
      }
     ]
    },
    "9a0f5ee59bfd48f9804d50d46c71a25a": {
     "views": [
      {
       "cell_index": 28
      }
     ]
    },
    "9a13ea66fcab4978970b5695937a38d0": {
     "views": [
      {
       "cell_index": 28
      }
     ]
    },
    "9a1f52fed01e4d408a889bcdd2fc75e8": {
     "views": [
      {
       "cell_index": 28
      }
     ]
    },
    "9a57b385ffe9459881b5bc4dd4a5401d": {
     "views": [
      {
       "cell_index": 28
      }
     ]
    },
    "9a7ed4c402f849579cee21281cf0431e": {
     "views": [
      {
       "cell_index": 28
      }
     ]
    },
    "9a830188ccdc4205a3f39976a9d072a2": {
     "views": [
      {
       "cell_index": 28
      }
     ]
    },
    "9a903381352840a599d0499fd89a3462": {
     "views": [
      {
       "cell_index": 28
      }
     ]
    },
    "9aa1cf348f074148a86899a5eb5ae1fc": {
     "views": [
      {
       "cell_index": 28
      }
     ]
    },
    "9aa6b77920c84defbf6db689da30f288": {
     "views": [
      {
       "cell_index": 28
      }
     ]
    },
    "9ab274e47f3748ef8d3eb290f2dcfc56": {
     "views": [
      {
       "cell_index": 28
      }
     ]
    },
    "9ab484600a61403d9384513c1559ac08": {
     "views": [
      {
       "cell_index": 28
      }
     ]
    },
    "9adcdddd29404286b4f8c841edd720c7": {
     "views": [
      {
       "cell_index": 28
      }
     ]
    },
    "9af635c93de84c3fabe5764c4ce0b81b": {
     "views": [
      {
       "cell_index": 28
      }
     ]
    },
    "9b002d219fe643118800dfa935b22c52": {
     "views": [
      {
       "cell_index": 28
      }
     ]
    },
    "9b17bf01a5ea4cc588713abf4cd6b4f8": {
     "views": [
      {
       "cell_index": 28
      }
     ]
    },
    "9b58477d64d64c4f96bf29b25d983cef": {
     "views": [
      {
       "cell_index": 28
      }
     ]
    },
    "9b5aa516d3524e8090186acbdc003e99": {
     "views": [
      {
       "cell_index": 28
      }
     ]
    },
    "9b61d2712dd74f238dc05575eef379bf": {
     "views": [
      {
       "cell_index": 28
      }
     ]
    },
    "9b650f4393da4a6ba9fceb595ab62069": {
     "views": [
      {
       "cell_index": 28
      }
     ]
    },
    "9b6623fc06de44cf8d4433a9e72b54b5": {
     "views": [
      {
       "cell_index": 28
      }
     ]
    },
    "9b7f30c234bf4b56802bf75d02c96cdd": {
     "views": [
      {
       "cell_index": 28
      }
     ]
    },
    "9ba5337a09f046efad5412a88c86d3ea": {
     "views": [
      {
       "cell_index": 28
      }
     ]
    },
    "9bc3c78d84c141ba95fee29f4a59d883": {
     "views": [
      {
       "cell_index": 28
      }
     ]
    },
    "9bd062a8bb56482b85abbc80aec4c19f": {
     "views": [
      {
       "cell_index": 28
      }
     ]
    },
    "9bd45bc9e62a413e9f9e40c8400c8a6e": {
     "views": [
      {
       "cell_index": 28
      }
     ]
    },
    "9be79f0318ae4f6da5da9b9dd4e6e4b4": {
     "views": [
      {
       "cell_index": 28
      }
     ]
    },
    "9bee1af5e17d4e339d84bcdb26ddc248": {
     "views": [
      {
       "cell_index": 28
      }
     ]
    },
    "9c1a0f0be22e4fa3b2aec701be76d686": {
     "views": [
      {
       "cell_index": 28
      }
     ]
    },
    "9c24b19b7e60430a8b58c67589dc7314": {
     "views": [
      {
       "cell_index": 28
      }
     ]
    },
    "9c4e00b0cbd94a41b5e14de5e2289d8c": {
     "views": [
      {
       "cell_index": 28
      }
     ]
    },
    "9c67560fbacd4fb4ae8d3022c5392acc": {
     "views": [
      {
       "cell_index": 28
      }
     ]
    },
    "9c724fa0c5344a19b36dca17c6354bad": {
     "views": [
      {
       "cell_index": 28
      }
     ]
    },
    "9c8ad684c24a4a6dbb40d048ccc63ccd": {
     "views": [
      {
       "cell_index": 28
      }
     ]
    },
    "9c8d9eeea4e54c609324971bc6af8e38": {
     "views": [
      {
       "cell_index": 28
      }
     ]
    },
    "9c927f1bda5045cb9acb7eac72d8ed7a": {
     "views": [
      {
       "cell_index": 28
      }
     ]
    },
    "9cc8cd46a59e4b33a86115f30c04d233": {
     "views": [
      {
       "cell_index": 28
      }
     ]
    },
    "9cd451b83f4e4cc5ac81260ad6fdffb9": {
     "views": [
      {
       "cell_index": 28
      }
     ]
    },
    "9cd6e7d16b684807a1813e8f31f0fc0b": {
     "views": [
      {
       "cell_index": 28
      }
     ]
    },
    "9ce282c6806a41ad89e9814d74b22367": {
     "views": [
      {
       "cell_index": 28
      }
     ]
    },
    "9ce37c0ddfbc467592aea1dc1272772f": {
     "views": [
      {
       "cell_index": 28
      }
     ]
    },
    "9d04a83a78d0442294475132aa94def0": {
     "views": [
      {
       "cell_index": 28
      }
     ]
    },
    "9d16dd275de84daba6860a439fbf77c7": {
     "views": [
      {
       "cell_index": 28
      }
     ]
    },
    "9d28851cb3064d76a16524448bc8a5ac": {
     "views": [
      {
       "cell_index": 28
      }
     ]
    },
    "9d29f4a66cb64a23ace14c03e48ec80e": {
     "views": [
      {
       "cell_index": 28
      }
     ]
    },
    "9d2bb2a0e2944aa789c8ba4655578e49": {
     "views": [
      {
       "cell_index": 28
      }
     ]
    },
    "9d5e560a51264198a5647537cf3e8286": {
     "views": [
      {
       "cell_index": 28
      }
     ]
    },
    "9d8af50ea2314f198395a2c1e0e85e9e": {
     "views": [
      {
       "cell_index": 28
      }
     ]
    },
    "9d9c2c59505444a8a72f37a77bd4d52f": {
     "views": [
      {
       "cell_index": 28
      }
     ]
    },
    "9dba1cbcfebb406aac219b9f3828d310": {
     "views": [
      {
       "cell_index": 28
      }
     ]
    },
    "9dc4b3342bda47fa99c13c3d62d50349": {
     "views": [
      {
       "cell_index": 28
      }
     ]
    },
    "9e26f59faccf4e209c628dbfda999ea2": {
     "views": [
      {
       "cell_index": 28
      }
     ]
    },
    "9e80a7be802348c4a40e04070c426c8c": {
     "views": [
      {
       "cell_index": 28
      }
     ]
    },
    "9e87ce730c024be98bda79196986ea97": {
     "views": [
      {
       "cell_index": 28
      }
     ]
    },
    "9e8dac23ca44413c892d93168cf27091": {
     "views": [
      {
       "cell_index": 28
      }
     ]
    },
    "9eb843e22ff84bdd87354589fe4962be": {
     "views": [
      {
       "cell_index": 28
      }
     ]
    },
    "9ef9805d0de64d4c89bf5719a5759cd2": {
     "views": [
      {
       "cell_index": 28
      }
     ]
    },
    "9effb184eb894d6aa6683cb268563688": {
     "views": [
      {
       "cell_index": 28
      }
     ]
    },
    "9f0a96101f1a441394ed5e5bc75f427d": {
     "views": [
      {
       "cell_index": 28
      }
     ]
    },
    "9f148f6d5c5a4b52bd2d57f4ee3ee4ae": {
     "views": [
      {
       "cell_index": 28
      }
     ]
    },
    "9f1a658ded9c4ba39643f8429a66e582": {
     "views": [
      {
       "cell_index": 28
      }
     ]
    },
    "9f1ff4b7f40c4b5ea6508c6ef3fb1c20": {
     "views": [
      {
       "cell_index": 28
      }
     ]
    },
    "9f27ea2ba4904e30845b22e2d45a71a4": {
     "views": [
      {
       "cell_index": 28
      }
     ]
    },
    "9f43a75f19204e04a19250e8e80b0c39": {
     "views": [
      {
       "cell_index": 28
      }
     ]
    },
    "9fbc24c024f849d0b9cfe15835e0a966": {
     "views": [
      {
       "cell_index": 28
      }
     ]
    },
    "9fcfdbb515ec4fb984c587152cf4dd05": {
     "views": [
      {
       "cell_index": 28
      }
     ]
    },
    "a02765c3897440aabe319e707999ab65": {
     "views": [
      {
       "cell_index": 28
      }
     ]
    },
    "a0711b6bd25f4e5eab52e592d640dc1c": {
     "views": [
      {
       "cell_index": 28
      }
     ]
    },
    "a09c3730c4c840a19d23cd3d085565e1": {
     "views": [
      {
       "cell_index": 28
      }
     ]
    },
    "a0a3e8f5899a4eda91985e4347bbaf80": {
     "views": [
      {
       "cell_index": 28
      }
     ]
    },
    "a0ba322a15f5403992dc0896c02dab85": {
     "views": [
      {
       "cell_index": 28
      }
     ]
    },
    "a0c5b1400d7b4ae2a36576550325c529": {
     "views": [
      {
       "cell_index": 28
      }
     ]
    },
    "a0c78cd589654fd2831bac6f908d35a4": {
     "views": [
      {
       "cell_index": 28
      }
     ]
    },
    "a0d78f1268724b1bb88f9faa41d710ce": {
     "views": [
      {
       "cell_index": 28
      }
     ]
    },
    "a0fd03ee124b4576853e3dc0cf334ecb": {
     "views": [
      {
       "cell_index": 28
      }
     ]
    },
    "a1165d7596af4deda320bb009dbc13a4": {
     "views": [
      {
       "cell_index": 28
      }
     ]
    },
    "a149b394738c4e058e7d7b1268ce8bcc": {
     "views": [
      {
       "cell_index": 28
      }
     ]
    },
    "a18377cab7e34988bba5800f00b979ce": {
     "views": [
      {
       "cell_index": 28
      }
     ]
    },
    "a189abda5b694c8c8ba0e65d4f540f04": {
     "views": [
      {
       "cell_index": 28
      }
     ]
    },
    "a19c16c3ceb5490894b768f94d5c10e7": {
     "views": [
      {
       "cell_index": 28
      }
     ]
    },
    "a1ac6ecc702b4ac3a8d0f602307b7958": {
     "views": [
      {
       "cell_index": 28
      }
     ]
    },
    "a215ec2ce4d247d99a48d57aee81d3fc": {
     "views": [
      {
       "cell_index": 28
      }
     ]
    },
    "a28f0539b63642bb9d0d886c8003ab04": {
     "views": [
      {
       "cell_index": 28
      }
     ]
    },
    "a292b4ac8a074173b227eb16d0455431": {
     "views": [
      {
       "cell_index": 28
      }
     ]
    },
    "a2bfe202842c4c01847e641385b59e80": {
     "views": [
      {
       "cell_index": 28
      }
     ]
    },
    "a2c73f7e749b40babe99157b03124db6": {
     "views": [
      {
       "cell_index": 28
      }
     ]
    },
    "a2d107af4d964fe28485284743337ad3": {
     "views": [
      {
       "cell_index": 28
      }
     ]
    },
    "a304e9dbf58b4351aa21b78056744e35": {
     "views": [
      {
       "cell_index": 28
      }
     ]
    },
    "a308113d790545f3b3c463a15a0fd3a5": {
     "views": [
      {
       "cell_index": 28
      }
     ]
    },
    "a31c35cc649e4aa18bfdbf9ce842026b": {
     "views": [
      {
       "cell_index": 28
      }
     ]
    },
    "a36cfdef79f54cfebac983653ff81891": {
     "views": [
      {
       "cell_index": 28
      }
     ]
    },
    "a3833dca18934534a4f5ad92b6fe0780": {
     "views": [
      {
       "cell_index": 28
      }
     ]
    },
    "a39e0f02c45e42f5b3a7a3cfdc3c99a9": {
     "views": [
      {
       "cell_index": 28
      }
     ]
    },
    "a3c234e61d39481fb8cfabdc02b7cda6": {
     "views": [
      {
       "cell_index": 28
      }
     ]
    },
    "a3d995519e9a4582bb26e30677c841d6": {
     "views": [
      {
       "cell_index": 28
      }
     ]
    },
    "a4128269ce444d07a2d8f96680729c16": {
     "views": [
      {
       "cell_index": 28
      }
     ]
    },
    "a41a7ae62d2249f0960ecb4c586f74ff": {
     "views": [
      {
       "cell_index": 28
      }
     ]
    },
    "a476ad348c314339b9d059108bcc08c8": {
     "views": [
      {
       "cell_index": 28
      }
     ]
    },
    "a4771b2685454b8a8d8f68af6f10d851": {
     "views": [
      {
       "cell_index": 28
      }
     ]
    },
    "a48f94b894f34030bafe61c55a57e2d3": {
     "views": [
      {
       "cell_index": 28
      }
     ]
    },
    "a4ad06b58b2244a98ac9893be5e92895": {
     "views": [
      {
       "cell_index": 28
      }
     ]
    },
    "a4b9b91a9cd04479b87bdcba88994754": {
     "views": [
      {
       "cell_index": 28
      }
     ]
    },
    "a4bf23bd172a46eaa4394d98bf6529e9": {
     "views": [
      {
       "cell_index": 28
      }
     ]
    },
    "a4ee089e644a4507b919551fade2522b": {
     "views": [
      {
       "cell_index": 28
      }
     ]
    },
    "a52a953e8c544b5b895de2c130414466": {
     "views": [
      {
       "cell_index": 28
      }
     ]
    },
    "a53d98cb3d064296b58d60f4236e4de8": {
     "views": [
      {
       "cell_index": 28
      }
     ]
    },
    "a5428e51a4954c9f92c6fc8f3e267364": {
     "views": [
      {
       "cell_index": 28
      }
     ]
    },
    "a54552c4cbfd4b65b5898f77125ae7e4": {
     "views": [
      {
       "cell_index": 28
      }
     ]
    },
    "a58151a7785b4d8e8a3528ebe6522148": {
     "views": [
      {
       "cell_index": 28
      }
     ]
    },
    "a5b46175b12143e29fc4e992d48ec12f": {
     "views": [
      {
       "cell_index": 28
      }
     ]
    },
    "a5bf9f8db9744265b9b97f4bdb303161": {
     "views": [
      {
       "cell_index": 28
      }
     ]
    },
    "a5c844bcd51a493da4cda995db101912": {
     "views": [
      {
       "cell_index": 28
      }
     ]
    },
    "a66a77c83c8845beb9a4f01b6537bdd2": {
     "views": [
      {
       "cell_index": 28
      }
     ]
    },
    "a685679d26b24d92b3e52fdd376a8e4d": {
     "views": [
      {
       "cell_index": 28
      }
     ]
    },
    "a68e5b30c2c14dc5a9a1c684387b6f04": {
     "views": [
      {
       "cell_index": 28
      }
     ]
    },
    "a6a5221ba19445cfa9d63b292a82d844": {
     "views": [
      {
       "cell_index": 28
      }
     ]
    },
    "a6b3cce91d3a4200936cc05ef051e790": {
     "views": [
      {
       "cell_index": 28
      }
     ]
    },
    "a6c2f49915de49b39f17b09a880624ef": {
     "views": [
      {
       "cell_index": 28
      }
     ]
    },
    "a70d7d58a9e946e28d6bf5e4e2d61720": {
     "views": [
      {
       "cell_index": 28
      }
     ]
    },
    "a75feb95eb58459f8c9f46725524cf7c": {
     "views": [
      {
       "cell_index": 28
      }
     ]
    },
    "a766102b8cbe402281d86bdc6aa2767e": {
     "views": [
      {
       "cell_index": 28
      }
     ]
    },
    "a77aab3d98b74d60bcaa62d87e680425": {
     "views": [
      {
       "cell_index": 28
      }
     ]
    },
    "a7819d170d11403c829e593a091d6281": {
     "views": [
      {
       "cell_index": 28
      }
     ]
    },
    "a7d4b54a434e47d1aa67f65c36aa28ae": {
     "views": [
      {
       "cell_index": 28
      }
     ]
    },
    "a804a8e3a43c4081a4e96e1e5c4d9e34": {
     "views": [
      {
       "cell_index": 28
      }
     ]
    },
    "a810de11d86c4c49865a032aacc9e655": {
     "views": [
      {
       "cell_index": 28
      }
     ]
    },
    "a81f7754aa424fd1b62ba2ed72b82e3a": {
     "views": [
      {
       "cell_index": 28
      }
     ]
    },
    "a82b65770d294da7a4389ef35a69f636": {
     "views": [
      {
       "cell_index": 28
      }
     ]
    },
    "a85f27909c844a17aae3638a1eb282c7": {
     "views": [
      {
       "cell_index": 28
      }
     ]
    },
    "a8657e0505d24926bc2b40a4f5c2a7f1": {
     "views": [
      {
       "cell_index": 28
      }
     ]
    },
    "a86bc9698abd48cbabae8f68d60ac832": {
     "views": [
      {
       "cell_index": 28
      }
     ]
    },
    "a87e18ab0cbf4745814822ecd1969a0e": {
     "views": [
      {
       "cell_index": 28
      }
     ]
    },
    "a8b01f520fa04b44b52a386078e20419": {
     "views": [
      {
       "cell_index": 28
      }
     ]
    },
    "a8b2f1d40ac7402794f16aa660298ecf": {
     "views": [
      {
       "cell_index": 28
      }
     ]
    },
    "a8ccf427cf594f77a6508880f662a7a2": {
     "views": [
      {
       "cell_index": 28
      }
     ]
    },
    "a8cd8ef96cdd4ab6b2bf8e7416886f65": {
     "views": [
      {
       "cell_index": 28
      }
     ]
    },
    "a8cfa57036fa474cbc52b0492994ed82": {
     "views": [
      {
       "cell_index": 28
      }
     ]
    },
    "a8d03626eaed4c068f3add88c5940772": {
     "views": [
      {
       "cell_index": 28
      }
     ]
    },
    "a918dd7bafba46bf90402a645d8b2fc4": {
     "views": [
      {
       "cell_index": 28
      }
     ]
    },
    "a9273da84f5248b2b3a209ea589957b5": {
     "views": [
      {
       "cell_index": 28
      }
     ]
    },
    "a928877a03714f4e9223b50010d8ec70": {
     "views": [
      {
       "cell_index": 28
      }
     ]
    },
    "a98b483243074825954558c531b8e769": {
     "views": [
      {
       "cell_index": 28
      }
     ]
    },
    "a9aed2e3110f40b69be670bc2143f577": {
     "views": [
      {
       "cell_index": 28
      }
     ]
    },
    "a9baaab5d88341f1adee26cefeec6e62": {
     "views": [
      {
       "cell_index": 28
      }
     ]
    },
    "a9ce6a9947d14e458c268ad861f1845e": {
     "views": [
      {
       "cell_index": 28
      }
     ]
    },
    "a9dbe4afa4974b4ba09d7bb494547918": {
     "views": [
      {
       "cell_index": 28
      }
     ]
    },
    "a9e30401943f4123880a873c411ff1a8": {
     "views": [
      {
       "cell_index": 28
      }
     ]
    },
    "a9ed4628dfdb4bbc975119c2c99bc52c": {
     "views": [
      {
       "cell_index": 28
      }
     ]
    },
    "a9ff862f64fe417fa23b6e37e67f4318": {
     "views": [
      {
       "cell_index": 28
      }
     ]
    },
    "aa8d2593040045b497d77de932c4cabe": {
     "views": [
      {
       "cell_index": 28
      }
     ]
    },
    "aaa9fe67251f4c0ca312045c28239ead": {
     "views": [
      {
       "cell_index": 28
      }
     ]
    },
    "aab5e39db483487693998d673b74f93e": {
     "views": [
      {
       "cell_index": 28
      }
     ]
    },
    "aabbdd23afd44d479c559b2a2f55208a": {
     "views": [
      {
       "cell_index": 28
      }
     ]
    },
    "aac27ca46b1b4e60afe3678063beff74": {
     "views": [
      {
       "cell_index": 28
      }
     ]
    },
    "ab34db47a3784a8f9183237a0301caca": {
     "views": [
      {
       "cell_index": 28
      }
     ]
    },
    "ab55c9398dce432ea9f6c2315418f462": {
     "views": [
      {
       "cell_index": 28
      }
     ]
    },
    "ab7be51257b14a7bbc702778506a410a": {
     "views": [
      {
       "cell_index": 28
      }
     ]
    },
    "ab9d9529b3774ba98846c7286d4b3bde": {
     "views": [
      {
       "cell_index": 28
      }
     ]
    },
    "abaef870927243ebb382925c2e8c00d5": {
     "views": [
      {
       "cell_index": 28
      }
     ]
    },
    "abb6d4eb05f14978b1cc35ebb53ceb25": {
     "views": [
      {
       "cell_index": 28
      }
     ]
    },
    "abd6a59f0e2141489778356713021dae": {
     "views": [
      {
       "cell_index": 28
      }
     ]
    },
    "ac100961a68240e9a6f5460143771d4f": {
     "views": [
      {
       "cell_index": 28
      }
     ]
    },
    "ac20cb59cc2f45c383bf9c1c62c46d77": {
     "views": [
      {
       "cell_index": 28
      }
     ]
    },
    "ac47ed0c51f742d9b4737295dc52e142": {
     "views": [
      {
       "cell_index": 28
      }
     ]
    },
    "ac6d771ca3e346a0bd10d030a08d9246": {
     "views": [
      {
       "cell_index": 28
      }
     ]
    },
    "acb8f942611e44ccac3da8f3cbced8a9": {
     "views": [
      {
       "cell_index": 28
      }
     ]
    },
    "acd6e4cd40fd42b9beefe28ab91c37c4": {
     "views": [
      {
       "cell_index": 28
      }
     ]
    },
    "aceefd2e3b194b0b85f7d05a79315832": {
     "views": [
      {
       "cell_index": 28
      }
     ]
    },
    "ad07064b49ca4f54a8c2861304c5ad12": {
     "views": [
      {
       "cell_index": 28
      }
     ]
    },
    "ad191eb0fbf74f68bf9e568235c16175": {
     "views": [
      {
       "cell_index": 28
      }
     ]
    },
    "ad24d410b4ae4c7ab7cf7e4f99b3f282": {
     "views": [
      {
       "cell_index": 28
      }
     ]
    },
    "ad3fcb4718c143e1be0055ba0ec6311a": {
     "views": [
      {
       "cell_index": 28
      }
     ]
    },
    "ad58aabc793449ea9efbd250df07c995": {
     "views": [
      {
       "cell_index": 28
      }
     ]
    },
    "ad7756c70bda425abd6c191531e23135": {
     "views": [
      {
       "cell_index": 28
      }
     ]
    },
    "ad8410fca54f4447a307bf07bce6ec48": {
     "views": [
      {
       "cell_index": 28
      }
     ]
    },
    "ad8af5aea20d46ecac42466417615b60": {
     "views": [
      {
       "cell_index": 28
      }
     ]
    },
    "ad9c8266f7064fba989247faed4196df": {
     "views": [
      {
       "cell_index": 28
      }
     ]
    },
    "adbb4bb7e0e249aeb334f7d06f9c49c0": {
     "views": [
      {
       "cell_index": 28
      }
     ]
    },
    "adf8115dc07e485980309daca1698412": {
     "views": [
      {
       "cell_index": 28
      }
     ]
    },
    "ae0b3b7fcc454f6e9af95497f455c0a8": {
     "views": [
      {
       "cell_index": 28
      }
     ]
    },
    "ae198d86a8204be68c2b1590e0e6d5eb": {
     "views": [
      {
       "cell_index": 28
      }
     ]
    },
    "ae1d37a3511f4e3d92b60a15a8c60fb0": {
     "views": [
      {
       "cell_index": 28
      }
     ]
    },
    "ae1e391818f548f0838b4fe47f62fac6": {
     "views": [
      {
       "cell_index": 28
      }
     ]
    },
    "ae2e7e59a28540b98bde601ad254577e": {
     "views": [
      {
       "cell_index": 28
      }
     ]
    },
    "ae38ac3f382b427f97a3b27eb8b29391": {
     "views": [
      {
       "cell_index": 28
      }
     ]
    },
    "aea0ee5dfac04afe8c7f5d2bcef6d994": {
     "views": [
      {
       "cell_index": 28
      }
     ]
    },
    "aefde5310c6b422297e194757d827b97": {
     "views": [
      {
       "cell_index": 28
      }
     ]
    },
    "af0eece02282477cbd997d2b90901d11": {
     "views": [
      {
       "cell_index": 28
      }
     ]
    },
    "af41f3dceac84b08bea54ab2c140cc84": {
     "views": [
      {
       "cell_index": 28
      }
     ]
    },
    "af5a5bbf51b54444baee2cd773d8b422": {
     "views": [
      {
       "cell_index": 28
      }
     ]
    },
    "af61bbd79e064a02817b6e0f75a43416": {
     "views": [
      {
       "cell_index": 28
      }
     ]
    },
    "af6282ddec9b4a2e918355055da8feb7": {
     "views": [
      {
       "cell_index": 28
      }
     ]
    },
    "af6b0650af9e4e37a8356953aec34c2a": {
     "views": [
      {
       "cell_index": 28
      }
     ]
    },
    "af7a6f1bb44d4e46acd6b12f78ac2631": {
     "views": [
      {
       "cell_index": 28
      }
     ]
    },
    "af93b22aeb3045af9153e8be284ff4f6": {
     "views": [
      {
       "cell_index": 28
      }
     ]
    },
    "afbf766fe60a427e94fd9e242405b2de": {
     "views": [
      {
       "cell_index": 28
      }
     ]
    },
    "afdb226889884477ba2945c0a6e1ad69": {
     "views": [
      {
       "cell_index": 28
      }
     ]
    },
    "afe9ca7c8b74496db8828f60a522b6a1": {
     "views": [
      {
       "cell_index": 28
      }
     ]
    },
    "b01308aa1efd492cb3a9527bc496a715": {
     "views": [
      {
       "cell_index": 28
      }
     ]
    },
    "b06d3e0ca2b04b69bf73b78be6881175": {
     "views": [
      {
       "cell_index": 28
      }
     ]
    },
    "b08e68ffe37b481b94f8964ae4d0e454": {
     "views": [
      {
       "cell_index": 28
      }
     ]
    },
    "b09e0406bea1408d81e52ce61a21666a": {
     "views": [
      {
       "cell_index": 28
      }
     ]
    },
    "b0aaaed5f3944297aecfeeb651e9b90b": {
     "views": [
      {
       "cell_index": 28
      }
     ]
    },
    "b0c9a74c1df141e8ba54c99fb9a4d017": {
     "views": [
      {
       "cell_index": 28
      }
     ]
    },
    "b0d0516df0c84cc59e34d24225e68dbd": {
     "views": [
      {
       "cell_index": 28
      }
     ]
    },
    "b12331ab7f9c49a19b064c2f9e47c6c5": {
     "views": [
      {
       "cell_index": 28
      }
     ]
    },
    "b12edf7df70641d6ad50197c77948386": {
     "views": [
      {
       "cell_index": 28
      }
     ]
    },
    "b14561bf396a465894fa9a20c663bed4": {
     "views": [
      {
       "cell_index": 28
      }
     ]
    },
    "b1958e315a5d493c8f746738feb0e304": {
     "views": [
      {
       "cell_index": 28
      }
     ]
    },
    "b1b9c0146616438caef51a6faa39220d": {
     "views": [
      {
       "cell_index": 28
      }
     ]
    },
    "b1fd4c19c6b243118a1b047fc0107d41": {
     "views": [
      {
       "cell_index": 28
      }
     ]
    },
    "b205ee01cbc44aecb4914727d7cba382": {
     "views": [
      {
       "cell_index": 28
      }
     ]
    },
    "b22f4b1fda3a4bd3b10939871b7f5ab3": {
     "views": [
      {
       "cell_index": 28
      }
     ]
    },
    "b23f866eab184fbb9cb5d5058185c34e": {
     "views": [
      {
       "cell_index": 28
      }
     ]
    },
    "b24725d80f514a4c9b0ee120d0a41edc": {
     "views": [
      {
       "cell_index": 28
      }
     ]
    },
    "b26464e0482e4ce19915330c910239cf": {
     "views": [
      {
       "cell_index": 28
      }
     ]
    },
    "b27fa72936fb41609a7b141694fa5693": {
     "views": [
      {
       "cell_index": 28
      }
     ]
    },
    "b28ca57153e04a38a3848207d32ee56d": {
     "views": [
      {
       "cell_index": 28
      }
     ]
    },
    "b29a20a605a04a8495f6e37165c6d9f0": {
     "views": [
      {
       "cell_index": 28
      }
     ]
    },
    "b2b188a9174e44a2bb41867aecb3ade8": {
     "views": [
      {
       "cell_index": 28
      }
     ]
    },
    "b2c7b4e5ac4c4cec86734ff55f85e64e": {
     "views": [
      {
       "cell_index": 28
      }
     ]
    },
    "b30616d78e404c638d235292a9479b57": {
     "views": [
      {
       "cell_index": 28
      }
     ]
    },
    "b32661c726cc41bd9d5a654a0f12cb78": {
     "views": [
      {
       "cell_index": 28
      }
     ]
    },
    "b33ec28d37da4dd0bece5a974386647d": {
     "views": [
      {
       "cell_index": 28
      }
     ]
    },
    "b354ed0a5ff9461ba6a291287fad9806": {
     "views": [
      {
       "cell_index": 28
      }
     ]
    },
    "b3ec794a1b0643d58cc0731f4f8a7c53": {
     "views": [
      {
       "cell_index": 28
      }
     ]
    },
    "b40145aacd964692bea698115e7165b0": {
     "views": [
      {
       "cell_index": 28
      }
     ]
    },
    "b42b4ee01165453b8b5e84598edaf837": {
     "views": [
      {
       "cell_index": 28
      }
     ]
    },
    "b45ae83334a64dad9b1327c7f791908b": {
     "views": [
      {
       "cell_index": 28
      }
     ]
    },
    "b46c48cc70d644a991abcac61263cace": {
     "views": [
      {
       "cell_index": 28
      }
     ]
    },
    "b48af7aaea1c40c7bd3dc1a85c78082f": {
     "views": [
      {
       "cell_index": 28
      }
     ]
    },
    "b4abb493e8b149d1833a9446dc08bffd": {
     "views": [
      {
       "cell_index": 28
      }
     ]
    },
    "b4c0b5d4391b4723943aef0cf5eb0054": {
     "views": [
      {
       "cell_index": 28
      }
     ]
    },
    "b51c98e5ceb647d9b8b73684b86bb9fd": {
     "views": [
      {
       "cell_index": 28
      }
     ]
    },
    "b56ff0e534314fcebaa21ad7db4011aa": {
     "views": [
      {
       "cell_index": 28
      }
     ]
    },
    "b5c770e9d79648199abc89e831cdfc72": {
     "views": [
      {
       "cell_index": 28
      }
     ]
    },
    "b5e16d70222a4a26a262c317c6a5a22f": {
     "views": [
      {
       "cell_index": 28
      }
     ]
    },
    "b5e6181e2cb04b99b82164ec14829354": {
     "views": [
      {
       "cell_index": 28
      }
     ]
    },
    "b603514ae79341b7b74131b6c094bf77": {
     "views": [
      {
       "cell_index": 28
      }
     ]
    },
    "b61eceb16f0e4bae8416c420c60e99af": {
     "views": [
      {
       "cell_index": 28
      }
     ]
    },
    "b6473a72feae4a01a5ccbe2f0837ee4f": {
     "views": [
      {
       "cell_index": 28
      }
     ]
    },
    "b65a6fa19c4b4f91bfeaa860e03b0188": {
     "views": [
      {
       "cell_index": 28
      }
     ]
    },
    "b67826465a8c4b029770bd8435667ba7": {
     "views": [
      {
       "cell_index": 28
      }
     ]
    },
    "b68c947b927e44ecb15f08565a8e3526": {
     "views": [
      {
       "cell_index": 28
      }
     ]
    },
    "b69917db0a8b460687c7997e44dd394b": {
     "views": [
      {
       "cell_index": 28
      }
     ]
    },
    "b6a47c687c674101bf573f9789dc79ae": {
     "views": [
      {
       "cell_index": 28
      }
     ]
    },
    "b6bfe880cd66426d89c86b0425c265ea": {
     "views": [
      {
       "cell_index": 28
      }
     ]
    },
    "b6c79cc08af64b5cb050e8f1e4d4a06b": {
     "views": [
      {
       "cell_index": 28
      }
     ]
    },
    "b6dcf54fffae4d668a94fb0ea2bb11c6": {
     "views": [
      {
       "cell_index": 28
      }
     ]
    },
    "b73fc01ba6654100acd72e3f3d9e0d80": {
     "views": [
      {
       "cell_index": 28
      }
     ]
    },
    "b75d75097d4e411881047996ee9a06ab": {
     "views": [
      {
       "cell_index": 28
      }
     ]
    },
    "b7a918d52bd74c1193e5cd4158ed1d65": {
     "views": [
      {
       "cell_index": 28
      }
     ]
    },
    "b7bb0ec5ae534ec2aab9df95bb576c0d": {
     "views": [
      {
       "cell_index": 28
      }
     ]
    },
    "b7f060faaa5b4c89b93aa727abe05f94": {
     "views": [
      {
       "cell_index": 28
      }
     ]
    },
    "b813b3a8e24e4b9a9b2e20ef8071a573": {
     "views": [
      {
       "cell_index": 28
      }
     ]
    },
    "b82357c40d564ba69516a4d282014fff": {
     "views": [
      {
       "cell_index": 28
      }
     ]
    },
    "b8246bac6a7347569de2e70698ebe5fb": {
     "views": [
      {
       "cell_index": 28
      }
     ]
    },
    "b832f8b89cf846c984a9a5cde920f707": {
     "views": [
      {
       "cell_index": 28
      }
     ]
    },
    "b839d9a3f269402aa6fc738ddaf375e9": {
     "views": [
      {
       "cell_index": 28
      }
     ]
    },
    "b88f84d2470444d58d8a74b34316c2cd": {
     "views": [
      {
       "cell_index": 28
      }
     ]
    },
    "b89bc7363de04d4bb19a4f8e6d4b9511": {
     "views": [
      {
       "cell_index": 28
      }
     ]
    },
    "b89c6648def049f4b4c01e692354a7e2": {
     "views": [
      {
       "cell_index": 28
      }
     ]
    },
    "b8a067bdd5f54a75bb3c4c8b51ac2605": {
     "views": [
      {
       "cell_index": 28
      }
     ]
    },
    "b8c170013449475b93696556759b0ad4": {
     "views": [
      {
       "cell_index": 28
      }
     ]
    },
    "b8d1dc2ea20f4c90920665fa4fc5fe35": {
     "views": [
      {
       "cell_index": 28
      }
     ]
    },
    "b8d80cf4ac0546f1bcc714308e8f9a3d": {
     "views": [
      {
       "cell_index": 28
      }
     ]
    },
    "b8e40b497e68485e9855dacf6defde14": {
     "views": [
      {
       "cell_index": 28
      }
     ]
    },
    "b9152b28899a49e4a86a2a0d08adafd9": {
     "views": [
      {
       "cell_index": 28
      }
     ]
    },
    "b918dd98a4d2463e8b693cdef9918558": {
     "views": [
      {
       "cell_index": 28
      }
     ]
    },
    "b9334b845a98433698aeffb8f5421800": {
     "views": [
      {
       "cell_index": 28
      }
     ]
    },
    "b9542785bb6a4b8ca6b129694dcc7c78": {
     "views": [
      {
       "cell_index": 28
      }
     ]
    },
    "b95ce879ad434eb6b4a4d2e6c5c4fa33": {
     "views": [
      {
       "cell_index": 28
      }
     ]
    },
    "b97202d0c2964332b8cd966cda212c71": {
     "views": [
      {
       "cell_index": 28
      }
     ]
    },
    "b98fb07cd5a44c1fb0fa49565bc2e328": {
     "views": [
      {
       "cell_index": 28
      }
     ]
    },
    "b9ad481c47684a75a4d4bf9cef672276": {
     "views": [
      {
       "cell_index": 28
      }
     ]
    },
    "b9ae8c72fa624facb7422c182be884a7": {
     "views": [
      {
       "cell_index": 28
      }
     ]
    },
    "ba1615a179b749e19d973d900849d966": {
     "views": [
      {
       "cell_index": 28
      }
     ]
    },
    "ba59f09f6cd94ec299b18d2c0ff75b63": {
     "views": [
      {
       "cell_index": 28
      }
     ]
    },
    "ba71904117e44170a5717c5b58217931": {
     "views": [
      {
       "cell_index": 28
      }
     ]
    },
    "ba965b7b99454d748d86dfe860e1dcda": {
     "views": [
      {
       "cell_index": 28
      }
     ]
    },
    "baef7ee5a2684d7d9eab8bde592e4284": {
     "views": [
      {
       "cell_index": 28
      }
     ]
    },
    "bb064e955ec542bda531e133e70f8d68": {
     "views": [
      {
       "cell_index": 28
      }
     ]
    },
    "bb2b4ca4dd8c4097bc0cc20c1e0f5616": {
     "views": [
      {
       "cell_index": 28
      }
     ]
    },
    "bb5de2bd2ab44c30a5cf9eef4f0495a4": {
     "views": [
      {
       "cell_index": 28
      }
     ]
    },
    "bb7da0c097e14cb39eb3145c7d0ff91a": {
     "views": [
      {
       "cell_index": 28
      }
     ]
    },
    "bba30f00bf32477487acecbfa7fec3f8": {
     "views": [
      {
       "cell_index": 28
      }
     ]
    },
    "bbc9750ce27245b6a8a2f082428ef36d": {
     "views": [
      {
       "cell_index": 28
      }
     ]
    },
    "bbdb8eed07f3462288d84267de056ab9": {
     "views": [
      {
       "cell_index": 28
      }
     ]
    },
    "bbe11fad14734e6688db7813cef6aa8d": {
     "views": [
      {
       "cell_index": 28
      }
     ]
    },
    "bc570f5198204c3dbfd7e2651b71440c": {
     "views": [
      {
       "cell_index": 28
      }
     ]
    },
    "bc5c5c25c70042e5949bf00871b1604b": {
     "views": [
      {
       "cell_index": 28
      }
     ]
    },
    "bc6bd25926884bb5a2c92391e661e8f6": {
     "views": [
      {
       "cell_index": 28
      }
     ]
    },
    "bc797e396bea424aa6c6382a09430113": {
     "views": [
      {
       "cell_index": 28
      }
     ]
    },
    "bc825445f2414900b61b71f1396ece57": {
     "views": [
      {
       "cell_index": 28
      }
     ]
    },
    "bc9966bdb38149aa87ae5064eb1f2bfb": {
     "views": [
      {
       "cell_index": 28
      }
     ]
    },
    "bcb67fe32ba64d0e99eb24a9c35063c8": {
     "views": [
      {
       "cell_index": 28
      }
     ]
    },
    "bcbd9d5ef5f449f8bf6c11cc8a234c87": {
     "views": [
      {
       "cell_index": 28
      }
     ]
    },
    "bcccc582ccab4b45b3a2276defc4a2de": {
     "views": [
      {
       "cell_index": 28
      }
     ]
    },
    "bcddbd3c167d46e29cea8e83dbc5c05d": {
     "views": [
      {
       "cell_index": 28
      }
     ]
    },
    "bce0d4891faa4968bcb9e15460974aef": {
     "views": [
      {
       "cell_index": 28
      }
     ]
    },
    "bd1887d16ec1419e811e10d7a57da7b4": {
     "views": [
      {
       "cell_index": 28
      }
     ]
    },
    "bd1ad7da605d434d81275f0de67657fc": {
     "views": [
      {
       "cell_index": 28
      }
     ]
    },
    "bd3ed550baf84f3ca8d4be765842ab5c": {
     "views": [
      {
       "cell_index": 28
      }
     ]
    },
    "bd4800dba9754bb482373475120c1ea8": {
     "views": [
      {
       "cell_index": 28
      }
     ]
    },
    "bd59e71d1bce4465b1dc57e54e05116b": {
     "views": [
      {
       "cell_index": 28
      }
     ]
    },
    "bd8ef3efbb9a449ba294118c45e3abcf": {
     "views": [
      {
       "cell_index": 28
      }
     ]
    },
    "bd9652568ade4926986411ebbe35ab10": {
     "views": [
      {
       "cell_index": 28
      }
     ]
    },
    "bdb412f35573461a8e15572b16b9b197": {
     "views": [
      {
       "cell_index": 28
      }
     ]
    },
    "bdf21afb44c94830a35c77bb7b9ad81a": {
     "views": [
      {
       "cell_index": 28
      }
     ]
    },
    "bdf860ad6fde4f8bb6d0a980890ca079": {
     "views": [
      {
       "cell_index": 28
      }
     ]
    },
    "be3737ce98764779ac1bf25f04d8726a": {
     "views": [
      {
       "cell_index": 28
      }
     ]
    },
    "be5b600ff091463eb58d48657974e115": {
     "views": [
      {
       "cell_index": 28
      }
     ]
    },
    "be6537c54bef421a9dbc32dd62489950": {
     "views": [
      {
       "cell_index": 28
      }
     ]
    },
    "be74903bb6e04d018b65254e988a7aa2": {
     "views": [
      {
       "cell_index": 28
      }
     ]
    },
    "be833d0cc55047f5b4f67884635b0803": {
     "views": [
      {
       "cell_index": 28
      }
     ]
    },
    "bea0907e2db0409fb650c87e1ba0ea67": {
     "views": [
      {
       "cell_index": 28
      }
     ]
    },
    "bec673533ebf42f99e0864a338f8109b": {
     "views": [
      {
       "cell_index": 28
      }
     ]
    },
    "bedf7d3ff2b14094809cbb57e93aff1c": {
     "views": [
      {
       "cell_index": 28
      }
     ]
    },
    "bef1ca21d1b34b7badf2a0fc0c190b7c": {
     "views": [
      {
       "cell_index": 28
      }
     ]
    },
    "befe732fccbc4280baaaa1c54aaad256": {
     "views": [
      {
       "cell_index": 28
      }
     ]
    },
    "bf21fc46f3da4cb2a240abf9b8d8faa6": {
     "views": [
      {
       "cell_index": 28
      }
     ]
    },
    "bf3928c2fb3741d39d5d20651dee9e1c": {
     "views": [
      {
       "cell_index": 28
      }
     ]
    },
    "bf62d33b27ae46f49a0f95bc1da3b93e": {
     "views": [
      {
       "cell_index": 28
      }
     ]
    },
    "bf7ac82fcb8d4935bdfc5f8a4b462db1": {
     "views": [
      {
       "cell_index": 28
      }
     ]
    },
    "bfa57ee238f4434a97dc176b84f73561": {
     "views": [
      {
       "cell_index": 28
      }
     ]
    },
    "bfef489551e84622a9bd4532e74cccca": {
     "views": [
      {
       "cell_index": 28
      }
     ]
    },
    "c03c97b59a614c6c8326279eb4cf8f71": {
     "views": [
      {
       "cell_index": 28
      }
     ]
    },
    "c071579f50aa452db2213afcadbc515c": {
     "views": [
      {
       "cell_index": 28
      }
     ]
    },
    "c07d396dd39a4e96a00b1c7580117495": {
     "views": [
      {
       "cell_index": 28
      }
     ]
    },
    "c0838ceef56946ac92983de4a6eaae20": {
     "views": [
      {
       "cell_index": 28
      }
     ]
    },
    "c098af43555049929e405f14e0d8d029": {
     "views": [
      {
       "cell_index": 28
      }
     ]
    },
    "c0a148c5d9ae401dbbaf89d83656a931": {
     "views": [
      {
       "cell_index": 28
      }
     ]
    },
    "c0f605080c02431d815685204dc348bf": {
     "views": [
      {
       "cell_index": 28
      }
     ]
    },
    "c0fc5d52dfe44b13bbaf5be0eb4a2c9c": {
     "views": [
      {
       "cell_index": 28
      }
     ]
    },
    "c16c3ed4808b4c228d4162b6e885a1a4": {
     "views": [
      {
       "cell_index": 28
      }
     ]
    },
    "c1763899a67b41b09658e6947c9e30ac": {
     "views": [
      {
       "cell_index": 28
      }
     ]
    },
    "c208b551294a4c3db5c9bbadf25c2220": {
     "views": [
      {
       "cell_index": 28
      }
     ]
    },
    "c217b8d1f1744c478b27066aceaa7e01": {
     "views": [
      {
       "cell_index": 28
      }
     ]
    },
    "c22b8cc103964b0188ef367911fc4ef0": {
     "views": [
      {
       "cell_index": 28
      }
     ]
    },
    "c23b43c8b8d44ea1bbc05a9a8de84fa2": {
     "views": [
      {
       "cell_index": 28
      }
     ]
    },
    "c23ca807011043c3ade3f5ab6409947f": {
     "views": [
      {
       "cell_index": 28
      }
     ]
    },
    "c256deec86244ddabffb04ef63ea3b47": {
     "views": [
      {
       "cell_index": 28
      }
     ]
    },
    "c258d79c77c649b889a39e6094511b3b": {
     "views": [
      {
       "cell_index": 28
      }
     ]
    },
    "c287cba4d70f4fe89610acfe3c3511ac": {
     "views": [
      {
       "cell_index": 28
      }
     ]
    },
    "c2a0ae198da142e99668e67fddd7cbba": {
     "views": [
      {
       "cell_index": 28
      }
     ]
    },
    "c2a8c0e9fafb41dd9211f3b1fbdcde7a": {
     "views": [
      {
       "cell_index": 28
      }
     ]
    },
    "c2bc88c7d20e4c158afc9324c4ca1b30": {
     "views": [
      {
       "cell_index": 28
      }
     ]
    },
    "c2c49446e98745d882eceb2a20bd556d": {
     "views": [
      {
       "cell_index": 28
      }
     ]
    },
    "c31ce5b7e5a04de9bd06947acad788eb": {
     "views": [
      {
       "cell_index": 28
      }
     ]
    },
    "c32a6a0cf90f434c9044f232a6a825c6": {
     "views": [
      {
       "cell_index": 28
      }
     ]
    },
    "c37d386c1bd44348ae24f1c8209e8c82": {
     "views": [
      {
       "cell_index": 28
      }
     ]
    },
    "c38c2c5097744aa09b3c460aa99bb47d": {
     "views": [
      {
       "cell_index": 28
      }
     ]
    },
    "c3afd26184f348cd86f6089be8a6f4b7": {
     "views": [
      {
       "cell_index": 28
      }
     ]
    },
    "c3b62ca200af45e6bc35e618fc47ce1d": {
     "views": [
      {
       "cell_index": 28
      }
     ]
    },
    "c3c93653f09f42a285b81ee3273564ea": {
     "views": [
      {
       "cell_index": 28
      }
     ]
    },
    "c3cafe64b8524886b2c99e3a5e3ea81a": {
     "views": [
      {
       "cell_index": 28
      }
     ]
    },
    "c46a549ccfb9459e9c83633b4512da0a": {
     "views": [
      {
       "cell_index": 28
      }
     ]
    },
    "c46c1a0dced84cc1adb9b061cf4235a4": {
     "views": [
      {
       "cell_index": 28
      }
     ]
    },
    "c46c5ed8d84c4c7eae705d0040457edd": {
     "views": [
      {
       "cell_index": 28
      }
     ]
    },
    "c51705730f8a41358877ad4c43f3f5e1": {
     "views": [
      {
       "cell_index": 28
      }
     ]
    },
    "c542fd15b0af411ab606b23d288c3711": {
     "views": [
      {
       "cell_index": 28
      }
     ]
    },
    "c5787ce458774a93a64748c475775f63": {
     "views": [
      {
       "cell_index": 28
      }
     ]
    },
    "c58c07032f074b08b63779fcd78b06e0": {
     "views": [
      {
       "cell_index": 28
      }
     ]
    },
    "c59d5579beba4de2a0686a67264f7235": {
     "views": [
      {
       "cell_index": 28
      }
     ]
    },
    "c5a6272ea60148c3a715c4ad8e2e8485": {
     "views": [
      {
       "cell_index": 28
      }
     ]
    },
    "c5b9d4cd857c4dea8bdd541e61a029c2": {
     "views": [
      {
       "cell_index": 28
      }
     ]
    },
    "c5ee3b3392d24166ac90be04e82895fd": {
     "views": [
      {
       "cell_index": 28
      }
     ]
    },
    "c5f09484e2524988bd4d45d4b34fce1d": {
     "views": [
      {
       "cell_index": 28
      }
     ]
    },
    "c5f17b4c4a0a4ecb96bdecdd5dcaa956": {
     "views": [
      {
       "cell_index": 28
      }
     ]
    },
    "c60c49094a234257936ca3753c864e5f": {
     "views": [
      {
       "cell_index": 28
      }
     ]
    },
    "c627276c5de14caeb50b5e05801bb13a": {
     "views": [
      {
       "cell_index": 28
      }
     ]
    },
    "c62c741f856f41c8a624a4f21e1c9c42": {
     "views": [
      {
       "cell_index": 28
      }
     ]
    },
    "c660d04315b243a2aa2df250ab54708d": {
     "views": [
      {
       "cell_index": 28
      }
     ]
    },
    "c676a9eef3944b21804b38f22067b646": {
     "views": [
      {
       "cell_index": 28
      }
     ]
    },
    "c684bba6b8854395b7829e0e0c6b41fc": {
     "views": [
      {
       "cell_index": 28
      }
     ]
    },
    "c691f1d208a24f57a81cb1077b0f3a9b": {
     "views": [
      {
       "cell_index": 28
      }
     ]
    },
    "c69f542bc941457fb8d97681661cef60": {
     "views": [
      {
       "cell_index": 28
      }
     ]
    },
    "c6cb362af3d648f7b2d5c4f0ff215fe5": {
     "views": [
      {
       "cell_index": 28
      }
     ]
    },
    "c6dd5bfa99c84f138f2da102d09b963d": {
     "views": [
      {
       "cell_index": 28
      }
     ]
    },
    "c6f0aad7f2904bdb9aca3cfbd8e8ac95": {
     "views": [
      {
       "cell_index": 28
      }
     ]
    },
    "c70dc87cf7e041888637592edab6a3e2": {
     "views": [
      {
       "cell_index": 28
      }
     ]
    },
    "c72c3bdee9954790afed3ced21fff565": {
     "views": [
      {
       "cell_index": 28
      }
     ]
    },
    "c73687ebf81a490d9be4b770b1820a22": {
     "views": [
      {
       "cell_index": 28
      }
     ]
    },
    "c74329803dd54687a1cbaacbe5922e4b": {
     "views": [
      {
       "cell_index": 28
      }
     ]
    },
    "c74b265369044de686cfff967c4e05ca": {
     "views": [
      {
       "cell_index": 28
      }
     ]
    },
    "c7533024666640719b4be80b78f34dd3": {
     "views": [
      {
       "cell_index": 28
      }
     ]
    },
    "c77a62a3a5814474b119811d2136f59a": {
     "views": [
      {
       "cell_index": 28
      }
     ]
    },
    "c78267b05b844fe6b4d154dd7b347f52": {
     "views": [
      {
       "cell_index": 28
      }
     ]
    },
    "c7853f1bf8c84c3e9e0bf0d367f4877a": {
     "views": [
      {
       "cell_index": 28
      }
     ]
    },
    "c7c01ae1541746d59a9b390e21023ef1": {
     "views": [
      {
       "cell_index": 28
      }
     ]
    },
    "c7c547780bee4843b5c63ed56d398704": {
     "views": [
      {
       "cell_index": 28
      }
     ]
    },
    "c7c5b442dccb4b758f482b650d9fb997": {
     "views": [
      {
       "cell_index": 28
      }
     ]
    },
    "c820b799eb6548599f8310d53a8907e3": {
     "views": [
      {
       "cell_index": 28
      }
     ]
    },
    "c871243be93842b1b5bab4ba5004b1a4": {
     "views": [
      {
       "cell_index": 28
      }
     ]
    },
    "c89d28c5297c439f8fb2cce9202203eb": {
     "views": [
      {
       "cell_index": 28
      }
     ]
    },
    "c8ef4eda653b4aa0a14ad932fda6d775": {
     "views": [
      {
       "cell_index": 28
      }
     ]
    },
    "c92ce0ca2328496db3fd8c2edfd6c9f5": {
     "views": [
      {
       "cell_index": 28
      }
     ]
    },
    "c94b1f5d05b64eb192227a94d053c71e": {
     "views": [
      {
       "cell_index": 28
      }
     ]
    },
    "c97ad545146f41faada67d48316b4038": {
     "views": [
      {
       "cell_index": 28
      }
     ]
    },
    "c9a2911921f5401f84f8f1e58bb940e0": {
     "views": [
      {
       "cell_index": 28
      }
     ]
    },
    "c9c218956fc94342beb720f9fdf676f4": {
     "views": [
      {
       "cell_index": 28
      }
     ]
    },
    "c9ce94ac086b4eee868935e27a7c49f2": {
     "views": [
      {
       "cell_index": 28
      }
     ]
    },
    "c9ceba0ef2af47f3a9d35f51d7cf8992": {
     "views": [
      {
       "cell_index": 28
      }
     ]
    },
    "c9e70ca6352a47c7a06cf2bcabf80bec": {
     "views": [
      {
       "cell_index": 28
      }
     ]
    },
    "ca387ea39c294a57925c5277c29b2f93": {
     "views": [
      {
       "cell_index": 28
      }
     ]
    },
    "ca7e15b6c67c4a5497ea1bbdc8cb196f": {
     "views": [
      {
       "cell_index": 28
      }
     ]
    },
    "cab156d2646f41e191eeb4156ff89345": {
     "views": [
      {
       "cell_index": 28
      }
     ]
    },
    "cab44915e6e643dbb94e935c398b5339": {
     "views": [
      {
       "cell_index": 28
      }
     ]
    },
    "cad71877ca884362a4fed2c73e5636f6": {
     "views": [
      {
       "cell_index": 28
      }
     ]
    },
    "cb37a8378d71409f9b202c77da0a62e2": {
     "views": [
      {
       "cell_index": 28
      }
     ]
    },
    "cb60388f43fb4e988dc12627da2e7672": {
     "views": [
      {
       "cell_index": 28
      }
     ]
    },
    "cbd1ee84a14e4f84a0b729e5604a9e6b": {
     "views": [
      {
       "cell_index": 28
      }
     ]
    },
    "cc011c2629574098a8ba30c6180e5a64": {
     "views": [
      {
       "cell_index": 28
      }
     ]
    },
    "cc0d6da1307e475e97bbdba4160b74a1": {
     "views": [
      {
       "cell_index": 28
      }
     ]
    },
    "cc13e8f0f7024527bad03a8e1ab6b79a": {
     "views": [
      {
       "cell_index": 28
      }
     ]
    },
    "cc35ac82e7284f5784187447c77035e8": {
     "views": [
      {
       "cell_index": 28
      }
     ]
    },
    "cc384083c081441cb8796498fcd3c1cb": {
     "views": [
      {
       "cell_index": 28
      }
     ]
    },
    "cc4160e30ab5454bb7f986b02e8b9b22": {
     "views": [
      {
       "cell_index": 28
      }
     ]
    },
    "cc4fb04ab1c840eda7d1bef54685cdf1": {
     "views": [
      {
       "cell_index": 28
      }
     ]
    },
    "cc5576bb3d03426cb7bf08d0311ca2d8": {
     "views": [
      {
       "cell_index": 28
      }
     ]
    },
    "cc5f1d930762468ab4d987cc5d922cf9": {
     "views": [
      {
       "cell_index": 28
      }
     ]
    },
    "cc924b86d13f4bdabd37af87b969a2be": {
     "views": [
      {
       "cell_index": 28
      }
     ]
    },
    "cc947a3deeaf421e848cd401a11a1bf9": {
     "views": [
      {
       "cell_index": 28
      }
     ]
    },
    "cc9c5e22333345ef9e51f570eefc5ef9": {
     "views": [
      {
       "cell_index": 28
      }
     ]
    },
    "ccb4010743b9442bb29da9fb1619f196": {
     "views": [
      {
       "cell_index": 28
      }
     ]
    },
    "cd4348b0de3445268d569a87fa095874": {
     "views": [
      {
       "cell_index": 28
      }
     ]
    },
    "cd5ffbf81a8549319dd66949299a3431": {
     "views": [
      {
       "cell_index": 28
      }
     ]
    },
    "cd692ab9a23342879fefd7a71ad1015e": {
     "views": [
      {
       "cell_index": 28
      }
     ]
    },
    "cd6e12aab6bb4e0e9e53a363e0ef6e53": {
     "views": [
      {
       "cell_index": 28
      }
     ]
    },
    "cd83329fea8d4b5c864af3ffb6f62b02": {
     "views": [
      {
       "cell_index": 28
      }
     ]
    },
    "cd888232f16a411480bd7ab9e4a8439d": {
     "views": [
      {
       "cell_index": 28
      }
     ]
    },
    "cd89cc5c5f2b42ef9448fcbdcb570889": {
     "views": [
      {
       "cell_index": 28
      }
     ]
    },
    "cd9a9d7062a945369434a5da496b0549": {
     "views": [
      {
       "cell_index": 28
      }
     ]
    },
    "cdaf2139f1c74ae2af8c858d4234338c": {
     "views": [
      {
       "cell_index": 28
      }
     ]
    },
    "cdc9d733bac24c7cabaee5787b4a1eca": {
     "views": [
      {
       "cell_index": 28
      }
     ]
    },
    "ce019a50edef4ca8a6872ff19319b71c": {
     "views": [
      {
       "cell_index": 28
      }
     ]
    },
    "ce186eebccc14ff6a8cfc9e144bce86c": {
     "views": [
      {
       "cell_index": 28
      }
     ]
    },
    "ce48d1dba076418f8ca7c32f7ca59ff3": {
     "views": [
      {
       "cell_index": 28
      }
     ]
    },
    "ce5c22d6932c4d6e9751dcfc9859a622": {
     "views": [
      {
       "cell_index": 28
      }
     ]
    },
    "ce5e256a40a54457bc62a6d3c2859999": {
     "views": [
      {
       "cell_index": 28
      }
     ]
    },
    "ce658353dfd24c498c1f317859b0f45f": {
     "views": [
      {
       "cell_index": 28
      }
     ]
    },
    "ce98c45618d5443f805ba0350c0984d5": {
     "views": [
      {
       "cell_index": 28
      }
     ]
    },
    "cebfcf7f0da54743a6975ac29bc23d0d": {
     "views": [
      {
       "cell_index": 28
      }
     ]
    },
    "cf3d9fecebc74a6dadf1c0f3fd73b2e0": {
     "views": [
      {
       "cell_index": 28
      }
     ]
    },
    "cf4b5c6484614b09abdef77c9a1d2dc2": {
     "views": [
      {
       "cell_index": 28
      }
     ]
    },
    "cf601dc12d924c20bbc78b2ced9f22b4": {
     "views": [
      {
       "cell_index": 28
      }
     ]
    },
    "cf6a1e0219c047c59af8529957850b1f": {
     "views": [
      {
       "cell_index": 28
      }
     ]
    },
    "cf804a6c984e4858917a4d83a6ec7fe7": {
     "views": [
      {
       "cell_index": 28
      }
     ]
    },
    "cfa2cf65f23b4cefa46cd9144ec459f8": {
     "views": [
      {
       "cell_index": 28
      }
     ]
    },
    "cfa34311a0164f07b3412c289591cd86": {
     "views": [
      {
       "cell_index": 28
      }
     ]
    },
    "cfcc86fa59bd489294a88c7e7599ece4": {
     "views": [
      {
       "cell_index": 28
      }
     ]
    },
    "d009a0ba53c64ad6adc09e6bb5fd4d6a": {
     "views": [
      {
       "cell_index": 28
      }
     ]
    },
    "d0280f9cefad4c47bb828987b6e61fe0": {
     "views": [
      {
       "cell_index": 28
      }
     ]
    },
    "d05021c508ed4c76a1374369fc098f0f": {
     "views": [
      {
       "cell_index": 28
      }
     ]
    },
    "d07423996c6943cc89448d22110dcdd0": {
     "views": [
      {
       "cell_index": 28
      }
     ]
    },
    "d082b752ee3e48039469f4ac405af7cf": {
     "views": [
      {
       "cell_index": 28
      }
     ]
    },
    "d0bd9a4d4282469ea1344c340d9914bc": {
     "views": [
      {
       "cell_index": 28
      }
     ]
    },
    "d1197104c3804a0cb3099b5d6188eb9f": {
     "views": [
      {
       "cell_index": 28
      }
     ]
    },
    "d12851aa579645e3b97fd6191df9fae0": {
     "views": [
      {
       "cell_index": 28
      }
     ]
    },
    "d157246434ae4c9692a608eee08b30d0": {
     "views": [
      {
       "cell_index": 28
      }
     ]
    },
    "d169679bed1c4c3abcb0984ac848d9a7": {
     "views": [
      {
       "cell_index": 28
      }
     ]
    },
    "d18f382fc4434b8c884a149a14a0e9eb": {
     "views": [
      {
       "cell_index": 28
      }
     ]
    },
    "d192540009334181b45f45b57cafcd99": {
     "views": [
      {
       "cell_index": 28
      }
     ]
    },
    "d1a6526644e84e439e42b61db59adbc4": {
     "views": [
      {
       "cell_index": 28
      }
     ]
    },
    "d1b3463029ce4050ba30a60366a481bc": {
     "views": [
      {
       "cell_index": 28
      }
     ]
    },
    "d1bbba37f01f446a9f72168a73066d73": {
     "views": [
      {
       "cell_index": 28
      }
     ]
    },
    "d1e1b49a08d94374b08bd9ebd1ade577": {
     "views": [
      {
       "cell_index": 28
      }
     ]
    },
    "d1e3120827e343429d762b4d960f14b2": {
     "views": [
      {
       "cell_index": 28
      }
     ]
    },
    "d220f84bbc494f83aa01b9a012d33eee": {
     "views": [
      {
       "cell_index": 28
      }
     ]
    },
    "d24c27ce0b6145ed83532716989c656f": {
     "views": [
      {
       "cell_index": 28
      }
     ]
    },
    "d290c043674e40da8355ce77188d0f12": {
     "views": [
      {
       "cell_index": 28
      }
     ]
    },
    "d2aa293d06ed4347965449a1c34bcb66": {
     "views": [
      {
       "cell_index": 28
      }
     ]
    },
    "d2ac072f6b5d47f990b81cab8fc62ebf": {
     "views": [
      {
       "cell_index": 28
      }
     ]
    },
    "d303a976fd5249008457688a4a0e3b17": {
     "views": [
      {
       "cell_index": 28
      }
     ]
    },
    "d32d524569d241d1b3db2c3492113715": {
     "views": [
      {
       "cell_index": 28
      }
     ]
    },
    "d33ec6fae63c4a2f8165acfa8d4f687f": {
     "views": [
      {
       "cell_index": 28
      }
     ]
    },
    "d3801c12fe0048ca9979eaf693f2421b": {
     "views": [
      {
       "cell_index": 28
      }
     ]
    },
    "d3ae1e81e0ba4a59b396b6e0370b7a71": {
     "views": [
      {
       "cell_index": 28
      }
     ]
    },
    "d3d251c42f8543b499b389b17fa307be": {
     "views": [
      {
       "cell_index": 28
      }
     ]
    },
    "d41c42fffd2c440eb431d076fb1f93aa": {
     "views": [
      {
       "cell_index": 28
      }
     ]
    },
    "d484783803ea4b959f8891521805ab28": {
     "views": [
      {
       "cell_index": 28
      }
     ]
    },
    "d4849f4674f14ce69ffde845bc4ec8a3": {
     "views": [
      {
       "cell_index": 28
      }
     ]
    },
    "d4b1ce8f4bb34fd59c7eb8baf7e6e0fa": {
     "views": [
      {
       "cell_index": 28
      }
     ]
    },
    "d4beb17bbbfc4c7395e9a19abd2d4583": {
     "views": [
      {
       "cell_index": 28
      }
     ]
    },
    "d510fa5dcb1449d1862f4849f32e7db0": {
     "views": [
      {
       "cell_index": 28
      }
     ]
    },
    "d53e7ed307964e849d30f4e2728559be": {
     "views": [
      {
       "cell_index": 28
      }
     ]
    },
    "d54d44443d094bd7b3c66d7ff97ce072": {
     "views": [
      {
       "cell_index": 28
      }
     ]
    },
    "d57a9cd69d1d4ed3804cd674a269c140": {
     "views": [
      {
       "cell_index": 28
      }
     ]
    },
    "d5c1faf6f53e4420b05120a74b93102b": {
     "views": [
      {
       "cell_index": 28
      }
     ]
    },
    "d5d21ac01662405fa4f40ad491a8cd17": {
     "views": [
      {
       "cell_index": 28
      }
     ]
    },
    "d5e84f400e7a42d395519a9222c88799": {
     "views": [
      {
       "cell_index": 28
      }
     ]
    },
    "d61305fa4b204159a754e77d8450ff94": {
     "views": [
      {
       "cell_index": 28
      }
     ]
    },
    "d626609d1b144c0dbebfaf71e9e9c0e3": {
     "views": [
      {
       "cell_index": 28
      }
     ]
    },
    "d628987e518b4eddba7f41a922dd9a4d": {
     "views": [
      {
       "cell_index": 28
      }
     ]
    },
    "d660f9f5b4b24829927b03daf7ee93fc": {
     "views": [
      {
       "cell_index": 28
      }
     ]
    },
    "d66b162a33e1493d8502f304681d4961": {
     "views": [
      {
       "cell_index": 28
      }
     ]
    },
    "d67555768b4147288169ac4e73af2605": {
     "views": [
      {
       "cell_index": 28
      }
     ]
    },
    "d679b64635a94db189583d47725787b9": {
     "views": [
      {
       "cell_index": 28
      }
     ]
    },
    "d69629e902fa4f0391df28602193e7c0": {
     "views": [
      {
       "cell_index": 28
      }
     ]
    },
    "d6b5124d345f4db0bddb369e3a3bd95b": {
     "views": [
      {
       "cell_index": 28
      }
     ]
    },
    "d6c0220ce79540bf8acaf1e0859c6736": {
     "views": [
      {
       "cell_index": 28
      }
     ]
    },
    "d7090537ea5b47dd8dee6099f26938fd": {
     "views": [
      {
       "cell_index": 28
      }
     ]
    },
    "d71b9355063a413694776f602ed6c30c": {
     "views": [
      {
       "cell_index": 28
      }
     ]
    },
    "d71d07d69ae040d7b88dfe75ec986e10": {
     "views": [
      {
       "cell_index": 28
      }
     ]
    },
    "d72cf26746a848b598d3f11bba4e4cf4": {
     "views": [
      {
       "cell_index": 28
      }
     ]
    },
    "d74e15289f9d4da2ba57e828cc4dafe3": {
     "views": [
      {
       "cell_index": 28
      }
     ]
    },
    "d753f5ac36e4441cbefcc65701665c81": {
     "views": [
      {
       "cell_index": 28
      }
     ]
    },
    "d76bd7ef44d147af9f0a51de8edcb268": {
     "views": [
      {
       "cell_index": 28
      }
     ]
    },
    "d770a9bec51c461c932254e922b289a1": {
     "views": [
      {
       "cell_index": 28
      }
     ]
    },
    "d77b1e2aa2784b20a598c436153eb548": {
     "views": [
      {
       "cell_index": 28
      }
     ]
    },
    "d77b5165256346bdbad6c2453a0bd353": {
     "views": [
      {
       "cell_index": 28
      }
     ]
    },
    "d7b6c7a6624640288581f840f442fabe": {
     "views": [
      {
       "cell_index": 28
      }
     ]
    },
    "d7e1b613f9fc4bb59690a7093ffc5b60": {
     "views": [
      {
       "cell_index": 28
      }
     ]
    },
    "d7fe283fa3e74919bfea673ba14cab17": {
     "views": [
      {
       "cell_index": 28
      }
     ]
    },
    "d857fa401ca1432cb3adc99a3d1379dd": {
     "views": [
      {
       "cell_index": 28
      }
     ]
    },
    "d8705cef998a4478ac01f65069192f10": {
     "views": [
      {
       "cell_index": 28
      }
     ]
    },
    "d8948264bad44cb5bb47b960f5669b10": {
     "views": [
      {
       "cell_index": 28
      }
     ]
    },
    "d8a9aa609d714701be6f33141cca6c3e": {
     "views": [
      {
       "cell_index": 28
      }
     ]
    },
    "d908826db8ae445cb3f8db7104ee0310": {
     "views": [
      {
       "cell_index": 28
      }
     ]
    },
    "d90b5cc57a284d81a51c32232230fbde": {
     "views": [
      {
       "cell_index": 28
      }
     ]
    },
    "d91d97a3b80a4d34939d1f81a9f00eab": {
     "views": [
      {
       "cell_index": 28
      }
     ]
    },
    "d9221bfa48564e4fb15eab0aab0f341f": {
     "views": [
      {
       "cell_index": 28
      }
     ]
    },
    "d97ce78a1e564cfea02b2ff1500faa77": {
     "views": [
      {
       "cell_index": 28
      }
     ]
    },
    "d97ecc8b02164f2e8cee4ab43f65ea89": {
     "views": [
      {
       "cell_index": 28
      }
     ]
    },
    "d9ab2f150b224374b95f6eada441bf00": {
     "views": [
      {
       "cell_index": 28
      }
     ]
    },
    "d9b7c3ba12084b1f9b9e03776615829f": {
     "views": [
      {
       "cell_index": 28
      }
     ]
    },
    "da29aff5ad9b4c56a8df2388a7ad230d": {
     "views": [
      {
       "cell_index": 28
      }
     ]
    },
    "da2ae991712c40e98f1a9af63a8813a2": {
     "views": [
      {
       "cell_index": 28
      }
     ]
    },
    "da2d5c8c04974cff8d773b57951c2a5a": {
     "views": [
      {
       "cell_index": 28
      }
     ]
    },
    "da667ff43d6a48039d5ef3413b009acb": {
     "views": [
      {
       "cell_index": 28
      }
     ]
    },
    "da7182abe99448f2a1d55f354e4ee56a": {
     "views": [
      {
       "cell_index": 28
      }
     ]
    },
    "da8e6ba6be6e46aebda40edae7609224": {
     "views": [
      {
       "cell_index": 28
      }
     ]
    },
    "da98b8c2a60d445d8dcef1f470fcf539": {
     "views": [
      {
       "cell_index": 28
      }
     ]
    },
    "daa1ec1b2e4b4674891b550e66e5bb33": {
     "views": [
      {
       "cell_index": 28
      }
     ]
    },
    "db542eafca324e69996b498141e9fd55": {
     "views": [
      {
       "cell_index": 28
      }
     ]
    },
    "db777a4aacdc429d8fb5ef4193f9bf78": {
     "views": [
      {
       "cell_index": 28
      }
     ]
    },
    "db7e4d330a4b4b02afc47c1273f5f64f": {
     "views": [
      {
       "cell_index": 28
      }
     ]
    },
    "dbce2ea24a04434f95877b4e907671ad": {
     "views": [
      {
       "cell_index": 28
      }
     ]
    },
    "dc0f4290fb4d430fa0186acb50de051e": {
     "views": [
      {
       "cell_index": 28
      }
     ]
    },
    "dc1a26bfad0040fe8ec1f5ca9b2bca87": {
     "views": [
      {
       "cell_index": 28
      }
     ]
    },
    "dc583e9f079945c7bc5a7211790dedc4": {
     "views": [
      {
       "cell_index": 28
      }
     ]
    },
    "dc70f2050a0d41959ef2c30f1c2ae941": {
     "views": [
      {
       "cell_index": 28
      }
     ]
    },
    "dc7b16e146ca462ca140608cefeda2ab": {
     "views": [
      {
       "cell_index": 28
      }
     ]
    },
    "dcf1064ca5a340d6b275cdef0abafcf8": {
     "views": [
      {
       "cell_index": 28
      }
     ]
    },
    "dcf6775d855e42849733ab7af368f23f": {
     "views": [
      {
       "cell_index": 28
      }
     ]
    },
    "dd3d9252e9684559ba951ef9b52d2d9d": {
     "views": [
      {
       "cell_index": 28
      }
     ]
    },
    "dd69b62b3c1d46d28014f45bb711a4e8": {
     "views": [
      {
       "cell_index": 28
      }
     ]
    },
    "dd6bf06d1822452392e702a4e8a014c5": {
     "views": [
      {
       "cell_index": 28
      }
     ]
    },
    "ddd3f890637c490eb96c6f3276a221ad": {
     "views": [
      {
       "cell_index": 28
      }
     ]
    },
    "ddefcf6d539443198213f83454ca9440": {
     "views": [
      {
       "cell_index": 28
      }
     ]
    },
    "de29b2fc7874401aa650c737440e7179": {
     "views": [
      {
       "cell_index": 28
      }
     ]
    },
    "de4dd2ff6d7d4a989b84ab7e3c64069b": {
     "views": [
      {
       "cell_index": 28
      }
     ]
    },
    "de7517da207b4a8c9637859ac77b1bd5": {
     "views": [
      {
       "cell_index": 28
      }
     ]
    },
    "de781f1c6eaf49e29810bd27e23e8b8f": {
     "views": [
      {
       "cell_index": 28
      }
     ]
    },
    "de98de3644a446678617584369e3fe99": {
     "views": [
      {
       "cell_index": 28
      }
     ]
    },
    "deb47a2f67f1499ebdbcf740474e7bdb": {
     "views": [
      {
       "cell_index": 28
      }
     ]
    },
    "debc0fa6bb134ae6a8f2479abb10eef3": {
     "views": [
      {
       "cell_index": 28
      }
     ]
    },
    "def2f188d65148738d1042cef39588c5": {
     "views": [
      {
       "cell_index": 28
      }
     ]
    },
    "deff526ce2f7472b92cc2c93fae5eea6": {
     "views": [
      {
       "cell_index": 28
      }
     ]
    },
    "df081e84ed904790823d289202ba229a": {
     "views": [
      {
       "cell_index": 28
      }
     ]
    },
    "df4b65d43981450c9877177b0b5b13b4": {
     "views": [
      {
       "cell_index": 28
      }
     ]
    },
    "df815694e367424eaa6ea1a69ad8b9ef": {
     "views": [
      {
       "cell_index": 28
      }
     ]
    },
    "df831982c6f441199a1635d745180e9a": {
     "views": [
      {
       "cell_index": 28
      }
     ]
    },
    "dfeac367a86345f2902d3558fa53b134": {
     "views": [
      {
       "cell_index": 28
      }
     ]
    },
    "dff434dcd6f449e9b019c8ecf1aa493f": {
     "views": [
      {
       "cell_index": 28
      }
     ]
    },
    "e029722779704507aa4e4e610e3061c7": {
     "views": [
      {
       "cell_index": 28
      }
     ]
    },
    "e032bdc721194dc6925c7f668c9f82d2": {
     "views": [
      {
       "cell_index": 28
      }
     ]
    },
    "e0412cd7e5a746efaa6ee27b279e90d2": {
     "views": [
      {
       "cell_index": 28
      }
     ]
    },
    "e087db6106244684841671ccdb92fd18": {
     "views": [
      {
       "cell_index": 28
      }
     ]
    },
    "e0a6ce8a577448ed8209fb8d64d41225": {
     "views": [
      {
       "cell_index": 28
      }
     ]
    },
    "e0a8a184657a4a479da3a1b2673af338": {
     "views": [
      {
       "cell_index": 28
      }
     ]
    },
    "e0abf3268aa44950807d9af168c2ed2f": {
     "views": [
      {
       "cell_index": 28
      }
     ]
    },
    "e0b0d6b7aa7c45bcba0b30087d5520be": {
     "views": [
      {
       "cell_index": 28
      }
     ]
    },
    "e0fb3ff47002460c93ae5dfff05fecd6": {
     "views": [
      {
       "cell_index": 28
      }
     ]
    },
    "e117fe4b787e457d800c4c4440589ba3": {
     "views": [
      {
       "cell_index": 28
      }
     ]
    },
    "e15430b1fa834e63a800ac867221e049": {
     "views": [
      {
       "cell_index": 28
      }
     ]
    },
    "e1651abc565d448eb31ca489c80a8343": {
     "views": [
      {
       "cell_index": 28
      }
     ]
    },
    "e1ac27d287be4ece99f9725a269a4add": {
     "views": [
      {
       "cell_index": 28
      }
     ]
    },
    "e1ba5143d426458d97635ae57f2c9ddb": {
     "views": [
      {
       "cell_index": 28
      }
     ]
    },
    "e1cc1ea1ade542dfb5e470cb4ab4668d": {
     "views": [
      {
       "cell_index": 28
      }
     ]
    },
    "e2731783388e4979b849b0f6aa107f8e": {
     "views": [
      {
       "cell_index": 28
      }
     ]
    },
    "e2810e94cef64841a7abd89ad2ba04c1": {
     "views": [
      {
       "cell_index": 28
      }
     ]
    },
    "e28584c523014f09890e76e481077b96": {
     "views": [
      {
       "cell_index": 28
      }
     ]
    },
    "e2c1c9c77c29420dad22d49b8a05b034": {
     "views": [
      {
       "cell_index": 28
      }
     ]
    },
    "e2ce484f67c749388cc7a7fd5f702132": {
     "views": [
      {
       "cell_index": 28
      }
     ]
    },
    "e32787c46a3c4ca7b871084541980de6": {
     "views": [
      {
       "cell_index": 28
      }
     ]
    },
    "e32c4be5411c45b090b9d913f0844f5f": {
     "views": [
      {
       "cell_index": 28
      }
     ]
    },
    "e33df941387f42daab2f13dc6bb01302": {
     "views": [
      {
       "cell_index": 28
      }
     ]
    },
    "e39730eeafbf493db192b5e7eb889af4": {
     "views": [
      {
       "cell_index": 28
      }
     ]
    },
    "e3eb1cbe05624a4cadf7263ea0293c6e": {
     "views": [
      {
       "cell_index": 28
      }
     ]
    },
    "e429be92ad964f44927cb71c16278df7": {
     "views": [
      {
       "cell_index": 28
      }
     ]
    },
    "e42e3deef35e46aa888282db63f95413": {
     "views": [
      {
       "cell_index": 28
      }
     ]
    },
    "e44cca841988491d8ec28d9082a7abc3": {
     "views": [
      {
       "cell_index": 28
      }
     ]
    },
    "e45a8ed3855d490c9c0668cc221fa55c": {
     "views": [
      {
       "cell_index": 28
      }
     ]
    },
    "e49700a8cf814e7191baf96db4459a30": {
     "views": [
      {
       "cell_index": 28
      }
     ]
    },
    "e5094ba3998c4d4a86b2184015c751ac": {
     "views": [
      {
       "cell_index": 28
      }
     ]
    },
    "e560389605e6444db4687198b450b1e2": {
     "views": [
      {
       "cell_index": 28
      }
     ]
    },
    "e59a8cbffa204f04911dd63d2dcfd7ea": {
     "views": [
      {
       "cell_index": 28
      }
     ]
    },
    "e5afcc8ebedb4f5d90105ee0f4b20244": {
     "views": [
      {
       "cell_index": 28
      }
     ]
    },
    "e5d04a4f43534797bc5621e7c3501de2": {
     "views": [
      {
       "cell_index": 28
      }
     ]
    },
    "e5e25fd40a9942a78b17c9ab92d367f1": {
     "views": [
      {
       "cell_index": 28
      }
     ]
    },
    "e600ae87108f434184340421caa0b86a": {
     "views": [
      {
       "cell_index": 28
      }
     ]
    },
    "e6089a90d8134d8a9df2e65481dd2bb2": {
     "views": [
      {
       "cell_index": 28
      }
     ]
    },
    "e60e9c88a8c94a00afda14efe365f866": {
     "views": [
      {
       "cell_index": 28
      }
     ]
    },
    "e6192031faa1410f8ae855a78b53835e": {
     "views": [
      {
       "cell_index": 28
      }
     ]
    },
    "e6348ea823eb4913baa1416ea3fa6b99": {
     "views": [
      {
       "cell_index": 28
      }
     ]
    },
    "e650624e1812429f87f18406d96c6bec": {
     "views": [
      {
       "cell_index": 28
      }
     ]
    },
    "e65a3386197944c08326dd90f86ab561": {
     "views": [
      {
       "cell_index": 28
      }
     ]
    },
    "e65b3d31ce294841932d7ed5c9160fcf": {
     "views": [
      {
       "cell_index": 28
      }
     ]
    },
    "e663866a96bb4e25b12c9e8bf7234443": {
     "views": [
      {
       "cell_index": 28
      }
     ]
    },
    "e665532d05cb45c7a0f20cd41a557cbf": {
     "views": [
      {
       "cell_index": 28
      }
     ]
    },
    "e73cd1db05d04fb8914fc882be47aa20": {
     "views": [
      {
       "cell_index": 28
      }
     ]
    },
    "e74e676e32034f2db3b2d40b9038e724": {
     "views": [
      {
       "cell_index": 28
      }
     ]
    },
    "e752d98bfa4341ff920e5c0a669de008": {
     "views": [
      {
       "cell_index": 28
      }
     ]
    },
    "e779326708b0425b9a4e20643e599c29": {
     "views": [
      {
       "cell_index": 28
      }
     ]
    },
    "e78a61b914d244618d9263e74bbf3c91": {
     "views": [
      {
       "cell_index": 28
      }
     ]
    },
    "e7d148fb1620489586894d0208d4b7f0": {
     "views": [
      {
       "cell_index": 28
      }
     ]
    },
    "e81efa98d2e248a98184cbcefa782d06": {
     "views": [
      {
       "cell_index": 28
      }
     ]
    },
    "e821e500f029441fa639da1c854f65af": {
     "views": [
      {
       "cell_index": 28
      }
     ]
    },
    "e86c9a4832cb4a1ebfdf40898f12edbd": {
     "views": [
      {
       "cell_index": 28
      }
     ]
    },
    "e8c5d8951a1642aea39ebe92af1dc810": {
     "views": [
      {
       "cell_index": 28
      }
     ]
    },
    "e8c9cf088fa247b989261ce4bd1a9048": {
     "views": [
      {
       "cell_index": 28
      }
     ]
    },
    "e8d2af5138b34242a89cdc660abbcb04": {
     "views": [
      {
       "cell_index": 28
      }
     ]
    },
    "e8ed1ab70af6431785efa556bacfb90b": {
     "views": [
      {
       "cell_index": 28
      }
     ]
    },
    "e8f32782277a4fb49eb70ec91d799fa5": {
     "views": [
      {
       "cell_index": 28
      }
     ]
    },
    "e8f47e2e03e04e6b942b1b8ffac0674b": {
     "views": [
      {
       "cell_index": 28
      }
     ]
    },
    "e9083cfdcbd14178972cf48a38d90959": {
     "views": [
      {
       "cell_index": 28
      }
     ]
    },
    "e9172a2b13fe4038bc35ddb32fb3b885": {
     "views": [
      {
       "cell_index": 28
      }
     ]
    },
    "e95685b40e5044578d0cc6e98908d204": {
     "views": [
      {
       "cell_index": 28
      }
     ]
    },
    "e958f79323574e599230a1554e454617": {
     "views": [
      {
       "cell_index": 28
      }
     ]
    },
    "e978093ff9144d43874e1b5e754a4285": {
     "views": [
      {
       "cell_index": 28
      }
     ]
    },
    "e98e705a657647b99afe6b1b75135034": {
     "views": [
      {
       "cell_index": 28
      }
     ]
    },
    "e9ad1fbc77e947059f2b134b101721a9": {
     "views": [
      {
       "cell_index": 28
      }
     ]
    },
    "e9cceccf37f347a2a6dfbd6b01e43827": {
     "views": [
      {
       "cell_index": 28
      }
     ]
    },
    "e9f85e6a212945efbb8810bcfa004f3e": {
     "views": [
      {
       "cell_index": 28
      }
     ]
    },
    "ea0c2489b5984dec906d420ae554191f": {
     "views": [
      {
       "cell_index": 28
      }
     ]
    },
    "ea41b1a1679a42f6a44edd2f11556109": {
     "views": [
      {
       "cell_index": 28
      }
     ]
    },
    "ea61f75b974d462293f9c911d5ffa034": {
     "views": [
      {
       "cell_index": 28
      }
     ]
    },
    "ea8af481024d4f6fbe5bf83b1f1d870a": {
     "views": [
      {
       "cell_index": 28
      }
     ]
    },
    "eaa511294d914fd7a65525e0d86cf3b6": {
     "views": [
      {
       "cell_index": 28
      }
     ]
    },
    "eaa70f1aeee74957bffe18d20cf234a0": {
     "views": [
      {
       "cell_index": 28
      }
     ]
    },
    "eab2542907f14c51bf484cfe67d28991": {
     "views": [
      {
       "cell_index": 28
      }
     ]
    },
    "eab4e7a026ab4f79b0be4772eeabce9e": {
     "views": [
      {
       "cell_index": 28
      }
     ]
    },
    "eaf935ad13044726a2635f2965914769": {
     "views": [
      {
       "cell_index": 28
      }
     ]
    },
    "eb55430811044b5f95eba3f7f6eec145": {
     "views": [
      {
       "cell_index": 28
      }
     ]
    },
    "eb746d6644a741b4bb73f592d05eca8a": {
     "views": [
      {
       "cell_index": 28
      }
     ]
    },
    "eb813629a32d4657910980fc24dfdf3b": {
     "views": [
      {
       "cell_index": 28
      }
     ]
    },
    "eb9ffb94940f491384c53d09ee0b28f8": {
     "views": [
      {
       "cell_index": 28
      }
     ]
    },
    "ebabfc9ed2a740db98ad187760f97d96": {
     "views": [
      {
       "cell_index": 28
      }
     ]
    },
    "ebac2febc52d46649a9d0fa9e70bf6f0": {
     "views": [
      {
       "cell_index": 28
      }
     ]
    },
    "ebd273d9c2a441dc973a1382606e5073": {
     "views": [
      {
       "cell_index": 28
      }
     ]
    },
    "ebe5cd33f26b45cf91e9925d7b8525e0": {
     "views": [
      {
       "cell_index": 28
      }
     ]
    },
    "ebf3696f40ae46e29dd8897c4ed1b135": {
     "views": [
      {
       "cell_index": 28
      }
     ]
    },
    "ec14c34037274bea95674dea025c48a7": {
     "views": [
      {
       "cell_index": 28
      }
     ]
    },
    "ec1cc7509f094073a257a64e029cb7bf": {
     "views": [
      {
       "cell_index": 28
      }
     ]
    },
    "ec201ef55de14a9aa4d106f195b4f993": {
     "views": [
      {
       "cell_index": 28
      }
     ]
    },
    "ec47c2723b0b4147a55146dac0e40208": {
     "views": [
      {
       "cell_index": 28
      }
     ]
    },
    "ec5b410c38344b829b2c2e891f7022de": {
     "views": [
      {
       "cell_index": 28
      }
     ]
    },
    "ecb12af3a0114dc6a24162cd3103131e": {
     "views": [
      {
       "cell_index": 28
      }
     ]
    },
    "ecd1e25ec54b4d3481fa33b12e049006": {
     "views": [
      {
       "cell_index": 28
      }
     ]
    },
    "ecead7d74bd940e69dab077ccf46c0f2": {
     "views": [
      {
       "cell_index": 28
      }
     ]
    },
    "ed0622d2c74a40ae8ecf3de21c1235a4": {
     "views": [
      {
       "cell_index": 28
      }
     ]
    },
    "ed0c8a943a934615bb2bf2b68a9f240f": {
     "views": [
      {
       "cell_index": 28
      }
     ]
    },
    "ed48edd8fdca4295814b93d4b05f991d": {
     "views": [
      {
       "cell_index": 28
      }
     ]
    },
    "ed83a1ca6eac407ca32d535898f510e4": {
     "views": [
      {
       "cell_index": 28
      }
     ]
    },
    "ed9017a73d1d47d2980506ebd67b8908": {
     "views": [
      {
       "cell_index": 28
      }
     ]
    },
    "ed923a8cb57241ebbc0d5a742b07f668": {
     "views": [
      {
       "cell_index": 28
      }
     ]
    },
    "edb4b220ee6644aa89540c4fa2bc35ae": {
     "views": [
      {
       "cell_index": 28
      }
     ]
    },
    "edb9a9a611e64fc0bb0678d319b5340d": {
     "views": [
      {
       "cell_index": 28
      }
     ]
    },
    "ede0593a5b2744009828252f5c70255a": {
     "views": [
      {
       "cell_index": 28
      }
     ]
    },
    "ee1946d732fd4fda855f5dc05dd060d6": {
     "views": [
      {
       "cell_index": 28
      }
     ]
    },
    "ee46cfd2ea964a19a62928b07de0c2c3": {
     "views": [
      {
       "cell_index": 28
      }
     ]
    },
    "ee51bb5eb3834513a7d84ea37cf6d681": {
     "views": [
      {
       "cell_index": 28
      }
     ]
    },
    "ee7cb29bec0c4bb88cad8c1f5612ab7e": {
     "views": [
      {
       "cell_index": 28
      }
     ]
    },
    "ee8542be6bb44101a39032a1c45ec8a8": {
     "views": [
      {
       "cell_index": 28
      }
     ]
    },
    "ee85a9e23ef343f9968e43af2eaee28b": {
     "views": [
      {
       "cell_index": 28
      }
     ]
    },
    "ee860ba248394d99a10b22f6120130f1": {
     "views": [
      {
       "cell_index": 28
      }
     ]
    },
    "eec54cb7e9b9492e886bb9232360da29": {
     "views": [
      {
       "cell_index": 28
      }
     ]
    },
    "eedf453c09ce4c458017dda91fdb14b6": {
     "views": [
      {
       "cell_index": 28
      }
     ]
    },
    "eefc23bf1d1e468da677e0a8f945be6c": {
     "views": [
      {
       "cell_index": 28
      }
     ]
    },
    "ef24775031464938a51c95bff738ab35": {
     "views": [
      {
       "cell_index": 28
      }
     ]
    },
    "ef3ede515fc34238b2a5412254b813d3": {
     "views": [
      {
       "cell_index": 28
      }
     ]
    },
    "ef43718b17a940988d41b2491bf27cfd": {
     "views": [
      {
       "cell_index": 28
      }
     ]
    },
    "ef505958095842bd8c8c2c1d1ac3d4f7": {
     "views": [
      {
       "cell_index": 28
      }
     ]
    },
    "ef64eebe241c4caaab323770c556239d": {
     "views": [
      {
       "cell_index": 28
      }
     ]
    },
    "ef90b687d5014ef3b171c6b4893c84da": {
     "views": [
      {
       "cell_index": 28
      }
     ]
    },
    "ef92cbf76a3e4e01a8920f0c8a1748a1": {
     "views": [
      {
       "cell_index": 28
      }
     ]
    },
    "efc8af7eb535458aa0a16a0a77945619": {
     "views": [
      {
       "cell_index": 28
      }
     ]
    },
    "effdec747f5145bfa6c0fb7bd02e833d": {
     "views": [
      {
       "cell_index": 28
      }
     ]
    },
    "f03bb9692efd44cbbd281f43881c53eb": {
     "views": [
      {
       "cell_index": 28
      }
     ]
    },
    "f06fc37e2f0f40279dd9bfb5c9bf010e": {
     "views": [
      {
       "cell_index": 28
      }
     ]
    },
    "f089c5ce36c14c9dae4637d8eabb94a4": {
     "views": [
      {
       "cell_index": 28
      }
     ]
    },
    "f0a7507039b9496f88cc6d58991b76f5": {
     "views": [
      {
       "cell_index": 28
      }
     ]
    },
    "f0aa977cb8044baca5e594eac8b0e7ce": {
     "views": [
      {
       "cell_index": 28
      }
     ]
    },
    "f0bd6c90f3b74cd5a7ae34f1d07c9908": {
     "views": [
      {
       "cell_index": 28
      }
     ]
    },
    "f0cfff7770c045da9c9b3d5cd6ada837": {
     "views": [
      {
       "cell_index": 28
      }
     ]
    },
    "f0df163d43944812b3790d1a7fd2c8d3": {
     "views": [
      {
       "cell_index": 28
      }
     ]
    },
    "f10598415caf44958937c3901ab9faec": {
     "views": [
      {
       "cell_index": 28
      }
     ]
    },
    "f12d5702e7d8436c976c98bd1e2f83ab": {
     "views": [
      {
       "cell_index": 28
      }
     ]
    },
    "f14a20372b754d2a992358b9d2f7e878": {
     "views": [
      {
       "cell_index": 28
      }
     ]
    },
    "f166d7a339e443d995bd4f8c8164b885": {
     "views": [
      {
       "cell_index": 28
      }
     ]
    },
    "f17c433ab1a3445bb8bed838f61d3a4f": {
     "views": [
      {
       "cell_index": 28
      }
     ]
    },
    "f1a17434ee4f4f2da6b8e8f36171a82c": {
     "views": [
      {
       "cell_index": 28
      }
     ]
    },
    "f1bf9f9f99d64232b3bfd1a6d6b54e75": {
     "views": [
      {
       "cell_index": 28
      }
     ]
    },
    "f24e8fcf3e44453e90a8042dfbf80711": {
     "views": [
      {
       "cell_index": 28
      }
     ]
    },
    "f264993666744f1198bcf1145df80bc5": {
     "views": [
      {
       "cell_index": 28
      }
     ]
    },
    "f27c7dd9f76540a9b9c5528c14ac86af": {
     "views": [
      {
       "cell_index": 28
      }
     ]
    },
    "f291ae1df2f1413e8b6506fc6c49a7c4": {
     "views": [
      {
       "cell_index": 28
      }
     ]
    },
    "f2bc44c42fae495099d5dfd442a410f4": {
     "views": [
      {
       "cell_index": 28
      }
     ]
    },
    "f2ee577d76ee44c6931e3f2f8308c1e0": {
     "views": [
      {
       "cell_index": 28
      }
     ]
    },
    "f2ef36a5db0e4ab497101e978a96af31": {
     "views": [
      {
       "cell_index": 28
      }
     ]
    },
    "f335ae8ec21d4bca9670864e4f898484": {
     "views": [
      {
       "cell_index": 28
      }
     ]
    },
    "f33fb60bd1004808a9927392782a4841": {
     "views": [
      {
       "cell_index": 28
      }
     ]
    },
    "f344402cd6a74697973c60ec0ad4036f": {
     "views": [
      {
       "cell_index": 28
      }
     ]
    },
    "f34fb2120f5a4e3582f202c85a5dffdf": {
     "views": [
      {
       "cell_index": 28
      }
     ]
    },
    "f3819af43f854510abc2319cdb72208f": {
     "views": [
      {
       "cell_index": 28
      }
     ]
    },
    "f3f5631bd89a4af09da78d0e9dee9010": {
     "views": [
      {
       "cell_index": 28
      }
     ]
    },
    "f406187f08274bb2b83d9d709d786877": {
     "views": [
      {
       "cell_index": 28
      }
     ]
    },
    "f421597da79048c5a9c4c7f417deb994": {
     "views": [
      {
       "cell_index": 28
      }
     ]
    },
    "f42b21189b06484eb8c095c55787820f": {
     "views": [
      {
       "cell_index": 28
      }
     ]
    },
    "f4355a7ef02a46d0ac4626f011657c5e": {
     "views": [
      {
       "cell_index": 28
      }
     ]
    },
    "f453c330daf24fe4abe21930dedbc581": {
     "views": [
      {
       "cell_index": 28
      }
     ]
    },
    "f455f4d973454183935d4830065b5c86": {
     "views": [
      {
       "cell_index": 28
      }
     ]
    },
    "f4568cbd02db40728ed6fbed7ddb1d08": {
     "views": [
      {
       "cell_index": 28
      }
     ]
    },
    "f4749d399e35439ca1e3c63a62930b86": {
     "views": [
      {
       "cell_index": 28
      }
     ]
    },
    "f477d466a3884e4c9ae43ffb25a17d64": {
     "views": [
      {
       "cell_index": 28
      }
     ]
    },
    "f4a2dba518db4da98b4ba65f6d1c62d1": {
     "views": [
      {
       "cell_index": 28
      }
     ]
    },
    "f4a9c6ae4dea452c8b47b2f9392eef33": {
     "views": [
      {
       "cell_index": 28
      }
     ]
    },
    "f4cdc693effa4bb8a260c024ec026574": {
     "views": [
      {
       "cell_index": 28
      }
     ]
    },
    "f527485b5ec14916996eed281fb55140": {
     "views": [
      {
       "cell_index": 28
      }
     ]
    },
    "f55bc1e73c4b4f09a3efbf9f91d3065e": {
     "views": [
      {
       "cell_index": 28
      }
     ]
    },
    "f57d5eea766d4c7f8c028789782bfbda": {
     "views": [
      {
       "cell_index": 28
      }
     ]
    },
    "f5f6da7d7aeb464eb6472c36e9830bf8": {
     "views": [
      {
       "cell_index": 28
      }
     ]
    },
    "f602a7f300c54faca7505fa70bc3ef14": {
     "views": [
      {
       "cell_index": 28
      }
     ]
    },
    "f664cacfb93a49d0a52284c3496c01bc": {
     "views": [
      {
       "cell_index": 28
      }
     ]
    },
    "f69a866d92ed44d98bade2393f3c8f4e": {
     "views": [
      {
       "cell_index": 28
      }
     ]
    },
    "f69df6dd03984df1b8a3937331df494d": {
     "views": [
      {
       "cell_index": 28
      }
     ]
    },
    "f6d98633273c4c2c95b983c84650920a": {
     "views": [
      {
       "cell_index": 28
      }
     ]
    },
    "f6edb393ea4d4871ae1f68de87e6766f": {
     "views": [
      {
       "cell_index": 28
      }
     ]
    },
    "f7176ec311e34306a9573d18a0396017": {
     "views": [
      {
       "cell_index": 28
      }
     ]
    },
    "f7367036f04144329e48ae83ca8d2c85": {
     "views": [
      {
       "cell_index": 28
      }
     ]
    },
    "f73f4117ad5a46128fd069760cd44b27": {
     "views": [
      {
       "cell_index": 28
      }
     ]
    },
    "f74332e88f4d4dfd9675baedb9933b33": {
     "views": [
      {
       "cell_index": 28
      }
     ]
    },
    "f777f4d40727478e98079c714fc8189b": {
     "views": [
      {
       "cell_index": 28
      }
     ]
    },
    "f77e9b70915046588bd946049ccc7d48": {
     "views": [
      {
       "cell_index": 28
      }
     ]
    },
    "f7d1704a530b4ce6ad4dd672a1e95a18": {
     "views": [
      {
       "cell_index": 28
      }
     ]
    },
    "f7e6d151c9eb4070bc68d1578d9b19f2": {
     "views": [
      {
       "cell_index": 28
      }
     ]
    },
    "f7eb5c9b4f214f30b6ecc3732d962715": {
     "views": [
      {
       "cell_index": 28
      }
     ]
    },
    "f86f0aaa86344ad780b86bfbd9a4153b": {
     "views": [
      {
       "cell_index": 28
      }
     ]
    },
    "f87fbe5249e14393b76bfef88f4794e1": {
     "views": [
      {
       "cell_index": 28
      }
     ]
    },
    "f8a118c3dfb84013b63ebd11a25c3b57": {
     "views": [
      {
       "cell_index": 28
      }
     ]
    },
    "f8ac0f414d904f9a94d01b1534490a27": {
     "views": [
      {
       "cell_index": 28
      }
     ]
    },
    "f8b1c98713264325a958179087407e33": {
     "views": [
      {
       "cell_index": 28
      }
     ]
    },
    "f8c829de656e4215b77c8d86eef45d43": {
     "views": [
      {
       "cell_index": 28
      }
     ]
    },
    "f8d27fe9d0a5461aac8ea747f1ddec4a": {
     "views": [
      {
       "cell_index": 28
      }
     ]
    },
    "f8ec8987b04d46de9aba88c9105f94fd": {
     "views": [
      {
       "cell_index": 28
      }
     ]
    },
    "f9027b57f14340609313a0e0dd45eaae": {
     "views": [
      {
       "cell_index": 28
      }
     ]
    },
    "f90758f362314ba2a7cda57de861441d": {
     "views": [
      {
       "cell_index": 28
      }
     ]
    },
    "f91edff3959e4f00bd34bb32c0e825ab": {
     "views": [
      {
       "cell_index": 28
      }
     ]
    },
    "f921e44bfdaa408cb0c70acf56be58e1": {
     "views": [
      {
       "cell_index": 28
      }
     ]
    },
    "f9254ba3ee9d4af79a375997a81b5d45": {
     "views": [
      {
       "cell_index": 28
      }
     ]
    },
    "f92a91e7050e414d9186d30e6be26236": {
     "views": [
      {
       "cell_index": 28
      }
     ]
    },
    "f98b5dcfb7af4e5492b31c6305e94fee": {
     "views": [
      {
       "cell_index": 28
      }
     ]
    },
    "f9931d074ad34ff2a8cc357bcebd1c6e": {
     "views": [
      {
       "cell_index": 28
      }
     ]
    },
    "f99762eb90d044ed996e236708554820": {
     "views": [
      {
       "cell_index": 28
      }
     ]
    },
    "f9bf41fcd19347c68af12c55d5b8f193": {
     "views": [
      {
       "cell_index": 28
      }
     ]
    },
    "f9d9c7bfc54f454db27408607ad603e3": {
     "views": [
      {
       "cell_index": 28
      }
     ]
    },
    "f9e8a389fef44bbe9a8eb79643b2c88f": {
     "views": [
      {
       "cell_index": 28
      }
     ]
    },
    "fa0af4bc832d4106bf1c75173340a37f": {
     "views": [
      {
       "cell_index": 28
      }
     ]
    },
    "fa3f815d37dc465290bd013f0c2a7ce7": {
     "views": [
      {
       "cell_index": 28
      }
     ]
    },
    "fa5c0ed934d74053a0e695b908a8ddb1": {
     "views": [
      {
       "cell_index": 28
      }
     ]
    },
    "fa7adadd794f499ab27bbefcbf2d76bd": {
     "views": [
      {
       "cell_index": 28
      }
     ]
    },
    "fa7bc1aff14f4c57856769911fe2f4e1": {
     "views": [
      {
       "cell_index": 28
      }
     ]
    },
    "fa84240cd5424ee0a9b108df25f5b82e": {
     "views": [
      {
       "cell_index": 28
      }
     ]
    },
    "fa95b0c3c2f64470b616823880c4de33": {
     "views": [
      {
       "cell_index": 28
      }
     ]
    },
    "fa96c9cf0a57481d86e5550c54e6f8c4": {
     "views": [
      {
       "cell_index": 28
      }
     ]
    },
    "fa96ce7945fb407aab232c2535607c78": {
     "views": [
      {
       "cell_index": 28
      }
     ]
    },
    "fa9f267200134f97826e3b0cf8c2d178": {
     "views": [
      {
       "cell_index": 28
      }
     ]
    },
    "faab41b8880f431b992438b256920163": {
     "views": [
      {
       "cell_index": 28
      }
     ]
    },
    "fb1ca4f5e0eb4cbc9e0d3fd6cddf8842": {
     "views": [
      {
       "cell_index": 28
      }
     ]
    },
    "fb1e31c4a126471799a993f54e0b7410": {
     "views": [
      {
       "cell_index": 28
      }
     ]
    },
    "fb243f9fd1eb40e2948193126f594581": {
     "views": [
      {
       "cell_index": 28
      }
     ]
    },
    "fb483d474b4442dcaa29036e17a573e6": {
     "views": [
      {
       "cell_index": 28
      }
     ]
    },
    "fbd5cb51740745a681b89bbcdaaaaee6": {
     "views": [
      {
       "cell_index": 28
      }
     ]
    },
    "fc5f3a588e674d0fb99e9e64814c989b": {
     "views": [
      {
       "cell_index": 28
      }
     ]
    },
    "fc91d43640684eff88de5a7d79519180": {
     "views": [
      {
       "cell_index": 28
      }
     ]
    },
    "fc9ccc82b0a1403d81846839dade2864": {
     "views": [
      {
       "cell_index": 28
      }
     ]
    },
    "fcd989d30b0949e3a9e5853d5058137e": {
     "views": [
      {
       "cell_index": 28
      }
     ]
    },
    "fce785f764ad40ad9dd4b8321e77b7fb": {
     "views": [
      {
       "cell_index": 28
      }
     ]
    },
    "fd0b265c6e6f41049b8053b0359b7568": {
     "views": [
      {
       "cell_index": 28
      }
     ]
    },
    "fd12795956fb4eaea841827831e18556": {
     "views": [
      {
       "cell_index": 28
      }
     ]
    },
    "fd15adcb4ff54cad80bb448e7ee370e9": {
     "views": [
      {
       "cell_index": 28
      }
     ]
    },
    "fd1cb3d2bf7942fea081c453175932d3": {
     "views": [
      {
       "cell_index": 28
      }
     ]
    },
    "fd510f47153748b7b9bb41016e9edc20": {
     "views": [
      {
       "cell_index": 28
      }
     ]
    },
    "fd5ce4e481344a469d3062da19c47629": {
     "views": [
      {
       "cell_index": 28
      }
     ]
    },
    "fd667a8e14ce4f909f13eae6e6270e23": {
     "views": [
      {
       "cell_index": 28
      }
     ]
    },
    "fdc852a07c5e40c3adb733f433d74dbe": {
     "views": [
      {
       "cell_index": 28
      }
     ]
    },
    "fe15880ca9134ff3bf4770385df81027": {
     "views": [
      {
       "cell_index": 28
      }
     ]
    },
    "fe73f54be0864b6694954f81f464ba3d": {
     "views": [
      {
       "cell_index": 28
      }
     ]
    },
    "fe79da91891147e19c80f9576a4d783d": {
     "views": [
      {
       "cell_index": 28
      }
     ]
    },
    "fe7d84a0af0d45abbeab84a564833351": {
     "views": [
      {
       "cell_index": 28
      }
     ]
    },
    "fea59ff6e3fc4114b4374b93303dcdd2": {
     "views": [
      {
       "cell_index": 28
      }
     ]
    },
    "feceec9c0036421b8a0802220b585ed2": {
     "views": [
      {
       "cell_index": 28
      }
     ]
    },
    "fed2410da42d4ef4b02ed9783227b558": {
     "views": [
      {
       "cell_index": 28
      }
     ]
    },
    "ff0ac458b9c74ef29da0c3343ef5b6a2": {
     "views": [
      {
       "cell_index": 28
      }
     ]
    },
    "ff1b43e5bd9d4a73a5785c9fb0552ff0": {
     "views": [
      {
       "cell_index": 28
      }
     ]
    },
    "ff32a03014ea4095bac210bf986b8a61": {
     "views": [
      {
       "cell_index": 28
      }
     ]
    },
    "ff71d628a7da40b0bd670abfac2b004d": {
     "views": [
      {
       "cell_index": 28
      }
     ]
    },
    "ff84d0b47e904b4ea8488f56b5a5ef94": {
     "views": [
      {
       "cell_index": 28
      }
     ]
    },
    "ff995b60503d4d93bf48d7cc1d449b60": {
     "views": [
      {
       "cell_index": 28
      }
     ]
    },
    "ffa8157ed0cb4c5e8717d17d827d53c3": {
     "views": [
      {
       "cell_index": 28
      }
     ]
    },
    "ffcd2c4a099648539b1fcc3f79d88d50": {
     "views": [
      {
       "cell_index": 28
      }
     ]
    },
    "ffee9fc2c62044e1bea8d39354c59427": {
     "views": [
      {
       "cell_index": 28
      }
     ]
    },
    "fff4e14e3e8442229e6b06df29a3613b": {
     "views": [
      {
       "cell_index": 28
      }
     ]
    }
   },
   "version": "1.2.0"
  }
 },
 "nbformat": 4,
 "nbformat_minor": 2
}
