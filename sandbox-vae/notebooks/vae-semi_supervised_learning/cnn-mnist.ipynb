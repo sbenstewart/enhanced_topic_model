{
 "cells": [
  {
   "cell_type": "code",
   "execution_count": 1,
   "metadata": {
    "collapsed": false
   },
   "outputs": [
    {
     "name": "stderr",
     "output_type": "stream",
     "text": [
      "Using TensorFlow backend.\n"
     ]
    }
   ],
   "source": [
    "%matplotlib inline\n",
    "import numpy as np\n",
    "import time\n",
    "import h5py\n",
    "import keras\n",
    "import pandas as pd\n",
    "import math\n",
    "import joblib\n",
    "import matplotlib.pyplot as plt\n",
    "\n",
    "from fuel.datasets.hdf5 import H5PYDataset\n",
    "\n",
    "from sklearn.metrics import accuracy_score\n",
    "from sklearn.model_selection import StratifiedShuffleSplit\n",
    "\n",
    "from IPython.display import display\n",
    "\n",
    "from keras.layers import Input, Dense, Lambda, Flatten, Reshape, BatchNormalization, Activation, Dropout\n",
    "from keras.layers import Conv2D, Conv2DTranspose, MaxPooling2D\n",
    "\n",
    "from keras.callbacks import EarlyStopping\n",
    "from keras.optimizers import RMSprop, Adam, SGD\n",
    "from keras.models import Model, Sequential\n",
    "from keras.utils import np_utils\n",
    "from keras import backend as K\n",
    "from keras_tqdm import TQDMNotebookCallback\n",
    "from keras.datasets import mnist"
   ]
  },
  {
   "cell_type": "code",
   "execution_count": 2,
   "metadata": {
    "collapsed": true
   },
   "outputs": [],
   "source": [
    "# input image dimensions\n",
    "img_rows, img_cols = 28, 28\n",
    "\n",
    "num_classes = 10\n",
    "batch_size = 100\n",
    "original_img_size = (img_rows, img_cols, 1)\n",
    "epochs = 500"
   ]
  },
  {
   "cell_type": "code",
   "execution_count": 3,
   "metadata": {
    "collapsed": false
   },
   "outputs": [
    {
     "name": "stdout",
     "output_type": "stream",
     "text": [
      "(60000, 28, 28, 1) (60000,)\n",
      "(10000, 28, 28, 1) (10000,)\n"
     ]
    }
   ],
   "source": [
    "(X_train, y_train), (X_test, y_test) = mnist.load_data()\n",
    "X_train = X_train.reshape(X_train.shape[0], img_rows, img_cols, 1) / 255.\n",
    "X_test = X_test.reshape(X_test.shape[0], img_rows, img_cols, 1) / 255.\n",
    "\n",
    "print(X_train.shape, y_train.shape)\n",
    "print(X_test.shape, y_test.shape)"
   ]
  },
  {
   "cell_type": "code",
   "execution_count": 4,
   "metadata": {
    "collapsed": false
   },
   "outputs": [
    {
     "name": "stdout",
     "output_type": "stream",
     "text": [
      "_________________________________________________________________\n",
      "Layer (type)                 Output Shape              Param #   \n",
      "=================================================================\n",
      "conv2d_1 (Conv2D)            (None, 28, 28, 32)        320       \n",
      "_________________________________________________________________\n",
      "activation_1 (Activation)    (None, 28, 28, 32)        0         \n",
      "_________________________________________________________________\n",
      "conv2d_2 (Conv2D)            (None, 26, 26, 32)        9248      \n",
      "_________________________________________________________________\n",
      "activation_2 (Activation)    (None, 26, 26, 32)        0         \n",
      "_________________________________________________________________\n",
      "max_pooling2d_1 (MaxPooling2 (None, 13, 13, 32)        0         \n",
      "_________________________________________________________________\n",
      "dropout_1 (Dropout)          (None, 13, 13, 32)        0         \n",
      "_________________________________________________________________\n",
      "conv2d_3 (Conv2D)            (None, 13, 13, 64)        18496     \n",
      "_________________________________________________________________\n",
      "activation_3 (Activation)    (None, 13, 13, 64)        0         \n",
      "_________________________________________________________________\n",
      "conv2d_4 (Conv2D)            (None, 11, 11, 64)        36928     \n",
      "_________________________________________________________________\n",
      "activation_4 (Activation)    (None, 11, 11, 64)        0         \n",
      "_________________________________________________________________\n",
      "max_pooling2d_2 (MaxPooling2 (None, 5, 5, 64)          0         \n",
      "_________________________________________________________________\n",
      "dropout_2 (Dropout)          (None, 5, 5, 64)          0         \n",
      "_________________________________________________________________\n",
      "flatten_1 (Flatten)          (None, 1600)              0         \n",
      "_________________________________________________________________\n",
      "dense_1 (Dense)              (None, 512)               819712    \n",
      "_________________________________________________________________\n",
      "activation_5 (Activation)    (None, 512)               0         \n",
      "_________________________________________________________________\n",
      "dropout_3 (Dropout)          (None, 512)               0         \n",
      "_________________________________________________________________\n",
      "dense_2 (Dense)              (None, 10)                5130      \n",
      "_________________________________________________________________\n",
      "activation_6 (Activation)    (None, 10)                0         \n",
      "=================================================================\n",
      "Total params: 889,834\n",
      "Trainable params: 889,834\n",
      "Non-trainable params: 0\n",
      "_________________________________________________________________\n"
     ]
    }
   ],
   "source": [
    "def create_model():\n",
    "    model = Sequential()\n",
    "    \n",
    "    model.add(Conv2D(32, (3, 3), padding='same',\n",
    "                     input_shape=original_img_size))\n",
    "    model.add(Activation('relu'))\n",
    "    model.add(Conv2D(32, (3, 3)))\n",
    "    model.add(Activation('relu'))\n",
    "    model.add(MaxPooling2D(pool_size=(2, 2)))\n",
    "    model.add(Dropout(0.25))\n",
    "    \n",
    "    model.add(Conv2D(64, (3, 3), padding='same'))\n",
    "    model.add(Activation('relu'))\n",
    "    model.add(Conv2D(64, (3, 3)))\n",
    "    model.add(Activation('relu'))\n",
    "    model.add(MaxPooling2D(pool_size=(2, 2)))\n",
    "    model.add(Dropout(0.25))\n",
    "    \n",
    "    model.add(Flatten())\n",
    "    model.add(Dense(512))\n",
    "    model.add(Activation('relu'))\n",
    "    model.add(Dropout(0.5))\n",
    "    model.add(Dense(num_classes))\n",
    "    model.add(Activation('softmax'))\n",
    "    \n",
    "    opt = RMSprop(lr=0.0001, decay=1e-6)\n",
    "    model.compile(loss='categorical_crossentropy', optimizer=opt, metrics=['accuracy'])\n",
    "    \n",
    "    return model\n",
    "\n",
    "create_model().summary()"
   ]
  },
  {
   "cell_type": "code",
   "execution_count": 5,
   "metadata": {
    "collapsed": false,
    "scrolled": true
   },
   "outputs": [
    {
     "name": "stdout",
     "output_type": "stream",
     "text": [
      "Fitting with sample_size: 100\n",
      " * Accuracy: 26.2 %\n",
      " * Fit time elapsed: 2.0s\n",
      "Fitting with sample_size: 500\n",
      " * Accuracy: 92.1 %\n",
      " * Fit time elapsed: 4.8s\n",
      "Fitting with sample_size: 1000\n",
      " * Accuracy: 93.4 %\n",
      " * Fit time elapsed: 5.7s\n",
      "Fitting with sample_size: 2000\n",
      " * Accuracy: 95.5 %\n",
      " * Fit time elapsed: 8.9s\n",
      "Fitting with sample_size: 5000\n",
      " * Accuracy: 97.8 %\n",
      " * Fit time elapsed: 18.0s\n"
     ]
    }
   ],
   "source": [
    "results = []\n",
    "for sample_size in [100, 500, 1000, 2000, 5000]:\n",
    "    start = time.time()\n",
    "    print('Fitting with sample_size: {}'.format(sample_size))\n",
    "   \n",
    "    if sample_size < len(X_train):\n",
    "        sss = StratifiedShuffleSplit(n_splits=2, test_size=sample_size / len(X_train), random_state=0)\n",
    "        _, index = sss.split(X_train, y_train)\n",
    "        X, y = X_train[index[1]], y_train[index[1]]\n",
    "    else:\n",
    "        X, y = X_train, y_train\n",
    "   \n",
    "    y = np_utils.to_categorical(y)\n",
    "    model = create_model()\n",
    "    model.fit(X, y, shuffle=True, \n",
    "              epochs=epochs,\n",
    "              batch_size=batch_size,\n",
    "              verbose=0,\n",
    "              callbacks=[EarlyStopping(monitor='loss', min_delta=0.1, patience=10)])\n",
    "    \n",
    "    y_pred = np.argmax(model.predict(X_test), axis=-1)\n",
    "    score = accuracy_score(y_test, y_pred)\n",
    "    \n",
    "    end = time.time()\n",
    "    elapsed = end - start\n",
    "    print(' * Accuracy: %.1f %%' % (100. * score))\n",
    "    print(' * Fit time elapsed: %.1fs' % elapsed)\n",
    "    results.append({'sample_size': sample_size, 'accuracy': score, 'time': elapsed})"
   ]
  },
  {
   "cell_type": "code",
   "execution_count": 6,
   "metadata": {
    "collapsed": false
   },
   "outputs": [
    {
     "data": {
      "text/html": [
       "<div>\n",
       "<table border=\"1\" class=\"dataframe\">\n",
       "  <thead>\n",
       "    <tr style=\"text-align: right;\">\n",
       "      <th></th>\n",
       "      <th>accuracy</th>\n",
       "      <th>sample_size</th>\n",
       "      <th>time</th>\n",
       "    </tr>\n",
       "  </thead>\n",
       "  <tbody>\n",
       "    <tr>\n",
       "      <th>0</th>\n",
       "      <td>0.2623</td>\n",
       "      <td>100</td>\n",
       "      <td>2.039911</td>\n",
       "    </tr>\n",
       "    <tr>\n",
       "      <th>1</th>\n",
       "      <td>0.9213</td>\n",
       "      <td>500</td>\n",
       "      <td>4.823549</td>\n",
       "    </tr>\n",
       "    <tr>\n",
       "      <th>2</th>\n",
       "      <td>0.9338</td>\n",
       "      <td>1000</td>\n",
       "      <td>5.706222</td>\n",
       "    </tr>\n",
       "    <tr>\n",
       "      <th>3</th>\n",
       "      <td>0.9547</td>\n",
       "      <td>2000</td>\n",
       "      <td>8.887535</td>\n",
       "    </tr>\n",
       "    <tr>\n",
       "      <th>4</th>\n",
       "      <td>0.9780</td>\n",
       "      <td>5000</td>\n",
       "      <td>18.029773</td>\n",
       "    </tr>\n",
       "  </tbody>\n",
       "</table>\n",
       "</div>"
      ],
      "text/plain": [
       "   accuracy  sample_size       time\n",
       "0    0.2623          100   2.039911\n",
       "1    0.9213          500   4.823549\n",
       "2    0.9338         1000   5.706222\n",
       "3    0.9547         2000   8.887535\n",
       "4    0.9780         5000  18.029773"
      ]
     },
     "metadata": {},
     "output_type": "display_data"
    }
   ],
   "source": [
    "df = pd.DataFrame(results)\n",
    "display(df)\n",
    "df.to_csv('cnn_mnist_results.csv', index=False)"
   ]
  },
  {
   "cell_type": "code",
   "execution_count": null,
   "metadata": {
    "collapsed": true
   },
   "outputs": [],
   "source": []
  }
 ],
 "metadata": {
  "kernelspec": {
   "display_name": "Python 3",
   "language": "python",
   "name": "python3"
  },
  "language_info": {
   "codemirror_mode": {
    "name": "ipython",
    "version": 3
   },
   "file_extension": ".py",
   "mimetype": "text/x-python",
   "name": "python",
   "nbconvert_exporter": "python",
   "pygments_lexer": "ipython3",
   "version": "3.6.0"
  },
  "widgets": {
   "state": {
    "07843294bbe641d59376ea3472f2fe37": {
     "views": [
      {
       "cell_index": 4
      }
     ]
    },
    "08085e7ba5e5426490277a41f6aa3772": {
     "views": [
      {
       "cell_index": 4
      }
     ]
    },
    "099b18c6078c4c05a21e75c1e7add562": {
     "views": [
      {
       "cell_index": 4
      }
     ]
    },
    "0ed62e8d957a43a4a64056e6638388c0": {
     "views": [
      {
       "cell_index": 4
      }
     ]
    },
    "175db0d915db4f47901f999128ab1b30": {
     "views": [
      {
       "cell_index": 4
      }
     ]
    },
    "225f94af5ca94ea2be61d65e1ca19859": {
     "views": [
      {
       "cell_index": 4
      }
     ]
    },
    "253151fa85b1467494db60768f82f2f0": {
     "views": [
      {
       "cell_index": 4
      }
     ]
    },
    "277a1fdd692740a5b8f7897a10074134": {
     "views": [
      {
       "cell_index": 4
      }
     ]
    },
    "2ca73468ca8d48298cf1252dbeb36a73": {
     "views": [
      {
       "cell_index": 4
      }
     ]
    },
    "350a45494e3f44a8937159627b2a129f": {
     "views": [
      {
       "cell_index": 4
      }
     ]
    },
    "3691a1594bfb4b84b386677c1100bc80": {
     "views": [
      {
       "cell_index": 4
      }
     ]
    },
    "3bf349dd46464741af30eb6e3250d233": {
     "views": [
      {
       "cell_index": 4
      }
     ]
    },
    "43162b87306a4f35bb22ead8b75e1d98": {
     "views": [
      {
       "cell_index": 4
      }
     ]
    },
    "44cc8d6d71094924950ec97d0ad41da5": {
     "views": [
      {
       "cell_index": 4
      }
     ]
    },
    "56ca93e80d5a4a8ea7648b07235cb6dc": {
     "views": [
      {
       "cell_index": 4
      }
     ]
    },
    "581a08a9767d4221a178c5c694a0ac1c": {
     "views": [
      {
       "cell_index": 4
      }
     ]
    },
    "5ade3a99572e415ebac40dcfb6770dd2": {
     "views": [
      {
       "cell_index": 4
      }
     ]
    },
    "6447e7c4558240e890a78e0a1b114c23": {
     "views": [
      {
       "cell_index": 4
      }
     ]
    },
    "6d0bdf53d1a14e95a22d378c9943b62f": {
     "views": [
      {
       "cell_index": 4
      }
     ]
    },
    "70dd16f6fce24f6593e54cd0fe372518": {
     "views": [
      {
       "cell_index": 4
      }
     ]
    },
    "78b9937e87324a74b2881b18b2d5b918": {
     "views": [
      {
       "cell_index": 4
      }
     ]
    },
    "83d5fd33fb3a4ed1b24079a95853b95f": {
     "views": [
      {
       "cell_index": 4
      }
     ]
    },
    "97932368bde040a5bc0997d13aebd7f8": {
     "views": [
      {
       "cell_index": 4
      }
     ]
    },
    "9a9396ea129442b7bd8b32f5cb7cec9e": {
     "views": [
      {
       "cell_index": 4
      }
     ]
    },
    "a9322f4ab17546c086a413c4976332c8": {
     "views": [
      {
       "cell_index": 4
      }
     ]
    },
    "a9fb6d66d20d4d96ae87639420e2e23c": {
     "views": [
      {
       "cell_index": 4
      }
     ]
    },
    "ada3a9c61d6e4e6cba83f8135dcd4e06": {
     "views": [
      {
       "cell_index": 4
      }
     ]
    },
    "b081446b3e27493b896442b760944ee4": {
     "views": [
      {
       "cell_index": 4
      }
     ]
    },
    "b318a6469fd14a2abb7dcfd348d46802": {
     "views": [
      {
       "cell_index": 4
      }
     ]
    },
    "ba7b41b4bf9f4f9184e0c3eb5ea17c8d": {
     "views": [
      {
       "cell_index": 4
      }
     ]
    },
    "bf1717cf65db47f289ed3ecbfe15045a": {
     "views": [
      {
       "cell_index": 4
      }
     ]
    },
    "cca258b79be9494faaea9805a4990c67": {
     "views": [
      {
       "cell_index": 4
      }
     ]
    },
    "ced4c0aff7c64bbc9042e96c6923207c": {
     "views": [
      {
       "cell_index": 4
      }
     ]
    },
    "d12ad4839dc94a56a806c28cc0e26b77": {
     "views": [
      {
       "cell_index": 4
      }
     ]
    },
    "dd5b97e6e2e34f67a89048d301e3199f": {
     "views": [
      {
       "cell_index": 4
      }
     ]
    },
    "ffcba97b08a74ef1af77b3093382e975": {
     "views": [
      {
       "cell_index": 4
      }
     ]
    }
   },
   "version": "1.2.0"
  }
 },
 "nbformat": 4,
 "nbformat_minor": 2
}
